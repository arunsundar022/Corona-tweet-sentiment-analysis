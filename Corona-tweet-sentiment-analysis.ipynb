{
 "cells": [
  {
   "cell_type": "code",
   "execution_count": 1,
   "metadata": {
    "collapsed": true
   },
   "outputs": [],
   "source": [
    "import os\n",
    "import pandas as pd\n",
    "import numpy as np\n",
    "import matplotlib.pyplot as plt\n",
    "%matplotlib inline\n",
    "import seaborn as sns\n",
    "import warnings\n",
    "warnings.filterwarnings(\"ignore\", category=FutureWarning)"
   ]
  },
  {
   "cell_type": "code",
   "execution_count": 2,
   "metadata": {
    "collapsed": true
   },
   "outputs": [],
   "source": [
    "train = 'Data/Corona_NLP_train.csv'\n",
    "test = 'Data/Corona_NLP_test.csv'"
   ]
  },
  {
   "cell_type": "code",
   "execution_count": 3,
   "metadata": {},
   "outputs": [],
   "source": [
    "trainOriginal = pd.read_csv(train, encoding='latin-1')\n",
    "testOriginal = pd.read_csv(test, encoding= 'latin-1')"
   ]
  },
  {
   "cell_type": "code",
   "execution_count": 4,
   "metadata": {
    "collapsed": true
   },
   "outputs": [],
   "source": [
    "train = trainOriginal.copy()\n",
    "test = testOriginal.copy()"
   ]
  },
  {
   "cell_type": "code",
   "execution_count": 5,
   "metadata": {},
   "outputs": [
    {
     "data": {
      "text/html": [
       "<div>\n",
       "<style scoped>\n",
       "    .dataframe tbody tr th:only-of-type {\n",
       "        vertical-align: middle;\n",
       "    }\n",
       "\n",
       "    .dataframe tbody tr th {\n",
       "        vertical-align: top;\n",
       "    }\n",
       "\n",
       "    .dataframe thead th {\n",
       "        text-align: right;\n",
       "    }\n",
       "</style>\n",
       "<table border=\"1\" class=\"dataframe\">\n",
       "  <thead>\n",
       "    <tr style=\"text-align: right;\">\n",
       "      <th></th>\n",
       "      <th>UserName</th>\n",
       "      <th>ScreenName</th>\n",
       "      <th>Location</th>\n",
       "      <th>TweetAt</th>\n",
       "      <th>OriginalTweet</th>\n",
       "      <th>Sentiment</th>\n",
       "    </tr>\n",
       "  </thead>\n",
       "  <tbody>\n",
       "    <tr>\n",
       "      <th>0</th>\n",
       "      <td>3799</td>\n",
       "      <td>48751</td>\n",
       "      <td>London</td>\n",
       "      <td>16-03-2020</td>\n",
       "      <td>@MeNyrbie @Phil_Gahan @Chrisitv https://t.co/i...</td>\n",
       "      <td>Neutral</td>\n",
       "    </tr>\n",
       "    <tr>\n",
       "      <th>1</th>\n",
       "      <td>3800</td>\n",
       "      <td>48752</td>\n",
       "      <td>UK</td>\n",
       "      <td>16-03-2020</td>\n",
       "      <td>advice Talk to your neighbours family to excha...</td>\n",
       "      <td>Positive</td>\n",
       "    </tr>\n",
       "    <tr>\n",
       "      <th>2</th>\n",
       "      <td>3801</td>\n",
       "      <td>48753</td>\n",
       "      <td>Vagabonds</td>\n",
       "      <td>16-03-2020</td>\n",
       "      <td>Coronavirus Australia: Woolworths to give elde...</td>\n",
       "      <td>Positive</td>\n",
       "    </tr>\n",
       "    <tr>\n",
       "      <th>3</th>\n",
       "      <td>3802</td>\n",
       "      <td>48754</td>\n",
       "      <td>NaN</td>\n",
       "      <td>16-03-2020</td>\n",
       "      <td>My food stock is not the only one which is emp...</td>\n",
       "      <td>Positive</td>\n",
       "    </tr>\n",
       "    <tr>\n",
       "      <th>4</th>\n",
       "      <td>3803</td>\n",
       "      <td>48755</td>\n",
       "      <td>NaN</td>\n",
       "      <td>16-03-2020</td>\n",
       "      <td>Me, ready to go at supermarket during the #COV...</td>\n",
       "      <td>Extremely Negative</td>\n",
       "    </tr>\n",
       "  </tbody>\n",
       "</table>\n",
       "</div>"
      ],
      "text/plain": [
       "   UserName  ScreenName   Location     TweetAt  \\\n",
       "0      3799       48751     London  16-03-2020   \n",
       "1      3800       48752         UK  16-03-2020   \n",
       "2      3801       48753  Vagabonds  16-03-2020   \n",
       "3      3802       48754        NaN  16-03-2020   \n",
       "4      3803       48755        NaN  16-03-2020   \n",
       "\n",
       "                                       OriginalTweet           Sentiment  \n",
       "0  @MeNyrbie @Phil_Gahan @Chrisitv https://t.co/i...             Neutral  \n",
       "1  advice Talk to your neighbours family to excha...            Positive  \n",
       "2  Coronavirus Australia: Woolworths to give elde...            Positive  \n",
       "3  My food stock is not the only one which is emp...            Positive  \n",
       "4  Me, ready to go at supermarket during the #COV...  Extremely Negative  "
      ]
     },
     "execution_count": 5,
     "metadata": {},
     "output_type": "execute_result"
    }
   ],
   "source": [
    "train.head()"
   ]
  },
  {
   "cell_type": "code",
   "execution_count": 6,
   "metadata": {},
   "outputs": [
    {
     "data": {
      "text/html": [
       "<div>\n",
       "<style scoped>\n",
       "    .dataframe tbody tr th:only-of-type {\n",
       "        vertical-align: middle;\n",
       "    }\n",
       "\n",
       "    .dataframe tbody tr th {\n",
       "        vertical-align: top;\n",
       "    }\n",
       "\n",
       "    .dataframe thead th {\n",
       "        text-align: right;\n",
       "    }\n",
       "</style>\n",
       "<table border=\"1\" class=\"dataframe\">\n",
       "  <thead>\n",
       "    <tr style=\"text-align: right;\">\n",
       "      <th></th>\n",
       "      <th>UserName</th>\n",
       "      <th>ScreenName</th>\n",
       "      <th>Location</th>\n",
       "      <th>TweetAt</th>\n",
       "      <th>OriginalTweet</th>\n",
       "      <th>Sentiment</th>\n",
       "    </tr>\n",
       "  </thead>\n",
       "  <tbody>\n",
       "    <tr>\n",
       "      <th>0</th>\n",
       "      <td>1</td>\n",
       "      <td>44953</td>\n",
       "      <td>NYC</td>\n",
       "      <td>02-03-2020</td>\n",
       "      <td>TRENDING: New Yorkers encounter empty supermar...</td>\n",
       "      <td>Extremely Negative</td>\n",
       "    </tr>\n",
       "    <tr>\n",
       "      <th>1</th>\n",
       "      <td>2</td>\n",
       "      <td>44954</td>\n",
       "      <td>Seattle, WA</td>\n",
       "      <td>02-03-2020</td>\n",
       "      <td>When I couldn't find hand sanitizer at Fred Me...</td>\n",
       "      <td>Positive</td>\n",
       "    </tr>\n",
       "    <tr>\n",
       "      <th>2</th>\n",
       "      <td>3</td>\n",
       "      <td>44955</td>\n",
       "      <td>NaN</td>\n",
       "      <td>02-03-2020</td>\n",
       "      <td>Find out how you can protect yourself and love...</td>\n",
       "      <td>Extremely Positive</td>\n",
       "    </tr>\n",
       "    <tr>\n",
       "      <th>3</th>\n",
       "      <td>4</td>\n",
       "      <td>44956</td>\n",
       "      <td>Chicagoland</td>\n",
       "      <td>02-03-2020</td>\n",
       "      <td>#Panic buying hits #NewYork City as anxious sh...</td>\n",
       "      <td>Negative</td>\n",
       "    </tr>\n",
       "    <tr>\n",
       "      <th>4</th>\n",
       "      <td>5</td>\n",
       "      <td>44957</td>\n",
       "      <td>Melbourne, Victoria</td>\n",
       "      <td>03-03-2020</td>\n",
       "      <td>#toiletpaper #dunnypaper #coronavirus #coronav...</td>\n",
       "      <td>Neutral</td>\n",
       "    </tr>\n",
       "  </tbody>\n",
       "</table>\n",
       "</div>"
      ],
      "text/plain": [
       "   UserName  ScreenName             Location     TweetAt  \\\n",
       "0         1       44953                  NYC  02-03-2020   \n",
       "1         2       44954          Seattle, WA  02-03-2020   \n",
       "2         3       44955                  NaN  02-03-2020   \n",
       "3         4       44956          Chicagoland  02-03-2020   \n",
       "4         5       44957  Melbourne, Victoria  03-03-2020   \n",
       "\n",
       "                                       OriginalTweet           Sentiment  \n",
       "0  TRENDING: New Yorkers encounter empty supermar...  Extremely Negative  \n",
       "1  When I couldn't find hand sanitizer at Fred Me...            Positive  \n",
       "2  Find out how you can protect yourself and love...  Extremely Positive  \n",
       "3  #Panic buying hits #NewYork City as anxious sh...            Negative  \n",
       "4  #toiletpaper #dunnypaper #coronavirus #coronav...             Neutral  "
      ]
     },
     "execution_count": 6,
     "metadata": {},
     "output_type": "execute_result"
    }
   ],
   "source": [
    "test.head()"
   ]
  },
  {
   "cell_type": "code",
   "execution_count": 7,
   "metadata": {},
   "outputs": [
    {
     "data": {
      "text/plain": [
       "UserName            0\n",
       "ScreenName          0\n",
       "Location         8590\n",
       "TweetAt             0\n",
       "OriginalTweet       0\n",
       "Sentiment           0\n",
       "dtype: int64"
      ]
     },
     "execution_count": 7,
     "metadata": {},
     "output_type": "execute_result"
    }
   ],
   "source": [
    "train.isnull().sum()"
   ]
  },
  {
   "cell_type": "code",
   "execution_count": 8,
   "metadata": {},
   "outputs": [
    {
     "name": "stdout",
     "output_type": "stream",
     "text": [
      "<class 'pandas.core.frame.DataFrame'>\n",
      "RangeIndex: 41157 entries, 0 to 41156\n",
      "Data columns (total 6 columns):\n",
      " #   Column         Non-Null Count  Dtype \n",
      "---  ------         --------------  ----- \n",
      " 0   UserName       41157 non-null  int64 \n",
      " 1   ScreenName     41157 non-null  int64 \n",
      " 2   Location       32567 non-null  object\n",
      " 3   TweetAt        41157 non-null  object\n",
      " 4   OriginalTweet  41157 non-null  object\n",
      " 5   Sentiment      41157 non-null  object\n",
      "dtypes: int64(2), object(4)\n",
      "memory usage: 1.9+ MB\n"
     ]
    }
   ],
   "source": [
    "train.info()"
   ]
  },
  {
   "cell_type": "code",
   "execution_count": 9,
   "metadata": {},
   "outputs": [
    {
     "data": {
      "text/plain": [
       "London                     540\n",
       "United States              528\n",
       "London, England            520\n",
       "New York, NY               395\n",
       "Washington, DC             373\n",
       "United Kingdom             337\n",
       "Los Angeles, CA            281\n",
       "India                      268\n",
       "UK                         232\n",
       "Australia                  225\n",
       "USA                        223\n",
       "Canada                     191\n",
       "England, United Kingdom    191\n",
       "Toronto, Ontario           160\n",
       "Global                     159\n",
       "Chicago, IL                155\n",
       "California, USA            153\n",
       "San Francisco, CA          152\n",
       "Boston, MA                 150\n",
       "New York, USA              140\n",
       "New Delhi, India           138\n",
       "Atlanta, GA                126\n",
       "New York                   126\n",
       "Mumbai, India              109\n",
       "Worldwide                  101\n",
       "Lagos, Nigeria              99\n",
       "Texas, USA                  98\n",
       "Austin, TX                  98\n",
       "Houston, TX                 98\n",
       "London, UK                  96\n",
       "Toronto                     91\n",
       "Los Angeles                 89\n",
       "Nairobi, Kenya              88\n",
       "New York City               87\n",
       "Singapore                   87\n",
       "Philadelphia, PA            84\n",
       "Florida, USA                84\n",
       "Nigeria                     83\n",
       "South Africa                83\n",
       "Washington, D.C.            80\n",
       "Seattle, WA                 78\n",
       "Sydney, New South Wales     78\n",
       "Mumbai                      76\n",
       "Earth                       75\n",
       "New Zealand                 74\n",
       "San Diego, CA               71\n",
       "Melbourne, Victoria         70\n",
       "Dallas, TX                  68\n",
       "Sydney, Australia           66\n",
       "Las Vegas, NV               64\n",
       "Ireland                     61\n",
       "Chicago                     60\n",
       "Denver, CO                  60\n",
       "NYC                         58\n",
       "New Jersey, USA             58\n",
       "Brooklyn, NY                57\n",
       "Melbourne, Australia        56\n",
       "Ontario, Canada             55\n",
       "England                     55\n",
       "Manchester, England         54\n",
       "Name: Location, dtype: int64"
      ]
     },
     "execution_count": 9,
     "metadata": {},
     "output_type": "execute_result"
    }
   ],
   "source": [
    "train['Location'].value_counts()[:60]"
   ]
  },
  {
   "cell_type": "code",
   "execution_count": 10,
   "metadata": {
    "collapsed": true
   },
   "outputs": [],
   "source": [
    "train['Location'] = train['Location'].str.split(\",\").str[0]\n",
    "test['Location'] = test['Location'].str.split(\",\").str[0]"
   ]
  },
  {
   "cell_type": "code",
   "execution_count": 11,
   "metadata": {},
   "outputs": [
    {
     "data": {
      "text/plain": [
       "London            1247\n",
       "New York           709\n",
       "United States      530\n",
       "Washington         504\n",
       "Los Angeles        402\n",
       "Toronto            346\n",
       "United Kingdom     342\n",
       "India              276\n",
       "Chicago            262\n",
       "England            255\n",
       "UK                 246\n",
       "USA                231\n",
       "Australia          230\n",
       "California         211\n",
       "San Francisco      206\n",
       "Sydney             202\n",
       "New Delhi          201\n",
       "Melbourne          199\n",
       "Canada             198\n",
       "Boston             197\n",
       "Mumbai             197\n",
       "Atlanta            165\n",
       "Global             159\n",
       "Houston            156\n",
       "Texas              145\n",
       "Lagos              136\n",
       "Austin             130\n",
       "Florida            121\n",
       "Seattle            120\n",
       "Nairobi            117\n",
       "Dallas             115\n",
       "Philadelphia       114\n",
       "Manchester         111\n",
       "Vancouver          106\n",
       "Scotland           104\n",
       "New Jersey         103\n",
       "Worldwide          101\n",
       "San Diego           99\n",
       "New York City       95\n",
       "Dubai               91\n",
       "Singapore           88\n",
       "South Africa        87\n",
       "Denver              86\n",
       "Portland            86\n",
       "Earth               84\n",
       "Nigeria             83\n",
       "Las Vegas           79\n",
       "Johannesburg        78\n",
       "Michigan            76\n",
       "Ottawa              76\n",
       "Brooklyn            75\n",
       "New Zealand         74\n",
       "Paris               74\n",
       "Ontario             72\n",
       "Miami               72\n",
       "Birmingham          72\n",
       "Calgary             70\n",
       "NYC                 69\n",
       "Victoria            67\n",
       "Phoenix             65\n",
       "Name: Location, dtype: int64"
      ]
     },
     "execution_count": 11,
     "metadata": {},
     "output_type": "execute_result"
    }
   ],
   "source": [
    "train['Location'].value_counts()[:60]"
   ]
  },
  {
   "cell_type": "code",
   "execution_count": 12,
   "metadata": {},
   "outputs": [
    {
     "data": {
      "text/plain": [
       "20-03-2020    3448\n",
       "19-03-2020    3215\n",
       "25-03-2020    2979\n",
       "18-03-2020    2742\n",
       "21-03-2020    2653\n",
       "22-03-2020    2114\n",
       "23-03-2020    2062\n",
       "17-03-2020    1977\n",
       "08-04-2020    1881\n",
       "07-04-2020    1843\n",
       "06-04-2020    1742\n",
       "24-03-2020    1480\n",
       "09-04-2020    1471\n",
       "13-04-2020    1428\n",
       "26-03-2020    1277\n",
       "05-04-2020    1131\n",
       "10-04-2020    1005\n",
       "02-04-2020     954\n",
       "11-04-2020     909\n",
       "03-04-2020     810\n",
       "12-04-2020     803\n",
       "04-04-2020     767\n",
       "16-03-2020     656\n",
       "01-04-2020     630\n",
       "27-03-2020     345\n",
       "31-03-2020     316\n",
       "14-04-2020     284\n",
       "29-03-2020     125\n",
       "30-03-2020      87\n",
       "28-03-2020      23\n",
       "Name: TweetAt, dtype: int64"
      ]
     },
     "execution_count": 12,
     "metadata": {},
     "output_type": "execute_result"
    }
   ],
   "source": [
    "train['TweetAt'].value_counts()"
   ]
  },
  {
   "cell_type": "code",
   "execution_count": 13,
   "metadata": {},
   "outputs": [
    {
     "data": {
      "text/plain": [
       "Positive              11422\n",
       "Negative               9917\n",
       "Neutral                7713\n",
       "Extremely Positive     6624\n",
       "Extremely Negative     5481\n",
       "Name: Sentiment, dtype: int64"
      ]
     },
     "execution_count": 13,
     "metadata": {},
     "output_type": "execute_result"
    }
   ],
   "source": [
    "train['Sentiment'].value_counts()"
   ]
  },
  {
   "cell_type": "code",
   "execution_count": 14,
   "metadata": {
    "collapsed": true
   },
   "outputs": [],
   "source": [
    "train['id']= 0\n",
    "test['id']=1\n",
    "covid = pd.concat([train,test])\n",
    "covid.reset_index(drop = True , inplace= True)\n"
   ]
  },
  {
   "cell_type": "code",
   "execution_count": 15,
   "metadata": {},
   "outputs": [
    {
     "data": {
      "text/html": [
       "<div>\n",
       "<style scoped>\n",
       "    .dataframe tbody tr th:only-of-type {\n",
       "        vertical-align: middle;\n",
       "    }\n",
       "\n",
       "    .dataframe tbody tr th {\n",
       "        vertical-align: top;\n",
       "    }\n",
       "\n",
       "    .dataframe thead th {\n",
       "        text-align: right;\n",
       "    }\n",
       "</style>\n",
       "<table border=\"1\" class=\"dataframe\">\n",
       "  <thead>\n",
       "    <tr style=\"text-align: right;\">\n",
       "      <th></th>\n",
       "      <th>UserName</th>\n",
       "      <th>ScreenName</th>\n",
       "      <th>Location</th>\n",
       "      <th>TweetAt</th>\n",
       "      <th>OriginalTweet</th>\n",
       "      <th>Sentiment</th>\n",
       "      <th>id</th>\n",
       "    </tr>\n",
       "  </thead>\n",
       "  <tbody>\n",
       "    <tr>\n",
       "      <th>0</th>\n",
       "      <td>3799</td>\n",
       "      <td>48751</td>\n",
       "      <td>London</td>\n",
       "      <td>16-03-2020</td>\n",
       "      <td>@MeNyrbie @Phil_Gahan @Chrisitv https://t.co/i...</td>\n",
       "      <td>Neutral</td>\n",
       "      <td>0</td>\n",
       "    </tr>\n",
       "    <tr>\n",
       "      <th>1</th>\n",
       "      <td>3800</td>\n",
       "      <td>48752</td>\n",
       "      <td>UK</td>\n",
       "      <td>16-03-2020</td>\n",
       "      <td>advice Talk to your neighbours family to excha...</td>\n",
       "      <td>Positive</td>\n",
       "      <td>0</td>\n",
       "    </tr>\n",
       "    <tr>\n",
       "      <th>2</th>\n",
       "      <td>3801</td>\n",
       "      <td>48753</td>\n",
       "      <td>Vagabonds</td>\n",
       "      <td>16-03-2020</td>\n",
       "      <td>Coronavirus Australia: Woolworths to give elde...</td>\n",
       "      <td>Positive</td>\n",
       "      <td>0</td>\n",
       "    </tr>\n",
       "    <tr>\n",
       "      <th>3</th>\n",
       "      <td>3802</td>\n",
       "      <td>48754</td>\n",
       "      <td>NaN</td>\n",
       "      <td>16-03-2020</td>\n",
       "      <td>My food stock is not the only one which is emp...</td>\n",
       "      <td>Positive</td>\n",
       "      <td>0</td>\n",
       "    </tr>\n",
       "    <tr>\n",
       "      <th>4</th>\n",
       "      <td>3803</td>\n",
       "      <td>48755</td>\n",
       "      <td>NaN</td>\n",
       "      <td>16-03-2020</td>\n",
       "      <td>Me, ready to go at supermarket during the #COV...</td>\n",
       "      <td>Extremely Negative</td>\n",
       "      <td>0</td>\n",
       "    </tr>\n",
       "  </tbody>\n",
       "</table>\n",
       "</div>"
      ],
      "text/plain": [
       "   UserName  ScreenName   Location     TweetAt  \\\n",
       "0      3799       48751     London  16-03-2020   \n",
       "1      3800       48752         UK  16-03-2020   \n",
       "2      3801       48753  Vagabonds  16-03-2020   \n",
       "3      3802       48754        NaN  16-03-2020   \n",
       "4      3803       48755        NaN  16-03-2020   \n",
       "\n",
       "                                       OriginalTweet           Sentiment  id  \n",
       "0  @MeNyrbie @Phil_Gahan @Chrisitv https://t.co/i...             Neutral   0  \n",
       "1  advice Talk to your neighbours family to excha...            Positive   0  \n",
       "2  Coronavirus Australia: Woolworths to give elde...            Positive   0  \n",
       "3  My food stock is not the only one which is emp...            Positive   0  \n",
       "4  Me, ready to go at supermarket during the #COV...  Extremely Negative   0  "
      ]
     },
     "execution_count": 15,
     "metadata": {},
     "output_type": "execute_result"
    }
   ],
   "source": [
    "covid.head()"
   ]
  },
  {
   "cell_type": "code",
   "execution_count": 16,
   "metadata": {
    "collapsed": true
   },
   "outputs": [],
   "source": [
    "covid['Sentiment']= covid['Sentiment'].str.replace('Extremely Positive','Positive')\n",
    "covid['Sentiment']= covid['Sentiment'].str.replace('Extremely Negative','Negative')\n"
   ]
  },
  {
   "cell_type": "code",
   "execution_count": 17,
   "metadata": {},
   "outputs": [
    {
     "data": {
      "text/html": [
       "<div>\n",
       "<style scoped>\n",
       "    .dataframe tbody tr th:only-of-type {\n",
       "        vertical-align: middle;\n",
       "    }\n",
       "\n",
       "    .dataframe tbody tr th {\n",
       "        vertical-align: top;\n",
       "    }\n",
       "\n",
       "    .dataframe thead th {\n",
       "        text-align: right;\n",
       "    }\n",
       "</style>\n",
       "<table border=\"1\" class=\"dataframe\">\n",
       "  <thead>\n",
       "    <tr style=\"text-align: right;\">\n",
       "      <th></th>\n",
       "      <th>UserName</th>\n",
       "      <th>ScreenName</th>\n",
       "      <th>Location</th>\n",
       "      <th>TweetAt</th>\n",
       "      <th>OriginalTweet</th>\n",
       "      <th>Sentiment</th>\n",
       "      <th>id</th>\n",
       "    </tr>\n",
       "  </thead>\n",
       "  <tbody>\n",
       "    <tr>\n",
       "      <th>0</th>\n",
       "      <td>3799</td>\n",
       "      <td>48751</td>\n",
       "      <td>London</td>\n",
       "      <td>16-03-2020</td>\n",
       "      <td>@MeNyrbie @Phil_Gahan @Chrisitv https://t.co/i...</td>\n",
       "      <td>Neutral</td>\n",
       "      <td>0</td>\n",
       "    </tr>\n",
       "    <tr>\n",
       "      <th>1</th>\n",
       "      <td>3800</td>\n",
       "      <td>48752</td>\n",
       "      <td>UK</td>\n",
       "      <td>16-03-2020</td>\n",
       "      <td>advice Talk to your neighbours family to excha...</td>\n",
       "      <td>Positive</td>\n",
       "      <td>0</td>\n",
       "    </tr>\n",
       "    <tr>\n",
       "      <th>2</th>\n",
       "      <td>3801</td>\n",
       "      <td>48753</td>\n",
       "      <td>Vagabonds</td>\n",
       "      <td>16-03-2020</td>\n",
       "      <td>Coronavirus Australia: Woolworths to give elde...</td>\n",
       "      <td>Positive</td>\n",
       "      <td>0</td>\n",
       "    </tr>\n",
       "    <tr>\n",
       "      <th>3</th>\n",
       "      <td>3802</td>\n",
       "      <td>48754</td>\n",
       "      <td>NaN</td>\n",
       "      <td>16-03-2020</td>\n",
       "      <td>My food stock is not the only one which is emp...</td>\n",
       "      <td>Positive</td>\n",
       "      <td>0</td>\n",
       "    </tr>\n",
       "    <tr>\n",
       "      <th>4</th>\n",
       "      <td>3803</td>\n",
       "      <td>48755</td>\n",
       "      <td>NaN</td>\n",
       "      <td>16-03-2020</td>\n",
       "      <td>Me, ready to go at supermarket during the #COV...</td>\n",
       "      <td>Negative</td>\n",
       "      <td>0</td>\n",
       "    </tr>\n",
       "    <tr>\n",
       "      <th>5</th>\n",
       "      <td>3804</td>\n",
       "      <td>48756</td>\n",
       "      <td>ÃT: 36.319708</td>\n",
       "      <td>16-03-2020</td>\n",
       "      <td>As news of the regionÂs first confirmed COVID...</td>\n",
       "      <td>Positive</td>\n",
       "      <td>0</td>\n",
       "    </tr>\n",
       "    <tr>\n",
       "      <th>6</th>\n",
       "      <td>3805</td>\n",
       "      <td>48757</td>\n",
       "      <td>35.926541</td>\n",
       "      <td>16-03-2020</td>\n",
       "      <td>Cashier at grocery store was sharing his insig...</td>\n",
       "      <td>Positive</td>\n",
       "      <td>0</td>\n",
       "    </tr>\n",
       "    <tr>\n",
       "      <th>7</th>\n",
       "      <td>3806</td>\n",
       "      <td>48758</td>\n",
       "      <td>Austria</td>\n",
       "      <td>16-03-2020</td>\n",
       "      <td>Was at the supermarket today. Didn't buy toile...</td>\n",
       "      <td>Neutral</td>\n",
       "      <td>0</td>\n",
       "    </tr>\n",
       "    <tr>\n",
       "      <th>8</th>\n",
       "      <td>3807</td>\n",
       "      <td>48759</td>\n",
       "      <td>Atlanta</td>\n",
       "      <td>16-03-2020</td>\n",
       "      <td>Due to COVID-19 our retail store and classroom...</td>\n",
       "      <td>Positive</td>\n",
       "      <td>0</td>\n",
       "    </tr>\n",
       "    <tr>\n",
       "      <th>9</th>\n",
       "      <td>3808</td>\n",
       "      <td>48760</td>\n",
       "      <td>BHAVNAGAR</td>\n",
       "      <td>16-03-2020</td>\n",
       "      <td>For corona prevention,we should stop to buy th...</td>\n",
       "      <td>Negative</td>\n",
       "      <td>0</td>\n",
       "    </tr>\n",
       "    <tr>\n",
       "      <th>10</th>\n",
       "      <td>3809</td>\n",
       "      <td>48761</td>\n",
       "      <td>Makati</td>\n",
       "      <td>16-03-2020</td>\n",
       "      <td>All month there hasn't been crowding in the su...</td>\n",
       "      <td>Neutral</td>\n",
       "      <td>0</td>\n",
       "    </tr>\n",
       "    <tr>\n",
       "      <th>11</th>\n",
       "      <td>3810</td>\n",
       "      <td>48762</td>\n",
       "      <td>Pitt Meadows</td>\n",
       "      <td>16-03-2020</td>\n",
       "      <td>Due to the Covid-19 situation, we have increas...</td>\n",
       "      <td>Positive</td>\n",
       "      <td>0</td>\n",
       "    </tr>\n",
       "    <tr>\n",
       "      <th>12</th>\n",
       "      <td>3811</td>\n",
       "      <td>48763</td>\n",
       "      <td>Horningsea</td>\n",
       "      <td>16-03-2020</td>\n",
       "      <td>#horningsea is a caring community. LetÂs ALL ...</td>\n",
       "      <td>Positive</td>\n",
       "      <td>0</td>\n",
       "    </tr>\n",
       "    <tr>\n",
       "      <th>13</th>\n",
       "      <td>3812</td>\n",
       "      <td>48764</td>\n",
       "      <td>Chicago</td>\n",
       "      <td>16-03-2020</td>\n",
       "      <td>Me: I don't need to stock up on food, I'll jus...</td>\n",
       "      <td>Positive</td>\n",
       "      <td>0</td>\n",
       "    </tr>\n",
       "    <tr>\n",
       "      <th>14</th>\n",
       "      <td>3813</td>\n",
       "      <td>48765</td>\n",
       "      <td>NaN</td>\n",
       "      <td>16-03-2020</td>\n",
       "      <td>ADARA Releases COVID-19 Resource Center for Tr...</td>\n",
       "      <td>Positive</td>\n",
       "      <td>0</td>\n",
       "    </tr>\n",
       "    <tr>\n",
       "      <th>15</th>\n",
       "      <td>3814</td>\n",
       "      <td>48766</td>\n",
       "      <td>Houston</td>\n",
       "      <td>16-03-2020</td>\n",
       "      <td>Lines at the grocery store have been unpredict...</td>\n",
       "      <td>Positive</td>\n",
       "      <td>0</td>\n",
       "    </tr>\n",
       "    <tr>\n",
       "      <th>16</th>\n",
       "      <td>3815</td>\n",
       "      <td>48767</td>\n",
       "      <td>Saudi Arabia</td>\n",
       "      <td>16-03-2020</td>\n",
       "      <td>????? ????? ????? ????? ??\\r\\r\\n?????? ????? ?...</td>\n",
       "      <td>Neutral</td>\n",
       "      <td>0</td>\n",
       "    </tr>\n",
       "    <tr>\n",
       "      <th>17</th>\n",
       "      <td>3816</td>\n",
       "      <td>48768</td>\n",
       "      <td>Ontario</td>\n",
       "      <td>16-03-2020</td>\n",
       "      <td>@eyeonthearctic 16MAR20 Russia consumer survei...</td>\n",
       "      <td>Neutral</td>\n",
       "      <td>0</td>\n",
       "    </tr>\n",
       "    <tr>\n",
       "      <th>18</th>\n",
       "      <td>3817</td>\n",
       "      <td>48769</td>\n",
       "      <td>North America</td>\n",
       "      <td>16-03-2020</td>\n",
       "      <td>Amazon Glitch Stymies Whole Foods, Fresh Groce...</td>\n",
       "      <td>Positive</td>\n",
       "      <td>0</td>\n",
       "    </tr>\n",
       "    <tr>\n",
       "      <th>19</th>\n",
       "      <td>3818</td>\n",
       "      <td>48770</td>\n",
       "      <td>Denver</td>\n",
       "      <td>16-03-2020</td>\n",
       "      <td>For those who aren't struggling, please consid...</td>\n",
       "      <td>Positive</td>\n",
       "      <td>0</td>\n",
       "    </tr>\n",
       "    <tr>\n",
       "      <th>20</th>\n",
       "      <td>3819</td>\n",
       "      <td>48771</td>\n",
       "      <td>southampton soxx xxx</td>\n",
       "      <td>16-03-2020</td>\n",
       "      <td>with 100  nations inficted with  covid  19  th...</td>\n",
       "      <td>Negative</td>\n",
       "      <td>0</td>\n",
       "    </tr>\n",
       "    <tr>\n",
       "      <th>21</th>\n",
       "      <td>3820</td>\n",
       "      <td>48772</td>\n",
       "      <td>Global</td>\n",
       "      <td>16-03-2020</td>\n",
       "      <td>https://t.co/AVKrR9syff\\r\\r\\n\\r\\r\\nThe COVID-1...</td>\n",
       "      <td>Neutral</td>\n",
       "      <td>0</td>\n",
       "    </tr>\n",
       "    <tr>\n",
       "      <th>22</th>\n",
       "      <td>3821</td>\n",
       "      <td>48773</td>\n",
       "      <td>NaN</td>\n",
       "      <td>16-03-2020</td>\n",
       "      <td>We have AMAZING CHEAP DEALS! FOR THE #COVID201...</td>\n",
       "      <td>Positive</td>\n",
       "      <td>0</td>\n",
       "    </tr>\n",
       "    <tr>\n",
       "      <th>23</th>\n",
       "      <td>3822</td>\n",
       "      <td>48774</td>\n",
       "      <td>NaN</td>\n",
       "      <td>16-03-2020</td>\n",
       "      <td>We have AMAZING CHEAP DEALS! FOR THE #COVID201...</td>\n",
       "      <td>Positive</td>\n",
       "      <td>0</td>\n",
       "    </tr>\n",
       "    <tr>\n",
       "      <th>24</th>\n",
       "      <td>3823</td>\n",
       "      <td>48775</td>\n",
       "      <td>Downstage centre</td>\n",
       "      <td>16-03-2020</td>\n",
       "      <td>@10DowningStreet @grantshapps what is being do...</td>\n",
       "      <td>Negative</td>\n",
       "      <td>0</td>\n",
       "    </tr>\n",
       "    <tr>\n",
       "      <th>25</th>\n",
       "      <td>3824</td>\n",
       "      <td>48776</td>\n",
       "      <td>London</td>\n",
       "      <td>16-03-2020</td>\n",
       "      <td>UK #consumer poll indicates the majority expec...</td>\n",
       "      <td>Positive</td>\n",
       "      <td>0</td>\n",
       "    </tr>\n",
       "    <tr>\n",
       "      <th>26</th>\n",
       "      <td>3825</td>\n",
       "      <td>48777</td>\n",
       "      <td>Ketchum</td>\n",
       "      <td>16-03-2020</td>\n",
       "      <td>In preparation for higher demand and a potenti...</td>\n",
       "      <td>Negative</td>\n",
       "      <td>0</td>\n",
       "    </tr>\n",
       "    <tr>\n",
       "      <th>27</th>\n",
       "      <td>3826</td>\n",
       "      <td>48778</td>\n",
       "      <td>Everywhere You Are!</td>\n",
       "      <td>16-03-2020</td>\n",
       "      <td>This morning I tested positive for Covid 19. I...</td>\n",
       "      <td>Negative</td>\n",
       "      <td>0</td>\n",
       "    </tr>\n",
       "    <tr>\n",
       "      <th>28</th>\n",
       "      <td>3827</td>\n",
       "      <td>48779</td>\n",
       "      <td>New York</td>\n",
       "      <td>16-03-2020</td>\n",
       "      <td>Do you see malicious price increases in NYC? T...</td>\n",
       "      <td>Negative</td>\n",
       "      <td>0</td>\n",
       "    </tr>\n",
       "    <tr>\n",
       "      <th>29</th>\n",
       "      <td>3828</td>\n",
       "      <td>48780</td>\n",
       "      <td>Someplace</td>\n",
       "      <td>16-03-2020</td>\n",
       "      <td>@7SealsOfTheEnd Soon with dwindling supplies u...</td>\n",
       "      <td>Negative</td>\n",
       "      <td>0</td>\n",
       "    </tr>\n",
       "    <tr>\n",
       "      <th>30</th>\n",
       "      <td>3829</td>\n",
       "      <td>48781</td>\n",
       "      <td>NaN</td>\n",
       "      <td>16-03-2020</td>\n",
       "      <td>There Is of in the Country  The more empty she...</td>\n",
       "      <td>Negative</td>\n",
       "      <td>0</td>\n",
       "    </tr>\n",
       "    <tr>\n",
       "      <th>31</th>\n",
       "      <td>3830</td>\n",
       "      <td>48782</td>\n",
       "      <td>NaN</td>\n",
       "      <td>16-03-2020</td>\n",
       "      <td>'Hole' Foods...\\r\\r\\n\\r\\r\\n...images from the ...</td>\n",
       "      <td>Positive</td>\n",
       "      <td>0</td>\n",
       "    </tr>\n",
       "    <tr>\n",
       "      <th>32</th>\n",
       "      <td>3831</td>\n",
       "      <td>48783</td>\n",
       "      <td>Markham</td>\n",
       "      <td>16-03-2020</td>\n",
       "      <td>Retail store closures could explode because of...</td>\n",
       "      <td>Neutral</td>\n",
       "      <td>0</td>\n",
       "    </tr>\n",
       "    <tr>\n",
       "      <th>33</th>\n",
       "      <td>3832</td>\n",
       "      <td>48784</td>\n",
       "      <td>Virginia</td>\n",
       "      <td>16-03-2020</td>\n",
       "      <td>Coronavirus fun fact: if you cough at the groc...</td>\n",
       "      <td>Positive</td>\n",
       "      <td>0</td>\n",
       "    </tr>\n",
       "    <tr>\n",
       "      <th>34</th>\n",
       "      <td>3833</td>\n",
       "      <td>48785</td>\n",
       "      <td>London</td>\n",
       "      <td>16-03-2020</td>\n",
       "      <td>We're sorry to say that our @FinFabUK event is...</td>\n",
       "      <td>Negative</td>\n",
       "      <td>0</td>\n",
       "    </tr>\n",
       "    <tr>\n",
       "      <th>35</th>\n",
       "      <td>3834</td>\n",
       "      <td>48786</td>\n",
       "      <td>Sverige</td>\n",
       "      <td>16-03-2020</td>\n",
       "      <td>Went to the supermarket yesterday and the toil...</td>\n",
       "      <td>Neutral</td>\n",
       "      <td>0</td>\n",
       "    </tr>\n",
       "    <tr>\n",
       "      <th>36</th>\n",
       "      <td>3835</td>\n",
       "      <td>48787</td>\n",
       "      <td>Where The Wild Things Are</td>\n",
       "      <td>16-03-2020</td>\n",
       "      <td>Yes, buy only what you need.\\r\\r\\n\\r\\r\\nBut wh...</td>\n",
       "      <td>Positive</td>\n",
       "      <td>0</td>\n",
       "    </tr>\n",
       "    <tr>\n",
       "      <th>37</th>\n",
       "      <td>3836</td>\n",
       "      <td>48788</td>\n",
       "      <td>Canada</td>\n",
       "      <td>16-03-2020</td>\n",
       "      <td>Worried about the impact of the current COVID-...</td>\n",
       "      <td>Positive</td>\n",
       "      <td>0</td>\n",
       "    </tr>\n",
       "    <tr>\n",
       "      <th>38</th>\n",
       "      <td>3837</td>\n",
       "      <td>48789</td>\n",
       "      <td>NaN</td>\n",
       "      <td>16-03-2020</td>\n",
       "      <td>my wife works retail&amp;amp;a customer came in ye...</td>\n",
       "      <td>Negative</td>\n",
       "      <td>0</td>\n",
       "    </tr>\n",
       "    <tr>\n",
       "      <th>39</th>\n",
       "      <td>3838</td>\n",
       "      <td>48790</td>\n",
       "      <td>United States</td>\n",
       "      <td>16-03-2020</td>\n",
       "      <td>Now I can go to the supermarket like this with...</td>\n",
       "      <td>Positive</td>\n",
       "      <td>0</td>\n",
       "    </tr>\n",
       "    <tr>\n",
       "      <th>40</th>\n",
       "      <td>3839</td>\n",
       "      <td>48791</td>\n",
       "      <td>Fort Worth</td>\n",
       "      <td>16-03-2020</td>\n",
       "      <td>We're here to provide a safe shopping experien...</td>\n",
       "      <td>Positive</td>\n",
       "      <td>0</td>\n",
       "    </tr>\n",
       "    <tr>\n",
       "      <th>41</th>\n",
       "      <td>3840</td>\n",
       "      <td>48792</td>\n",
       "      <td>NaN</td>\n",
       "      <td>16-03-2020</td>\n",
       "      <td>Curious,  do we think retail shoppers will do ...</td>\n",
       "      <td>Positive</td>\n",
       "      <td>0</td>\n",
       "    </tr>\n",
       "    <tr>\n",
       "      <th>42</th>\n",
       "      <td>3841</td>\n",
       "      <td>48793</td>\n",
       "      <td>Houston</td>\n",
       "      <td>16-03-2020</td>\n",
       "      <td>CHECK VIDEO ?? https://t.co/1ksn9Brl02 ??No fo...</td>\n",
       "      <td>Negative</td>\n",
       "      <td>0</td>\n",
       "    </tr>\n",
       "    <tr>\n",
       "      <th>43</th>\n",
       "      <td>3842</td>\n",
       "      <td>48794</td>\n",
       "      <td>Vancouver</td>\n",
       "      <td>16-03-2020</td>\n",
       "      <td>Breaking Story: Online clothes shopping rises ...</td>\n",
       "      <td>Neutral</td>\n",
       "      <td>0</td>\n",
       "    </tr>\n",
       "    <tr>\n",
       "      <th>44</th>\n",
       "      <td>3843</td>\n",
       "      <td>48795</td>\n",
       "      <td>NaN</td>\n",
       "      <td>16-03-2020</td>\n",
       "      <td>This is the line outside  @Target  in as custo...</td>\n",
       "      <td>Neutral</td>\n",
       "      <td>0</td>\n",
       "    </tr>\n",
       "    <tr>\n",
       "      <th>45</th>\n",
       "      <td>3844</td>\n",
       "      <td>48796</td>\n",
       "      <td>Midrand</td>\n",
       "      <td>16-03-2020</td>\n",
       "      <td>South Africans stock up on food, basic goods a...</td>\n",
       "      <td>Negative</td>\n",
       "      <td>0</td>\n",
       "    </tr>\n",
       "    <tr>\n",
       "      <th>46</th>\n",
       "      <td>3845</td>\n",
       "      <td>48797</td>\n",
       "      <td>Drogheda</td>\n",
       "      <td>16-03-2020</td>\n",
       "      <td>Please Share  Know someone who s 65 Living on...</td>\n",
       "      <td>Positive</td>\n",
       "      <td>0</td>\n",
       "    </tr>\n",
       "    <tr>\n",
       "      <th>47</th>\n",
       "      <td>3846</td>\n",
       "      <td>48798</td>\n",
       "      <td>Columbia</td>\n",
       "      <td>16-03-2020</td>\n",
       "      <td>People posting and sharing photos of of half t...</td>\n",
       "      <td>Positive</td>\n",
       "      <td>0</td>\n",
       "    </tr>\n",
       "    <tr>\n",
       "      <th>48</th>\n",
       "      <td>3847</td>\n",
       "      <td>48799</td>\n",
       "      <td>Arkansas</td>\n",
       "      <td>16-03-2020</td>\n",
       "      <td>Never thought I'd say this, but. 2019, Will yo...</td>\n",
       "      <td>Positive</td>\n",
       "      <td>0</td>\n",
       "    </tr>\n",
       "    <tr>\n",
       "      <th>49</th>\n",
       "      <td>3848</td>\n",
       "      <td>48800</td>\n",
       "      <td>Washington</td>\n",
       "      <td>16-03-2020</td>\n",
       "      <td>COVID-19 restrictions sparking a run on cannab...</td>\n",
       "      <td>Neutral</td>\n",
       "      <td>0</td>\n",
       "    </tr>\n",
       "  </tbody>\n",
       "</table>\n",
       "</div>"
      ],
      "text/plain": [
       "    UserName  ScreenName                   Location     TweetAt  \\\n",
       "0       3799       48751                     London  16-03-2020   \n",
       "1       3800       48752                         UK  16-03-2020   \n",
       "2       3801       48753                  Vagabonds  16-03-2020   \n",
       "3       3802       48754                        NaN  16-03-2020   \n",
       "4       3803       48755                        NaN  16-03-2020   \n",
       "5       3804       48756             ÃT: 36.319708  16-03-2020   \n",
       "6       3805       48757                  35.926541  16-03-2020   \n",
       "7       3806       48758                    Austria  16-03-2020   \n",
       "8       3807       48759                    Atlanta  16-03-2020   \n",
       "9       3808       48760                  BHAVNAGAR  16-03-2020   \n",
       "10      3809       48761                     Makati  16-03-2020   \n",
       "11      3810       48762               Pitt Meadows  16-03-2020   \n",
       "12      3811       48763                 Horningsea  16-03-2020   \n",
       "13      3812       48764                    Chicago  16-03-2020   \n",
       "14      3813       48765                        NaN  16-03-2020   \n",
       "15      3814       48766                    Houston  16-03-2020   \n",
       "16      3815       48767               Saudi Arabia  16-03-2020   \n",
       "17      3816       48768                    Ontario  16-03-2020   \n",
       "18      3817       48769              North America  16-03-2020   \n",
       "19      3818       48770                     Denver  16-03-2020   \n",
       "20      3819       48771       southampton soxx xxx  16-03-2020   \n",
       "21      3820       48772                     Global  16-03-2020   \n",
       "22      3821       48773                        NaN  16-03-2020   \n",
       "23      3822       48774                        NaN  16-03-2020   \n",
       "24      3823       48775           Downstage centre  16-03-2020   \n",
       "25      3824       48776                     London  16-03-2020   \n",
       "26      3825       48777                    Ketchum  16-03-2020   \n",
       "27      3826       48778        Everywhere You Are!  16-03-2020   \n",
       "28      3827       48779                   New York  16-03-2020   \n",
       "29      3828       48780                  Someplace  16-03-2020   \n",
       "30      3829       48781                        NaN  16-03-2020   \n",
       "31      3830       48782                        NaN  16-03-2020   \n",
       "32      3831       48783                    Markham  16-03-2020   \n",
       "33      3832       48784                   Virginia  16-03-2020   \n",
       "34      3833       48785                     London  16-03-2020   \n",
       "35      3834       48786                    Sverige  16-03-2020   \n",
       "36      3835       48787  Where The Wild Things Are  16-03-2020   \n",
       "37      3836       48788                     Canada  16-03-2020   \n",
       "38      3837       48789                        NaN  16-03-2020   \n",
       "39      3838       48790              United States  16-03-2020   \n",
       "40      3839       48791                 Fort Worth  16-03-2020   \n",
       "41      3840       48792                        NaN  16-03-2020   \n",
       "42      3841       48793                    Houston  16-03-2020   \n",
       "43      3842       48794                  Vancouver  16-03-2020   \n",
       "44      3843       48795                        NaN  16-03-2020   \n",
       "45      3844       48796                    Midrand  16-03-2020   \n",
       "46      3845       48797                   Drogheda  16-03-2020   \n",
       "47      3846       48798                   Columbia  16-03-2020   \n",
       "48      3847       48799                   Arkansas  16-03-2020   \n",
       "49      3848       48800                 Washington  16-03-2020   \n",
       "\n",
       "                                        OriginalTweet Sentiment  id  \n",
       "0   @MeNyrbie @Phil_Gahan @Chrisitv https://t.co/i...   Neutral   0  \n",
       "1   advice Talk to your neighbours family to excha...  Positive   0  \n",
       "2   Coronavirus Australia: Woolworths to give elde...  Positive   0  \n",
       "3   My food stock is not the only one which is emp...  Positive   0  \n",
       "4   Me, ready to go at supermarket during the #COV...  Negative   0  \n",
       "5   As news of the regionÂs first confirmed COVID...  Positive   0  \n",
       "6   Cashier at grocery store was sharing his insig...  Positive   0  \n",
       "7   Was at the supermarket today. Didn't buy toile...   Neutral   0  \n",
       "8   Due to COVID-19 our retail store and classroom...  Positive   0  \n",
       "9   For corona prevention,we should stop to buy th...  Negative   0  \n",
       "10  All month there hasn't been crowding in the su...   Neutral   0  \n",
       "11  Due to the Covid-19 situation, we have increas...  Positive   0  \n",
       "12  #horningsea is a caring community. LetÂs ALL ...  Positive   0  \n",
       "13  Me: I don't need to stock up on food, I'll jus...  Positive   0  \n",
       "14  ADARA Releases COVID-19 Resource Center for Tr...  Positive   0  \n",
       "15  Lines at the grocery store have been unpredict...  Positive   0  \n",
       "16  ????? ????? ????? ????? ??\\r\\r\\n?????? ????? ?...   Neutral   0  \n",
       "17  @eyeonthearctic 16MAR20 Russia consumer survei...   Neutral   0  \n",
       "18  Amazon Glitch Stymies Whole Foods, Fresh Groce...  Positive   0  \n",
       "19  For those who aren't struggling, please consid...  Positive   0  \n",
       "20  with 100  nations inficted with  covid  19  th...  Negative   0  \n",
       "21  https://t.co/AVKrR9syff\\r\\r\\n\\r\\r\\nThe COVID-1...   Neutral   0  \n",
       "22  We have AMAZING CHEAP DEALS! FOR THE #COVID201...  Positive   0  \n",
       "23  We have AMAZING CHEAP DEALS! FOR THE #COVID201...  Positive   0  \n",
       "24  @10DowningStreet @grantshapps what is being do...  Negative   0  \n",
       "25  UK #consumer poll indicates the majority expec...  Positive   0  \n",
       "26  In preparation for higher demand and a potenti...  Negative   0  \n",
       "27  This morning I tested positive for Covid 19. I...  Negative   0  \n",
       "28  Do you see malicious price increases in NYC? T...  Negative   0  \n",
       "29  @7SealsOfTheEnd Soon with dwindling supplies u...  Negative   0  \n",
       "30  There Is of in the Country  The more empty she...  Negative   0  \n",
       "31  'Hole' Foods...\\r\\r\\n\\r\\r\\n...images from the ...  Positive   0  \n",
       "32  Retail store closures could explode because of...   Neutral   0  \n",
       "33  Coronavirus fun fact: if you cough at the groc...  Positive   0  \n",
       "34  We're sorry to say that our @FinFabUK event is...  Negative   0  \n",
       "35  Went to the supermarket yesterday and the toil...   Neutral   0  \n",
       "36  Yes, buy only what you need.\\r\\r\\n\\r\\r\\nBut wh...  Positive   0  \n",
       "37  Worried about the impact of the current COVID-...  Positive   0  \n",
       "38  my wife works retail&amp;a customer came in ye...  Negative   0  \n",
       "39  Now I can go to the supermarket like this with...  Positive   0  \n",
       "40  We're here to provide a safe shopping experien...  Positive   0  \n",
       "41  Curious,  do we think retail shoppers will do ...  Positive   0  \n",
       "42  CHECK VIDEO ?? https://t.co/1ksn9Brl02 ??No fo...  Negative   0  \n",
       "43  Breaking Story: Online clothes shopping rises ...   Neutral   0  \n",
       "44  This is the line outside  @Target  in as custo...   Neutral   0  \n",
       "45  South Africans stock up on food, basic goods a...  Negative   0  \n",
       "46   Please Share  Know someone who s 65 Living on...  Positive   0  \n",
       "47  People posting and sharing photos of of half t...  Positive   0  \n",
       "48  Never thought I'd say this, but. 2019, Will yo...  Positive   0  \n",
       "49  COVID-19 restrictions sparking a run on cannab...   Neutral   0  "
      ]
     },
     "execution_count": 17,
     "metadata": {},
     "output_type": "execute_result"
    }
   ],
   "source": [
    "covid[:50]"
   ]
  },
  {
   "cell_type": "code",
   "execution_count": 18,
   "metadata": {},
   "outputs": [
    {
     "data": {
      "text/html": [
       "<div>\n",
       "<style scoped>\n",
       "    .dataframe tbody tr th:only-of-type {\n",
       "        vertical-align: middle;\n",
       "    }\n",
       "\n",
       "    .dataframe tbody tr th {\n",
       "        vertical-align: top;\n",
       "    }\n",
       "\n",
       "    .dataframe thead th {\n",
       "        text-align: right;\n",
       "    }\n",
       "</style>\n",
       "<table border=\"1\" class=\"dataframe\">\n",
       "  <thead>\n",
       "    <tr style=\"text-align: right;\">\n",
       "      <th></th>\n",
       "      <th>OriginalTweet</th>\n",
       "      <th>Sentiment</th>\n",
       "      <th>id</th>\n",
       "    </tr>\n",
       "  </thead>\n",
       "  <tbody>\n",
       "    <tr>\n",
       "      <th>0</th>\n",
       "      <td>@MeNyrbie @Phil_Gahan @Chrisitv https://t.co/i...</td>\n",
       "      <td>Neutral</td>\n",
       "      <td>0</td>\n",
       "    </tr>\n",
       "    <tr>\n",
       "      <th>1</th>\n",
       "      <td>advice Talk to your neighbours family to excha...</td>\n",
       "      <td>Positive</td>\n",
       "      <td>0</td>\n",
       "    </tr>\n",
       "    <tr>\n",
       "      <th>2</th>\n",
       "      <td>Coronavirus Australia: Woolworths to give elde...</td>\n",
       "      <td>Positive</td>\n",
       "      <td>0</td>\n",
       "    </tr>\n",
       "    <tr>\n",
       "      <th>3</th>\n",
       "      <td>My food stock is not the only one which is emp...</td>\n",
       "      <td>Positive</td>\n",
       "      <td>0</td>\n",
       "    </tr>\n",
       "    <tr>\n",
       "      <th>4</th>\n",
       "      <td>Me, ready to go at supermarket during the #COV...</td>\n",
       "      <td>Negative</td>\n",
       "      <td>0</td>\n",
       "    </tr>\n",
       "    <tr>\n",
       "      <th>...</th>\n",
       "      <td>...</td>\n",
       "      <td>...</td>\n",
       "      <td>...</td>\n",
       "    </tr>\n",
       "    <tr>\n",
       "      <th>44950</th>\n",
       "      <td>Meanwhile In A Supermarket in Israel -- People...</td>\n",
       "      <td>Positive</td>\n",
       "      <td>1</td>\n",
       "    </tr>\n",
       "    <tr>\n",
       "      <th>44951</th>\n",
       "      <td>Did you panic buy a lot of non-perishable item...</td>\n",
       "      <td>Negative</td>\n",
       "      <td>1</td>\n",
       "    </tr>\n",
       "    <tr>\n",
       "      <th>44952</th>\n",
       "      <td>Asst Prof of Economics @cconces was on @NBCPhi...</td>\n",
       "      <td>Neutral</td>\n",
       "      <td>1</td>\n",
       "    </tr>\n",
       "    <tr>\n",
       "      <th>44953</th>\n",
       "      <td>Gov need to do somethings instead of biar je r...</td>\n",
       "      <td>Negative</td>\n",
       "      <td>1</td>\n",
       "    </tr>\n",
       "    <tr>\n",
       "      <th>44954</th>\n",
       "      <td>I and @ForestandPaper members are committed to...</td>\n",
       "      <td>Positive</td>\n",
       "      <td>1</td>\n",
       "    </tr>\n",
       "  </tbody>\n",
       "</table>\n",
       "<p>44955 rows × 3 columns</p>\n",
       "</div>"
      ],
      "text/plain": [
       "                                           OriginalTweet Sentiment  id\n",
       "0      @MeNyrbie @Phil_Gahan @Chrisitv https://t.co/i...   Neutral   0\n",
       "1      advice Talk to your neighbours family to excha...  Positive   0\n",
       "2      Coronavirus Australia: Woolworths to give elde...  Positive   0\n",
       "3      My food stock is not the only one which is emp...  Positive   0\n",
       "4      Me, ready to go at supermarket during the #COV...  Negative   0\n",
       "...                                                  ...       ...  ..\n",
       "44950  Meanwhile In A Supermarket in Israel -- People...  Positive   1\n",
       "44951  Did you panic buy a lot of non-perishable item...  Negative   1\n",
       "44952  Asst Prof of Economics @cconces was on @NBCPhi...   Neutral   1\n",
       "44953  Gov need to do somethings instead of biar je r...  Negative   1\n",
       "44954  I and @ForestandPaper members are committed to...  Positive   1\n",
       "\n",
       "[44955 rows x 3 columns]"
      ]
     },
     "execution_count": 18,
     "metadata": {},
     "output_type": "execute_result"
    }
   ],
   "source": [
    "covid = covid.drop('UserName',axis=1)\n",
    "covid = covid.drop('ScreenName',axis=1)\n",
    "covid = covid.drop('Location',axis=1)\n",
    "covid = covid.drop('TweetAt',axis=1)\n",
    "covid"
   ]
  },
  {
   "cell_type": "code",
   "execution_count": 19,
   "metadata": {
    "collapsed": true
   },
   "outputs": [],
   "source": [
    "covid['Sentiment'] = covid['Sentiment'].map({'Neutral':0,'Positive':1,'Negative':2})\n"
   ]
  },
  {
   "cell_type": "code",
   "execution_count": 20,
   "metadata": {},
   "outputs": [
    {
     "data": {
      "text/plain": [
       "#coronavirus            12320\n",
       "#COVID19                 3221\n",
       "#Covid_19                2497\n",
       "#Coronavirus             2081\n",
       "#COVID2019               1603\n",
       "#toiletpaper             1338\n",
       "#covid19                 1100\n",
       "#COVID?19                 792\n",
       "#CoronaCrisis             719\n",
       "#CoronaVirus              600\n",
       "#SocialDistancing         598\n",
       "#covid_19                 432\n",
       "#CoronavirusPandemic      409\n",
       "#CoronavirusOutbreak      391\n",
       "#pandemic                 376\n",
       "#StayHomeSaveLives        334\n",
       "#Covid19                  331\n",
       "#StayAtHome               319\n",
       "#lockdown                 314\n",
       "#supermarket              306\n",
       "#StayHome                 305\n",
       "#panicbuying              298\n",
       "#coronavirus.             295\n",
       "#retail                   289\n",
       "#corona                   280\n",
       "#CoronaVirusUpdate        280\n",
       "#StopHoarding             274\n",
       "#socialdistancing         265\n",
       "#COVID-19                 224\n",
       "#StopPanicBuying          218\n",
       "Name: 0, dtype: int64"
      ]
     },
     "execution_count": 20,
     "metadata": {},
     "output_type": "execute_result"
    }
   ],
   "source": [
    "hashtags = train['OriginalTweet'].str.extractall(r\"(#\\S+)\")\n",
    "hashtags = hashtags[0].value_counts()\n",
    "hashtags[:30]"
   ]
  },
  {
   "cell_type": "code",
   "execution_count": 21,
   "metadata": {
    "scrolled": true
   },
   "outputs": [
    {
     "data": {
      "text/plain": [
       "@realDonaldTrump    239\n",
       "@Tesco              180\n",
       "@sainsburys         152\n",
       "@BorisJohnson       141\n",
       "@narendramodi       110\n",
       "@asda               103\n",
       "@amazon              95\n",
       "@PMOIndia            94\n",
       "@Morrisons           87\n",
       "@piersmorgan         84\n",
       "@YouTube             83\n",
       "@waitrose            70\n",
       "@CNN                 56\n",
       "@AldiUK              52\n",
       "@FTC                 48\n",
       "@Walmart             47\n",
       "@CDCgov              44\n",
       "@NYGovCuomo          42\n",
       "@BBCNews             41\n",
       "@SkyNews             40\n",
       "@LidlGB              38\n",
       "@nytimes             37\n",
       "@ssupnow             37\n",
       "@MailOnline          36\n",
       "@WSJ                 34\n",
       "@Coles               33\n",
       "@McKinsey            33\n",
       "@10DowningStreet     31\n",
       "@kroger              31\n",
       "@WHO                 30\n",
       "Name: 0, dtype: int64"
      ]
     },
     "execution_count": 21,
     "metadata": {},
     "output_type": "execute_result"
    }
   ],
   "source": [
    "mentions = train['OriginalTweet'].str.extractall(r\"(@\\S+)\")\n",
    "mentions = mentions[0].value_counts()\n",
    "mentions[:30]"
   ]
  },
  {
   "cell_type": "code",
   "execution_count": 22,
   "metadata": {
    "collapsed": true
   },
   "outputs": [],
   "source": [
    "import re\n",
    "\n",
    "\n",
    "def clean(text):\n",
    "    text = re.sub(r'http\\S+', \" \", text)\n",
    "    text = re.sub(r'@\\w+',' ',text)\n",
    "    text = re.sub(r'#\\w+', ' ', text)\n",
    "    text = re.sub(r'\\d+', ' ', text)\n",
    "    text = re.sub('r<.*?>',' ', text)\n",
    "    text = text.split()\n",
    "    text = \" \".join([word for word in text if not word in stopWord])\n",
    "    \n",
    "    return text"
   ]
  },
  {
   "cell_type": "code",
   "execution_count": 37,
   "metadata": {},
   "outputs": [
    {
     "name": "stdout",
     "output_type": "stream",
     "text": [
      "[nltk_data] Downloading package stopwords to /home/arun/nltk_data...\n",
      "[nltk_data]   Package stopwords is already up-to-date!\n"
     ]
    }
   ],
   "source": [
    "import nltk\n",
    "nltk.download('stopwords')\n",
    "from nltk.corpus import stopwords"
   ]
  },
  {
   "cell_type": "code",
   "execution_count": 24,
   "metadata": {},
   "outputs": [],
   "source": [
    "stopWord = stopwords.words('english')"
   ]
  },
  {
   "cell_type": "code",
   "execution_count": 25,
   "metadata": {
    "collapsed": true
   },
   "outputs": [],
   "source": [
    "covid['OriginalTweet'] = covid['OriginalTweet'].apply(lambda x: clean(x))"
   ]
  },
  {
   "cell_type": "code",
   "execution_count": 26,
   "metadata": {},
   "outputs": [
    {
     "data": {
      "text/html": [
       "<div>\n",
       "<style scoped>\n",
       "    .dataframe tbody tr th:only-of-type {\n",
       "        vertical-align: middle;\n",
       "    }\n",
       "\n",
       "    .dataframe tbody tr th {\n",
       "        vertical-align: top;\n",
       "    }\n",
       "\n",
       "    .dataframe thead th {\n",
       "        text-align: right;\n",
       "    }\n",
       "</style>\n",
       "<table border=\"1\" class=\"dataframe\">\n",
       "  <thead>\n",
       "    <tr style=\"text-align: right;\">\n",
       "      <th></th>\n",
       "      <th>OriginalTweet</th>\n",
       "      <th>Sentiment</th>\n",
       "      <th>id</th>\n",
       "    </tr>\n",
       "  </thead>\n",
       "  <tbody>\n",
       "    <tr>\n",
       "      <th>0</th>\n",
       "      <td></td>\n",
       "      <td>0</td>\n",
       "      <td>0</td>\n",
       "    </tr>\n",
       "    <tr>\n",
       "      <th>1</th>\n",
       "      <td>advice Talk neighbours family exchange phone n...</td>\n",
       "      <td>1</td>\n",
       "      <td>0</td>\n",
       "    </tr>\n",
       "    <tr>\n",
       "      <th>2</th>\n",
       "      <td>Coronavirus Australia: Woolworths give elderly...</td>\n",
       "      <td>1</td>\n",
       "      <td>0</td>\n",
       "    </tr>\n",
       "    <tr>\n",
       "      <th>3</th>\n",
       "      <td>My food stock one empty... PLEASE, panic, THER...</td>\n",
       "      <td>1</td>\n",
       "      <td>0</td>\n",
       "    </tr>\n",
       "    <tr>\n",
       "      <th>4</th>\n",
       "      <td>Me, ready go supermarket outbreak. Not I'm par...</td>\n",
       "      <td>2</td>\n",
       "      <td>0</td>\n",
       "    </tr>\n",
       "  </tbody>\n",
       "</table>\n",
       "</div>"
      ],
      "text/plain": [
       "                                       OriginalTweet  Sentiment  id\n",
       "0                                                             0   0\n",
       "1  advice Talk neighbours family exchange phone n...          1   0\n",
       "2  Coronavirus Australia: Woolworths give elderly...          1   0\n",
       "3  My food stock one empty... PLEASE, panic, THER...          1   0\n",
       "4  Me, ready go supermarket outbreak. Not I'm par...          2   0"
      ]
     },
     "execution_count": 26,
     "metadata": {},
     "output_type": "execute_result"
    }
   ],
   "source": [
    "covid.head()"
   ]
  },
  {
   "cell_type": "markdown",
   "metadata": {
    "collapsed": true
   },
   "source": [
    "## Visualization"
   ]
  },
  {
   "cell_type": "code",
   "execution_count": 27,
   "metadata": {},
   "outputs": [
    {
     "data": {
      "text/plain": [
       "Text(0.5,1,'Twitted locations')"
      ]
     },
     "execution_count": 27,
     "metadata": {},
     "output_type": "execute_result"
    },
    {
     "data": {
      "image/png": "[encoded data removed]",
      "text/plain": [
       "<matplotlib.figure.Figure at 0x7fa9a7808208>"
      ]
     },
     "metadata": {},
     "output_type": "display_data"
    }
   ],
   "source": [
    "plt.figure(figsize=(10,10))\n",
    "sns.countplot(y='Location',data=train,order=train.Location.value_counts().iloc[\n",
    "    0:10].index).set_title(\"Twitted locations\")"
   ]
  },
  {
   "cell_type": "code",
   "execution_count": 28,
   "metadata": {
    "collapsed": true
   },
   "outputs": [],
   "source": [
    "plotDf=train.iloc[:,[2,5]]"
   ]
  },
  {
   "cell_type": "code",
   "execution_count": 29,
   "metadata": {},
   "outputs": [
    {
     "data": {
      "text/plain": [
       "<matplotlib.axes._subplots.AxesSubplot at 0x7fa9a75287b8>"
      ]
     },
     "execution_count": 29,
     "metadata": {},
     "output_type": "execute_result"
    },
    {
     "data": {
      "image/png": "[encoded data removed]",
      "text/plain": [
       "<matplotlib.figure.Figure at 0x7fa9a7808d30>"
      ]
     },
     "metadata": {},
     "output_type": "display_data"
    }
   ],
   "source": [
    "sns.set(rc={'figure.figsize':(15,9)})\n",
    "gg = train.Location.value_counts()[:5].index\n",
    "plt.title('Sentiment Categories of the First 5 Top Locations', fontsize=16, fontweight='bold')\n",
    "sns.countplot(x = 'Location', hue = 'Sentiment', data = plotDf, order = gg)"
   ]
  },
  {
   "cell_type": "code",
   "execution_count": 30,
   "metadata": {},
   "outputs": [
    {
     "data": {
      "text/html": [
       "<div>\n",
       "<style scoped>\n",
       "    .dataframe tbody tr th:only-of-type {\n",
       "        vertical-align: middle;\n",
       "    }\n",
       "\n",
       "    .dataframe tbody tr th {\n",
       "        vertical-align: top;\n",
       "    }\n",
       "\n",
       "    .dataframe thead th {\n",
       "        text-align: right;\n",
       "    }\n",
       "</style>\n",
       "<table border=\"1\" class=\"dataframe\">\n",
       "  <thead>\n",
       "    <tr style=\"text-align: right;\">\n",
       "      <th></th>\n",
       "      <th>OriginalTweet</th>\n",
       "      <th>Sentiment</th>\n",
       "      <th>id</th>\n",
       "    </tr>\n",
       "  </thead>\n",
       "  <tbody>\n",
       "    <tr>\n",
       "      <th>0</th>\n",
       "      <td></td>\n",
       "      <td>0</td>\n",
       "      <td>0</td>\n",
       "    </tr>\n",
       "    <tr>\n",
       "      <th>1</th>\n",
       "      <td>advice Talk neighbours family exchange phone n...</td>\n",
       "      <td>1</td>\n",
       "      <td>0</td>\n",
       "    </tr>\n",
       "    <tr>\n",
       "      <th>2</th>\n",
       "      <td>Coronavirus Australia: Woolworths give elderly...</td>\n",
       "      <td>1</td>\n",
       "      <td>0</td>\n",
       "    </tr>\n",
       "    <tr>\n",
       "      <th>3</th>\n",
       "      <td>My food stock one empty... PLEASE, panic, THER...</td>\n",
       "      <td>1</td>\n",
       "      <td>0</td>\n",
       "    </tr>\n",
       "    <tr>\n",
       "      <th>4</th>\n",
       "      <td>Me, ready go supermarket outbreak. Not I'm par...</td>\n",
       "      <td>2</td>\n",
       "      <td>0</td>\n",
       "    </tr>\n",
       "  </tbody>\n",
       "</table>\n",
       "</div>"
      ],
      "text/plain": [
       "                                       OriginalTweet  Sentiment  id\n",
       "0                                                             0   0\n",
       "1  advice Talk neighbours family exchange phone n...          1   0\n",
       "2  Coronavirus Australia: Woolworths give elderly...          1   0\n",
       "3  My food stock one empty... PLEASE, panic, THER...          1   0\n",
       "4  Me, ready go supermarket outbreak. Not I'm par...          2   0"
      ]
     },
     "execution_count": 30,
     "metadata": {},
     "output_type": "execute_result"
    }
   ],
   "source": [
    "covid.head()"
   ]
  },
  {
   "cell_type": "code",
   "execution_count": 31,
   "metadata": {},
   "outputs": [
    {
     "data": {
      "text/plain": [
       "<matplotlib.axes._subplots.AxesSubplot at 0x7fa9a74a0550>"
      ]
     },
     "execution_count": 31,
     "metadata": {},
     "output_type": "execute_result"
    },
    {
     "data": {
      "image/png": "[encoded data removed]",
      "text/plain": [
       "<matplotlib.figure.Figure at 0x7fa9a78082e8>"
      ]
     },
     "metadata": {},
     "output_type": "display_data"
    }
   ],
   "source": [
    "sns.set_style(\"whitegrid\")\n",
    "sns.set(rc={'figure.figsize':(11,8)})\n",
    "sns.countplot(covid['Sentiment'])"
   ]
  },
  {
   "cell_type": "code",
   "execution_count": null,
   "metadata": {},
   "outputs": [],
   "source": []
  },
  {
   "cell_type": "code",
   "execution_count": 44,
   "metadata": {},
   "outputs": [
    {
     "data": {
      "text/html": [
       "<div>\n",
       "<style scoped>\n",
       "    .dataframe tbody tr th:only-of-type {\n",
       "        vertical-align: middle;\n",
       "    }\n",
       "\n",
       "    .dataframe tbody tr th {\n",
       "        vertical-align: top;\n",
       "    }\n",
       "\n",
       "    .dataframe thead th {\n",
       "        text-align: right;\n",
       "    }\n",
       "</style>\n",
       "<table border=\"1\" class=\"dataframe\">\n",
       "  <thead>\n",
       "    <tr style=\"text-align: right;\">\n",
       "      <th></th>\n",
       "      <th>OriginalTweet</th>\n",
       "      <th>Sentiment</th>\n",
       "      <th>id</th>\n",
       "      <th>Corpus</th>\n",
       "    </tr>\n",
       "  </thead>\n",
       "  <tbody>\n",
       "    <tr>\n",
       "      <th>44950</th>\n",
       "      <td>Meanwhile In A Supermarket Israel -- People da...</td>\n",
       "      <td>1</td>\n",
       "      <td>1</td>\n",
       "      <td>Meanwhile In A Supermarket Israel -- People da...</td>\n",
       "    </tr>\n",
       "    <tr>\n",
       "      <th>44951</th>\n",
       "      <td>Did panic buy lot non-perishable items? ECHO n...</td>\n",
       "      <td>2</td>\n",
       "      <td>1</td>\n",
       "      <td>Did panic buy lot non-perishable item ? ECHO n...</td>\n",
       "    </tr>\n",
       "    <tr>\n",
       "      <th>44952</th>\n",
       "      <td>Asst Prof Economics talking recent research co...</td>\n",
       "      <td>0</td>\n",
       "      <td>1</td>\n",
       "      <td>Asst Prof Economics talking recent research co...</td>\n",
       "    </tr>\n",
       "    <tr>\n",
       "      <th>44953</th>\n",
       "      <td>Gov need somethings instead biar je rakyat ass...</td>\n",
       "      <td>2</td>\n",
       "      <td>1</td>\n",
       "      <td>Gov need somethings instead biar je rakyat ass...</td>\n",
       "    </tr>\n",
       "    <tr>\n",
       "      <th>44954</th>\n",
       "      <td>I members committed safety employees end-users...</td>\n",
       "      <td>1</td>\n",
       "      <td>1</td>\n",
       "      <td>I member committed safety employee end-users ....</td>\n",
       "    </tr>\n",
       "  </tbody>\n",
       "</table>\n",
       "</div>"
      ],
      "text/plain": [
       "                                           OriginalTweet  Sentiment  id  \\\n",
       "44950  Meanwhile In A Supermarket Israel -- People da...          1   1   \n",
       "44951  Did panic buy lot non-perishable items? ECHO n...          2   1   \n",
       "44952  Asst Prof Economics talking recent research co...          0   1   \n",
       "44953  Gov need somethings instead biar je rakyat ass...          2   1   \n",
       "44954  I members committed safety employees end-users...          1   1   \n",
       "\n",
       "                                                  Corpus  \n",
       "44950  Meanwhile In A Supermarket Israel -- People da...  \n",
       "44951  Did panic buy lot non-perishable item ? ECHO n...  \n",
       "44952  Asst Prof Economics talking recent research co...  \n",
       "44953  Gov need somethings instead biar je rakyat ass...  \n",
       "44954  I member committed safety employee end-users ....  "
      ]
     },
     "execution_count": 44,
     "metadata": {},
     "output_type": "execute_result"
    }
   ],
   "source": [
    "covid.tail()"
   ]
  },
  {
   "cell_type": "markdown",
   "metadata": {},
   "source": [
    "## Data Modelling"
   ]
  },
  {
   "cell_type": "code",
   "execution_count": 40,
   "metadata": {},
   "outputs": [
    {
     "name": "stdout",
     "output_type": "stream",
     "text": [
      "showing info https://raw.githubusercontent.com/nltk/nltk_data/gh-pages/index.xml\n"
     ]
    }
   ],
   "source": [
    "from nltk.stem.porter import PorterStemmer\n",
    "from nltk.stem import WordNetLemmatizer\n",
    "from nltk.tokenize import word_tokenize,sent_tokenize\n",
    "from sklearn.feature_extraction.text import CountVectorizer\n",
    "from sklearn.model_selection import train_test_split, cross_val_score\n",
    "from sklearn.linear_model import LogisticRegression\n",
    "from sklearn.metrics import classification_report"
   ]
  },
  {
   "cell_type": "code",
   "execution_count": 41,
   "metadata": {},
   "outputs": [],
   "source": [
    "covid['Corpus'] = [nltk.word_tokenize(text) for text in covid.OriginalTweet]\n",
    "lemma = nltk.WordNetLemmatizer()\n",
    "covid.Corpus = covid.apply(lambda x: [lemma.lemmatize(word) for word in x.Corpus], axis=1)\n",
    "covid.Corpus = covid.apply(lambda x: \" \".join(x.Corpus),axis=1)"
   ]
  },
  {
   "cell_type": "code",
   "execution_count": 42,
   "metadata": {},
   "outputs": [
    {
     "data": {
      "text/html": [
       "<div>\n",
       "<style scoped>\n",
       "    .dataframe tbody tr th:only-of-type {\n",
       "        vertical-align: middle;\n",
       "    }\n",
       "\n",
       "    .dataframe tbody tr th {\n",
       "        vertical-align: top;\n",
       "    }\n",
       "\n",
       "    .dataframe thead th {\n",
       "        text-align: right;\n",
       "    }\n",
       "</style>\n",
       "<table border=\"1\" class=\"dataframe\">\n",
       "  <thead>\n",
       "    <tr style=\"text-align: right;\">\n",
       "      <th></th>\n",
       "      <th>OriginalTweet</th>\n",
       "      <th>Sentiment</th>\n",
       "      <th>id</th>\n",
       "      <th>Corpus</th>\n",
       "    </tr>\n",
       "  </thead>\n",
       "  <tbody>\n",
       "    <tr>\n",
       "      <th>44950</th>\n",
       "      <td>Meanwhile In A Supermarket Israel -- People da...</td>\n",
       "      <td>1</td>\n",
       "      <td>1</td>\n",
       "      <td>Meanwhile In A Supermarket Israel -- People da...</td>\n",
       "    </tr>\n",
       "    <tr>\n",
       "      <th>44951</th>\n",
       "      <td>Did panic buy lot non-perishable items? ECHO n...</td>\n",
       "      <td>2</td>\n",
       "      <td>1</td>\n",
       "      <td>Did panic buy lot non-perishable item ? ECHO n...</td>\n",
       "    </tr>\n",
       "    <tr>\n",
       "      <th>44952</th>\n",
       "      <td>Asst Prof Economics talking recent research co...</td>\n",
       "      <td>0</td>\n",
       "      <td>1</td>\n",
       "      <td>Asst Prof Economics talking recent research co...</td>\n",
       "    </tr>\n",
       "    <tr>\n",
       "      <th>44953</th>\n",
       "      <td>Gov need somethings instead biar je rakyat ass...</td>\n",
       "      <td>2</td>\n",
       "      <td>1</td>\n",
       "      <td>Gov need somethings instead biar je rakyat ass...</td>\n",
       "    </tr>\n",
       "    <tr>\n",
       "      <th>44954</th>\n",
       "      <td>I members committed safety employees end-users...</td>\n",
       "      <td>1</td>\n",
       "      <td>1</td>\n",
       "      <td>I member committed safety employee end-users ....</td>\n",
       "    </tr>\n",
       "  </tbody>\n",
       "</table>\n",
       "</div>"
      ],
      "text/plain": [
       "                                           OriginalTweet  Sentiment  id  \\\n",
       "44950  Meanwhile In A Supermarket Israel -- People da...          1   1   \n",
       "44951  Did panic buy lot non-perishable items? ECHO n...          2   1   \n",
       "44952  Asst Prof Economics talking recent research co...          0   1   \n",
       "44953  Gov need somethings instead biar je rakyat ass...          2   1   \n",
       "44954  I members committed safety employees end-users...          1   1   \n",
       "\n",
       "                                                  Corpus  \n",
       "44950  Meanwhile In A Supermarket Israel -- People da...  \n",
       "44951  Did panic buy lot non-perishable item ? ECHO n...  \n",
       "44952  Asst Prof Economics talking recent research co...  \n",
       "44953  Gov need somethings instead biar je rakyat ass...  \n",
       "44954  I member committed safety employee end-users ....  "
      ]
     },
     "execution_count": 42,
     "metadata": {},
     "output_type": "execute_result"
    }
   ],
   "source": [
    "covid.tail()"
   ]
  },
  {
   "cell_type": "code",
   "execution_count": 47,
   "metadata": {},
   "outputs": [
    {
     "name": "stderr",
     "output_type": "stream",
     "text": [
      "/home/arun/anaconda3/lib/python3.6/site-packages/pandas/core/frame.py:3997: SettingWithCopyWarning: \n",
      "A value is trying to be set on a copy of a slice from a DataFrame\n",
      "\n",
      "See the caveats in the documentation: https://pandas.pydata.org/pandas-docs/stable/user_guide/indexing.html#returning-a-view-versus-a-copy\n",
      "  errors=errors,\n"
     ]
    }
   ],
   "source": [
    "train = covid[covid.id==0]\n",
    "test = covid[covid.id==1]\n",
    "train.drop('id',axis=1, inplace=True)\n",
    "test.drop('id',axis=1, inplace=True)\n",
    "test.reset_index(drop=True,inplace=True)"
   ]
  },
  {
   "cell_type": "code",
   "execution_count": 49,
   "metadata": {},
   "outputs": [
    {
     "data": {
      "text/html": [
       "<div>\n",
       "<style scoped>\n",
       "    .dataframe tbody tr th:only-of-type {\n",
       "        vertical-align: middle;\n",
       "    }\n",
       "\n",
       "    .dataframe tbody tr th {\n",
       "        vertical-align: top;\n",
       "    }\n",
       "\n",
       "    .dataframe thead th {\n",
       "        text-align: right;\n",
       "    }\n",
       "</style>\n",
       "<table border=\"1\" class=\"dataframe\">\n",
       "  <thead>\n",
       "    <tr style=\"text-align: right;\">\n",
       "      <th></th>\n",
       "      <th>OriginalTweet</th>\n",
       "      <th>Sentiment</th>\n",
       "      <th>Corpus</th>\n",
       "    </tr>\n",
       "  </thead>\n",
       "  <tbody>\n",
       "    <tr>\n",
       "      <th>0</th>\n",
       "      <td></td>\n",
       "      <td>0</td>\n",
       "      <td></td>\n",
       "    </tr>\n",
       "    <tr>\n",
       "      <th>1</th>\n",
       "      <td>advice Talk neighbours family exchange phone n...</td>\n",
       "      <td>1</td>\n",
       "      <td>advice Talk neighbour family exchange phone nu...</td>\n",
       "    </tr>\n",
       "    <tr>\n",
       "      <th>2</th>\n",
       "      <td>Coronavirus Australia: Woolworths give elderly...</td>\n",
       "      <td>1</td>\n",
       "      <td>Coronavirus Australia : Woolworths give elderl...</td>\n",
       "    </tr>\n",
       "    <tr>\n",
       "      <th>3</th>\n",
       "      <td>My food stock one empty... PLEASE, panic, THER...</td>\n",
       "      <td>1</td>\n",
       "      <td>My food stock one empty ... PLEASE , panic , T...</td>\n",
       "    </tr>\n",
       "    <tr>\n",
       "      <th>4</th>\n",
       "      <td>Me, ready go supermarket outbreak. Not I'm par...</td>\n",
       "      <td>2</td>\n",
       "      <td>Me , ready go supermarket outbreak . Not I 'm ...</td>\n",
       "    </tr>\n",
       "  </tbody>\n",
       "</table>\n",
       "</div>"
      ],
      "text/plain": [
       "                                       OriginalTweet  Sentiment  \\\n",
       "0                                                             0   \n",
       "1  advice Talk neighbours family exchange phone n...          1   \n",
       "2  Coronavirus Australia: Woolworths give elderly...          1   \n",
       "3  My food stock one empty... PLEASE, panic, THER...          1   \n",
       "4  Me, ready go supermarket outbreak. Not I'm par...          2   \n",
       "\n",
       "                                              Corpus  \n",
       "0                                                     \n",
       "1  advice Talk neighbour family exchange phone nu...  \n",
       "2  Coronavirus Australia : Woolworths give elderl...  \n",
       "3  My food stock one empty ... PLEASE , panic , T...  \n",
       "4  Me , ready go supermarket outbreak . Not I 'm ...  "
      ]
     },
     "execution_count": 49,
     "metadata": {},
     "output_type": "execute_result"
    }
   ],
   "source": [
    "train.head()"
   ]
  },
  {
   "cell_type": "code",
   "execution_count": 50,
   "metadata": {},
   "outputs": [
    {
     "data": {
      "text/html": [
       "<div>\n",
       "<style scoped>\n",
       "    .dataframe tbody tr th:only-of-type {\n",
       "        vertical-align: middle;\n",
       "    }\n",
       "\n",
       "    .dataframe tbody tr th {\n",
       "        vertical-align: top;\n",
       "    }\n",
       "\n",
       "    .dataframe thead th {\n",
       "        text-align: right;\n",
       "    }\n",
       "</style>\n",
       "<table border=\"1\" class=\"dataframe\">\n",
       "  <thead>\n",
       "    <tr style=\"text-align: right;\">\n",
       "      <th></th>\n",
       "      <th>OriginalTweet</th>\n",
       "      <th>Sentiment</th>\n",
       "      <th>Corpus</th>\n",
       "    </tr>\n",
       "  </thead>\n",
       "  <tbody>\n",
       "    <tr>\n",
       "      <th>0</th>\n",
       "      <td>TRENDING: New Yorkers encounter empty supermar...</td>\n",
       "      <td>2</td>\n",
       "      <td>TRENDING : New Yorkers encounter empty superma...</td>\n",
       "    </tr>\n",
       "    <tr>\n",
       "      <th>1</th>\n",
       "      <td>When I find hand sanitizer Fred Meyer, I turne...</td>\n",
       "      <td>1</td>\n",
       "      <td>When I find hand sanitizer Fred Meyer , I turn...</td>\n",
       "    </tr>\n",
       "    <tr>\n",
       "      <th>2</th>\n",
       "      <td>Find protect loved ones . ?</td>\n",
       "      <td>1</td>\n",
       "      <td>Find protect loved one . ?</td>\n",
       "    </tr>\n",
       "    <tr>\n",
       "      <th>3</th>\n",
       "      <td>buying hits City anxious shoppers stock food&amp;a...</td>\n",
       "      <td>2</td>\n",
       "      <td>buying hit City anxious shopper stock food &amp; a...</td>\n",
       "    </tr>\n",
       "    <tr>\n",
       "      <th>4</th>\n",
       "      <td>One week everyone buying baby milk powder next...</td>\n",
       "      <td>0</td>\n",
       "      <td>One week everyone buying baby milk powder next...</td>\n",
       "    </tr>\n",
       "  </tbody>\n",
       "</table>\n",
       "</div>"
      ],
      "text/plain": [
       "                                       OriginalTweet  Sentiment  \\\n",
       "0  TRENDING: New Yorkers encounter empty supermar...          2   \n",
       "1  When I find hand sanitizer Fred Meyer, I turne...          1   \n",
       "2                        Find protect loved ones . ?          1   \n",
       "3  buying hits City anxious shoppers stock food&a...          2   \n",
       "4  One week everyone buying baby milk powder next...          0   \n",
       "\n",
       "                                              Corpus  \n",
       "0  TRENDING : New Yorkers encounter empty superma...  \n",
       "1  When I find hand sanitizer Fred Meyer , I turn...  \n",
       "2                         Find protect loved one . ?  \n",
       "3  buying hit City anxious shopper stock food & a...  \n",
       "4  One week everyone buying baby milk powder next...  "
      ]
     },
     "execution_count": 50,
     "metadata": {},
     "output_type": "execute_result"
    }
   ],
   "source": [
    "test.head()"
   ]
  },
  {
   "cell_type": "code",
   "execution_count": 51,
   "metadata": {
    "collapsed": true
   },
   "outputs": [],
   "source": [
    "XTrain = train.Corpus\n",
    "yTrain = train.Sentiment\n",
    "\n",
    "XTest = test.Corpus\n",
    "yTest = test.Sentiment\n",
    "\n",
    "XTrain, XVal, yTrain, yVal = train_test_split(XTrain, yTrain, test_size=0.2,random_state=42)\n"
   ]
  },
  {
   "cell_type": "code",
   "execution_count": 52,
   "metadata": {
    "collapsed": true
   },
   "outputs": [],
   "source": [
    "vectorizer = CountVectorizer(stop_words='english',ngram_range=(1,2),min_df=5).fit(covid.Corpus)\n",
    "\n",
    "XTrainVec = vectorizer.transform(XTrain)\n",
    "XValVec = vectorizer.transform(XVal)\n",
    "XTestVec = vectorizer.transform(XTest)"
   ]
  },
  {
   "cell_type": "markdown",
   "metadata": {},
   "source": [
    "## Logistic Regression"
   ]
  },
  {
   "cell_type": "code",
   "execution_count": 54,
   "metadata": {
    "collapsed": true
   },
   "outputs": [],
   "source": [
    "log_reg=LogisticRegression(random_state=42)"
   ]
  },
  {
   "cell_type": "code",
   "execution_count": 55,
   "metadata": {},
   "outputs": [
    {
     "name": "stderr",
     "output_type": "stream",
     "text": [
      "/home/arun/anaconda3/lib/python3.6/site-packages/sklearn/externals/joblib/numpy_pickle.py:93: DeprecationWarning: tostring() is deprecated. Use tobytes() instead.\n",
      "  pickler.file_handle.write(chunk.tostring('C'))\n",
      "/home/arun/anaconda3/lib/python3.6/site-packages/sklearn/externals/joblib/numpy_pickle.py:93: DeprecationWarning: tostring() is deprecated. Use tobytes() instead.\n",
      "  pickler.file_handle.write(chunk.tostring('C'))\n",
      "[Parallel(n_jobs=-1)]: Done  10 out of  10 | elapsed:   29.6s finished\n"
     ]
    },
    {
     "data": {
      "text/plain": [
       "0.804707909996208"
      ]
     },
     "execution_count": 55,
     "metadata": {},
     "output_type": "execute_result"
    }
   ],
   "source": [
    "cross_val_score(LogisticRegression(random_state=42),\n",
    "                XTrainVec, yTrain, cv=10, verbose=1, n_jobs=-1).mean()"
   ]
  },
  {
   "cell_type": "code",
   "execution_count": 57,
   "metadata": {},
   "outputs": [],
   "source": [
    "model = log_reg.fit(XTrainVec, yTrain)"
   ]
  },
  {
   "cell_type": "code",
   "execution_count": 58,
   "metadata": {},
   "outputs": [
    {
     "name": "stdout",
     "output_type": "stream",
     "text": [
      "             precision    recall  f1-score   support\n",
      "\n",
      "          0       0.72      0.73      0.72      1553\n",
      "          1       0.83      0.85      0.84      3617\n",
      "          2       0.82      0.80      0.81      3062\n",
      "\n",
      "avg / total       0.81      0.81      0.81      8232\n",
      "\n"
     ]
    }
   ],
   "source": [
    "print(classification_report(yVal, model.predict(XValVec)))"
   ]
  },
  {
   "cell_type": "markdown",
   "metadata": {},
   "source": [
    "## Long Short Term Memory(LSTM) Model"
   ]
  },
  {
   "cell_type": "code",
   "execution_count": 59,
   "metadata": {
    "collapsed": true
   },
   "outputs": [],
   "source": [
    "from tensorflow import keras\n",
    "from tensorflow.keras.preprocessing.text import Tokenizer\n",
    "from tensorflow.keras.preprocessing.sequence import pad_sequences\n",
    "from tensorflow.keras.layers import Embedding, Dropout\n",
    "from tensorflow.keras import models, layers\n",
    "from tensorflow.keras.callbacks import EarlyStopping\n",
    "from tensorflow.keras.utils import to_categorical"
   ]
  },
  {
   "cell_type": "code",
   "execution_count": 60,
   "metadata": {},
   "outputs": [
    {
     "data": {
      "text/plain": [
       "41157"
      ]
     },
     "execution_count": 60,
     "metadata": {},
     "output_type": "execute_result"
    }
   ],
   "source": [
    "lines = []\n",
    "for line in train['Corpus']:\n",
    "    lines.append(line)\n",
    "    \n",
    "len(lines)"
   ]
  },
  {
   "cell_type": "code",
   "execution_count": 61,
   "metadata": {},
   "outputs": [
    {
     "name": "stdout",
     "output_type": "stream",
     "text": [
      "Found 33411 unique tokens.\n"
     ]
    }
   ],
   "source": [
    "tokenizer = Tokenizer(num_words=5000, lower=True) # Number of words to consider as features\n",
    "tokenizer.fit_on_texts(train['Corpus'].values)\n",
    "wordIndex = len(tokenizer.word_index) + 1\n",
    "print('Found %s unique tokens.' % (wordIndex))"
   ]
  },
  {
   "cell_type": "code",
   "execution_count": 62,
   "metadata": {
    "collapsed": true
   },
   "outputs": [],
   "source": [
    "XTrain = tokenizer.texts_to_sequences(train['Corpus'].values)\n",
    "XTrain = pad_sequences(XTrain, maxlen=30) # Cuts off the texts after this number of words\n",
    "\n",
    "XTest = tokenizer.texts_to_sequences(test['Corpus'].values)\n",
    "XTest = pad_sequences(XTest, maxlen=30)"
   ]
  },
  {
   "cell_type": "code",
   "execution_count": 63,
   "metadata": {},
   "outputs": [
    {
     "data": {
      "text/plain": [
       "((41157, 30), (3798, 30))"
      ]
     },
     "execution_count": 63,
     "metadata": {},
     "output_type": "execute_result"
    }
   ],
   "source": [
    "XTrain.shape, XTest.shape"
   ]
  },
  {
   "cell_type": "code",
   "execution_count": 64,
   "metadata": {
    "collapsed": true
   },
   "outputs": [],
   "source": [
    "yTrain = to_categorical(train['Sentiment'], 3)\n",
    "yTest = to_categorical(test['Sentiment'], 3)\n"
   ]
  },
  {
   "cell_type": "code",
   "execution_count": 65,
   "metadata": {
    "collapsed": true
   },
   "outputs": [],
   "source": [
    "model= models.Sequential()\n",
    "model.add(layers.Embedding(wordIndex, 128, input_length=1000))\n",
    "model.add(layers.LSTM(200))\n",
    "model.add(Dropout(0.2))\n",
    "model.add(layers.Dense(3, activation='softmax'))"
   ]
  },
  {
   "cell_type": "code",
   "execution_count": 66,
   "metadata": {},
   "outputs": [
    {
     "name": "stdout",
     "output_type": "stream",
     "text": [
      "Model: \"sequential\"\n",
      "_________________________________________________________________\n",
      "Layer (type)                 Output Shape              Param #   \n",
      "=================================================================\n",
      "embedding (Embedding)        (None, 1000, 128)         4276608   \n",
      "_________________________________________________________________\n",
      "lstm (LSTM)                  (None, 200)               263200    \n",
      "_________________________________________________________________\n",
      "dropout (Dropout)            (None, 200)               0         \n",
      "_________________________________________________________________\n",
      "dense (Dense)                (None, 3)                 603       \n",
      "=================================================================\n",
      "Total params: 4,540,411\n",
      "Trainable params: 4,540,411\n",
      "Non-trainable params: 0\n",
      "_________________________________________________________________\n"
     ]
    }
   ],
   "source": [
    "model.summary()"
   ]
  },
  {
   "cell_type": "code",
   "execution_count": 67,
   "metadata": {
    "collapsed": true
   },
   "outputs": [],
   "source": [
    "model.compile(loss='categorical_crossentropy', optimizer=keras.optimizers.RMSprop(lr=0.01),\n",
    "              metrics=['accuracy'])"
   ]
  },
  {
   "cell_type": "code",
   "execution_count": 68,
   "metadata": {},
   "outputs": [
    {
     "name": "stdout",
     "output_type": "stream",
     "text": [
      "Epoch 1/100\n",
      "WARNING:tensorflow:Model was constructed with shape (None, 1000) for input KerasTensor(type_spec=TensorSpec(shape=(None, 1000), dtype=tf.float32, name='embedding_input'), name='embedding_input', description=\"created by layer 'embedding_input'\"), but it was called on an input with incompatible shape (None, 30).\n",
      "WARNING:tensorflow:Model was constructed with shape (None, 1000) for input KerasTensor(type_spec=TensorSpec(shape=(None, 1000), dtype=tf.float32, name='embedding_input'), name='embedding_input', description=\"created by layer 'embedding_input'\"), but it was called on an input with incompatible shape (None, 30).\n",
      "132/132 [==============================] - ETA: 0s - loss: 1.2343 - accuracy: 0.4153WARNING:tensorflow:Model was constructed with shape (None, 1000) for input KerasTensor(type_spec=TensorSpec(shape=(None, 1000), dtype=tf.float32, name='embedding_input'), name='embedding_input', description=\"created by layer 'embedding_input'\"), but it was called on an input with incompatible shape (None, 30).\n",
      "132/132 [==============================] - 61s 432ms/step - loss: 1.2329 - accuracy: 0.4159 - val_loss: 0.6007 - val_accuracy: 0.7799\n",
      "Epoch 2/100\n",
      "132/132 [==============================] - 48s 360ms/step - loss: 0.5334 - accuracy: 0.8105 - val_loss: 0.4158 - val_accuracy: 0.8622\n",
      "Epoch 3/100\n",
      "132/132 [==============================] - 49s 370ms/step - loss: 0.3837 - accuracy: 0.8734 - val_loss: 0.4246 - val_accuracy: 0.8637\n",
      "Epoch 4/100\n",
      "132/132 [==============================] - 45s 341ms/step - loss: 0.3216 - accuracy: 0.8951 - val_loss: 0.4172 - val_accuracy: 0.8648\n",
      "Epoch 5/100\n",
      "132/132 [==============================] - 46s 348ms/step - loss: 0.2721 - accuracy: 0.9097 - val_loss: 0.4436 - val_accuracy: 0.8591\n",
      "Epoch 6/100\n",
      "132/132 [==============================] - 45s 344ms/step - loss: 0.2194 - accuracy: 0.9270 - val_loss: 0.5130 - val_accuracy: 0.8411\n",
      "Epoch 7/100\n",
      "132/132 [==============================] - 46s 350ms/step - loss: 0.1835 - accuracy: 0.9395 - val_loss: 0.5661 - val_accuracy: 0.8399\n",
      "Epoch 8/100\n",
      "132/132 [==============================] - 45s 338ms/step - loss: 0.1445 - accuracy: 0.9539 - val_loss: 0.6165 - val_accuracy: 0.8373\n",
      "Epoch 9/100\n",
      "132/132 [==============================] - 46s 349ms/step - loss: 0.1092 - accuracy: 0.9636 - val_loss: 0.7346 - val_accuracy: 0.8304\n",
      "Epoch 10/100\n",
      "132/132 [==============================] - 46s 348ms/step - loss: 0.0947 - accuracy: 0.9694 - val_loss: 0.8312 - val_accuracy: 0.8256\n",
      "Epoch 11/100\n",
      "132/132 [==============================] - 46s 352ms/step - loss: 0.0666 - accuracy: 0.9773 - val_loss: 0.8975 - val_accuracy: 0.8135\n",
      "Epoch 12/100\n",
      "132/132 [==============================] - 45s 344ms/step - loss: 0.0618 - accuracy: 0.9806 - val_loss: 0.9879 - val_accuracy: 0.8220\n"
     ]
    }
   ],
   "source": [
    "history = model.fit(XTrain ,yTrain, batch_size=250, epochs=100, validation_split=0.2,\n",
    "         callbacks=[EarlyStopping(monitor='val_loss', patience=10, restore_best_weights=True)])"
   ]
  },
  {
   "cell_type": "code",
   "execution_count": 69,
   "metadata": {},
   "outputs": [
    {
     "data": {
      "text/plain": [
       "Text(0.5,0.98,'Loss/Accuracy of the LSTM Sentiment Classifier')"
      ]
     },
     "execution_count": 69,
     "metadata": {},
     "output_type": "execute_result"
    },
    {
     "data": {
      "image/png": "[encoded data removed]",
      "text/plain": [
       "<matplotlib.figure.Figure at 0x7fa92f6a5e10>"
      ]
     },
     "metadata": {},
     "output_type": "display_data"
    }
   ],
   "source": [
    "accuracy = history.history['accuracy']\n",
    "valAccuracy = history.history['val_accuracy']\n",
    "loss = history.history['loss']\n",
    "valLoss = history.history['val_loss']\n",
    "epochs = range(1, len(accuracy) + 1)\n",
    "\n",
    "plt.style.use('ggplot')\n",
    "fig, (ax1, ax2) = plt.subplots(nrows=2, ncols=1, figsize=(10,10))\n",
    "plot = ax1.plot(epochs, accuracy, 'bo', label='Training Accuracy')\n",
    "ax1.plot(epochs, valAccuracy, 'b', label='Validation Accuracy')\n",
    "ax1.set(title='Training/Validation Accuracy', ylabel='Accuracy')\n",
    "ax1.legend()\n",
    "\n",
    "plot = ax2.plot(epochs, loss, 'bo', label='Training Loss')\n",
    "ax2.plot(epochs, valLoss, 'b', label='Validation Loss')\n",
    "ax2.set(title='Training/Validation Loss', ylabel='Loss', xlabel='Epochs')\n",
    "ax2.legend()\n",
    "\n",
    "fig.suptitle('Loss/Accuracy of the LSTM Sentiment Classifier', fontsize=16, fontweight = 'bold')"
   ]
  },
  {
   "cell_type": "code",
   "execution_count": 70,
   "metadata": {},
   "outputs": [
    {
     "name": "stdout",
     "output_type": "stream",
     "text": [
      "119/119 [==============================] - 4s 34ms/step - loss: 0.4485 - accuracy: 0.8433\n"
     ]
    }
   ],
   "source": [
    "results = model.evaluate(XTest, yTest)"
   ]
  },
  {
   "cell_type": "code",
   "execution_count": 71,
   "metadata": {},
   "outputs": [
    {
     "name": "stderr",
     "output_type": "stream",
     "text": [
      "/home/arun/anaconda3/lib/python3.6/site-packages/tensorflow/python/keras/engine/sequential.py:450: UserWarning: `model.predict_classes()` is deprecated and will be removed after 2021-01-01. Please use instead:* `np.argmax(model.predict(x), axis=-1)`,   if your model does multi-class classification   (e.g. if it uses a `softmax` last-layer activation).* `(model.predict(x) > 0.5).astype(\"int32\")`,   if your model does binary classification   (e.g. if it uses a `sigmoid` last-layer activation).\n",
      "  warnings.warn('`model.predict_classes()` is deprecated and '\n"
     ]
    },
    {
     "name": "stdout",
     "output_type": "stream",
     "text": [
      "WARNING:tensorflow:Model was constructed with shape (None, 1000) for input KerasTensor(type_spec=TensorSpec(shape=(None, 1000), dtype=tf.float32, name='embedding_input'), name='embedding_input', description=\"created by layer 'embedding_input'\"), but it was called on an input with incompatible shape (None, 30).\n",
      "             precision    recall  f1-score   support\n",
      "\n",
      "          0       0.82      0.78      0.80       619\n",
      "          1       0.86      0.85      0.85      1546\n",
      "          2       0.84      0.86      0.85      1633\n",
      "\n",
      "avg / total       0.84      0.84      0.84      3798\n",
      "\n"
     ]
    }
   ],
   "source": [
    "print(classification_report(np.argmax(yTest, 1), model.predict_classes(XTest)))"
   ]
  },
  {
   "cell_type": "code",
   "execution_count": 72,
   "metadata": {},
   "outputs": [
    {
     "data": {
      "text/plain": [
       "<tensorflow.python.keras.engine.sequential.Sequential at 0x7fa959b95dd8>"
      ]
     },
     "execution_count": 72,
     "metadata": {},
     "output_type": "execute_result"
    }
   ],
   "source": [
    "model.save('./LSTM classifier.h5')\n",
    "keras.models.load_model('./LSTM classifier.h5')"
   ]
  }
 ],
 "metadata": {
  "kernelspec": {
   "display_name": "Python 3",
   "language": "python",
   "name": "python3"
  },
  "language_info": {
   "codemirror_mode": {
    "name": "ipython",
    "version": 3
   },
   "file_extension": ".py",
   "mimetype": "text/x-python",
   "name": "python",
   "nbconvert_exporter": "python",
   "pygments_lexer": "ipython3",
   "version": "3.6.3"
  }
 },
 "nbformat": 4,
 "nbformat_minor": 4
}
