{
 "cells": [
  {
   "cell_type": "code",
   "execution_count": 1,
   "metadata": {
    "collapsed": true
   },
   "outputs": [],
   "source": [
    "import os\n",
    "import pandas as pd\n",
    "import numpy as np\n",
    "import matplotlib.pyplot as plt\n",
    "%matplotlib inline\n",
    "import seaborn as sns\n",
    "import warnings\n",
    "warnings.filterwarnings(\"ignore\", category=FutureWarning)"
   ]
  },
  {
   "cell_type": "code",
   "execution_count": 2,
   "metadata": {
    "collapsed": true
   },
   "outputs": [],
   "source": [
    "train = 'Data/Corona_NLP_train.csv'\n",
    "test = 'Data/Corona_NLP_test.csv'"
   ]
  },
  {
   "cell_type": "code",
   "execution_count": 3,
   "metadata": {},
   "outputs": [],
   "source": [
    "trainOriginal = pd.read_csv(train, encoding='latin-1')\n",
    "testOriginal = pd.read_csv(test, encoding= 'latin-1')"
   ]
  },
  {
   "cell_type": "code",
   "execution_count": 4,
   "metadata": {
    "collapsed": true
   },
   "outputs": [],
   "source": [
    "train = trainOriginal.copy()\n",
    "test = testOriginal.copy()"
   ]
  },
  {
   "cell_type": "code",
   "execution_count": 5,
   "metadata": {},
   "outputs": [
    {
     "output_type": "execute_result",
     "data": {
      "text/plain": [
       "   UserName  ScreenName   Location     TweetAt  \\\n",
       "0      3799       48751     London  16-03-2020   \n",
       "1      3800       48752         UK  16-03-2020   \n",
       "2      3801       48753  Vagabonds  16-03-2020   \n",
       "3      3802       48754        NaN  16-03-2020   \n",
       "4      3803       48755        NaN  16-03-2020   \n",
       "\n",
       "                                       OriginalTweet           Sentiment  \n",
       "0  @MeNyrbie @Phil_Gahan @Chrisitv https://t.co/i...             Neutral  \n",
       "1  advice Talk to your neighbours family to excha...            Positive  \n",
       "2  Coronavirus Australia: Woolworths to give elde...            Positive  \n",
       "3  My food stock is not the only one which is emp...            Positive  \n",
       "4  Me, ready to go at supermarket during the #COV...  Extremely Negative  "
      ],
      "text/html": "<div>\n<style scoped>\n    .dataframe tbody tr th:only-of-type {\n        vertical-align: middle;\n    }\n\n    .dataframe tbody tr th {\n        vertical-align: top;\n    }\n\n    .dataframe thead th {\n        text-align: right;\n    }\n</style>\n<table border=\"1\" class=\"dataframe\">\n  <thead>\n    <tr style=\"text-align: right;\">\n      <th></th>\n      <th>UserName</th>\n      <th>ScreenName</th>\n      <th>Location</th>\n      <th>TweetAt</th>\n      <th>OriginalTweet</th>\n      <th>Sentiment</th>\n    </tr>\n  </thead>\n  <tbody>\n    <tr>\n      <th>0</th>\n      <td>3799</td>\n      <td>48751</td>\n      <td>London</td>\n      <td>16-03-2020</td>\n      <td>@MeNyrbie @Phil_Gahan @Chrisitv https://t.co/i...</td>\n      <td>Neutral</td>\n    </tr>\n    <tr>\n      <th>1</th>\n      <td>3800</td>\n      <td>48752</td>\n      <td>UK</td>\n      <td>16-03-2020</td>\n      <td>advice Talk to your neighbours family to excha...</td>\n      <td>Positive</td>\n    </tr>\n    <tr>\n      <th>2</th>\n      <td>3801</td>\n      <td>48753</td>\n      <td>Vagabonds</td>\n      <td>16-03-2020</td>\n      <td>Coronavirus Australia: Woolworths to give elde...</td>\n      <td>Positive</td>\n    </tr>\n    <tr>\n      <th>3</th>\n      <td>3802</td>\n      <td>48754</td>\n      <td>NaN</td>\n      <td>16-03-2020</td>\n      <td>My food stock is not the only one which is emp...</td>\n      <td>Positive</td>\n    </tr>\n    <tr>\n      <th>4</th>\n      <td>3803</td>\n      <td>48755</td>\n      <td>NaN</td>\n      <td>16-03-2020</td>\n      <td>Me, ready to go at supermarket during the #COV...</td>\n      <td>Extremely Negative</td>\n    </tr>\n  </tbody>\n</table>\n</div>"
     },
     "metadata": {},
     "execution_count": 5
    }
   ],
   "source": [
    "train.head()"
   ]
  },
  {
   "cell_type": "code",
   "execution_count": 6,
   "metadata": {},
   "outputs": [
    {
     "output_type": "execute_result",
     "data": {
      "text/plain": [
       "   UserName  ScreenName             Location     TweetAt  \\\n",
       "0         1       44953                  NYC  02-03-2020   \n",
       "1         2       44954          Seattle, WA  02-03-2020   \n",
       "2         3       44955                  NaN  02-03-2020   \n",
       "3         4       44956          Chicagoland  02-03-2020   \n",
       "4         5       44957  Melbourne, Victoria  03-03-2020   \n",
       "\n",
       "                                       OriginalTweet           Sentiment  \n",
       "0  TRENDING: New Yorkers encounter empty supermar...  Extremely Negative  \n",
       "1  When I couldn't find hand sanitizer at Fred Me...            Positive  \n",
       "2  Find out how you can protect yourself and love...  Extremely Positive  \n",
       "3  #Panic buying hits #NewYork City as anxious sh...            Negative  \n",
       "4  #toiletpaper #dunnypaper #coronavirus #coronav...             Neutral  "
      ],
      "text/html": "<div>\n<style scoped>\n    .dataframe tbody tr th:only-of-type {\n        vertical-align: middle;\n    }\n\n    .dataframe tbody tr th {\n        vertical-align: top;\n    }\n\n    .dataframe thead th {\n        text-align: right;\n    }\n</style>\n<table border=\"1\" class=\"dataframe\">\n  <thead>\n    <tr style=\"text-align: right;\">\n      <th></th>\n      <th>UserName</th>\n      <th>ScreenName</th>\n      <th>Location</th>\n      <th>TweetAt</th>\n      <th>OriginalTweet</th>\n      <th>Sentiment</th>\n    </tr>\n  </thead>\n  <tbody>\n    <tr>\n      <th>0</th>\n      <td>1</td>\n      <td>44953</td>\n      <td>NYC</td>\n      <td>02-03-2020</td>\n      <td>TRENDING: New Yorkers encounter empty supermar...</td>\n      <td>Extremely Negative</td>\n    </tr>\n    <tr>\n      <th>1</th>\n      <td>2</td>\n      <td>44954</td>\n      <td>Seattle, WA</td>\n      <td>02-03-2020</td>\n      <td>When I couldn't find hand sanitizer at Fred Me...</td>\n      <td>Positive</td>\n    </tr>\n    <tr>\n      <th>2</th>\n      <td>3</td>\n      <td>44955</td>\n      <td>NaN</td>\n      <td>02-03-2020</td>\n      <td>Find out how you can protect yourself and love...</td>\n      <td>Extremely Positive</td>\n    </tr>\n    <tr>\n      <th>3</th>\n      <td>4</td>\n      <td>44956</td>\n      <td>Chicagoland</td>\n      <td>02-03-2020</td>\n      <td>#Panic buying hits #NewYork City as anxious sh...</td>\n      <td>Negative</td>\n    </tr>\n    <tr>\n      <th>4</th>\n      <td>5</td>\n      <td>44957</td>\n      <td>Melbourne, Victoria</td>\n      <td>03-03-2020</td>\n      <td>#toiletpaper #dunnypaper #coronavirus #coronav...</td>\n      <td>Neutral</td>\n    </tr>\n  </tbody>\n</table>\n</div>"
     },
     "metadata": {},
     "execution_count": 6
    }
   ],
   "source": [
    "test.head()"
   ]
  },
  {
   "cell_type": "code",
   "execution_count": 7,
   "metadata": {},
   "outputs": [
    {
     "output_type": "execute_result",
     "data": {
      "text/plain": [
       "UserName            0\n",
       "ScreenName          0\n",
       "Location         8590\n",
       "TweetAt             0\n",
       "OriginalTweet       0\n",
       "Sentiment           0\n",
       "dtype: int64"
      ]
     },
     "metadata": {},
     "execution_count": 7
    }
   ],
   "source": [
    "train.isnull().sum()"
   ]
  },
  {
   "cell_type": "code",
   "execution_count": 8,
   "metadata": {},
   "outputs": [
    {
     "output_type": "stream",
     "name": "stdout",
     "text": [
      "<class 'pandas.core.frame.DataFrame'>\nRangeIndex: 41157 entries, 0 to 41156\nData columns (total 6 columns):\n #   Column         Non-Null Count  Dtype \n---  ------         --------------  ----- \n 0   UserName       41157 non-null  int64 \n 1   ScreenName     41157 non-null  int64 \n 2   Location       32567 non-null  object\n 3   TweetAt        41157 non-null  object\n 4   OriginalTweet  41157 non-null  object\n 5   Sentiment      41157 non-null  object\ndtypes: int64(2), object(4)\nmemory usage: 1.9+ MB\n"
     ]
    }
   ],
   "source": [
    "train.info()"
   ]
  },
  {
   "cell_type": "code",
   "execution_count": 9,
   "metadata": {},
   "outputs": [
    {
     "output_type": "execute_result",
     "data": {
      "text/plain": [
       "London                     540\n",
       "United States              528\n",
       "London, England            520\n",
       "New York, NY               395\n",
       "Washington, DC             373\n",
       "United Kingdom             337\n",
       "Los Angeles, CA            281\n",
       "India                      268\n",
       "UK                         232\n",
       "Australia                  225\n",
       "USA                        223\n",
       "Canada                     191\n",
       "England, United Kingdom    191\n",
       "Toronto, Ontario           160\n",
       "Global                     159\n",
       "Chicago, IL                155\n",
       "California, USA            153\n",
       "San Francisco, CA          152\n",
       "Boston, MA                 150\n",
       "New York, USA              140\n",
       "New Delhi, India           138\n",
       "New York                   126\n",
       "Atlanta, GA                126\n",
       "Mumbai, India              109\n",
       "Worldwide                  101\n",
       "Lagos, Nigeria              99\n",
       "Austin, TX                  98\n",
       "Texas, USA                  98\n",
       "Houston, TX                 98\n",
       "London, UK                  96\n",
       "Toronto                     91\n",
       "Los Angeles                 89\n",
       "Nairobi, Kenya              88\n",
       "Singapore                   87\n",
       "New York City               87\n",
       "Florida, USA                84\n",
       "Philadelphia, PA            84\n",
       "South Africa                83\n",
       "Nigeria                     83\n",
       "Washington, D.C.            80\n",
       "Sydney, New South Wales     78\n",
       "Seattle, WA                 78\n",
       "Mumbai                      76\n",
       "Earth                       75\n",
       "New Zealand                 74\n",
       "San Diego, CA               71\n",
       "Melbourne, Victoria         70\n",
       "Dallas, TX                  68\n",
       "Sydney, Australia           66\n",
       "Las Vegas, NV               64\n",
       "Ireland                     61\n",
       "Denver, CO                  60\n",
       "Chicago                     60\n",
       "NYC                         58\n",
       "New Jersey, USA             58\n",
       "Brooklyn, NY                57\n",
       "Melbourne, Australia        56\n",
       "Ontario, Canada             55\n",
       "England                     55\n",
       "California                  54\n",
       "Name: Location, dtype: int64"
      ]
     },
     "metadata": {},
     "execution_count": 9
    }
   ],
   "source": [
    "train['Location'].value_counts()[:60]"
   ]
  },
  {
   "cell_type": "code",
   "execution_count": 10,
   "metadata": {
    "collapsed": true
   },
   "outputs": [],
   "source": [
    "train['Location'] = train['Location'].str.split(\",\").str[0]\n",
    "test['Location'] = test['Location'].str.split(\",\").str[0]"
   ]
  },
  {
   "cell_type": "code",
   "execution_count": 11,
   "metadata": {},
   "outputs": [
    {
     "output_type": "execute_result",
     "data": {
      "text/plain": [
       "London            1247\n",
       "New York           709\n",
       "United States      530\n",
       "Washington         504\n",
       "Los Angeles        402\n",
       "Toronto            346\n",
       "United Kingdom     342\n",
       "India              276\n",
       "Chicago            262\n",
       "England            255\n",
       "UK                 246\n",
       "USA                231\n",
       "Australia          230\n",
       "California         211\n",
       "San Francisco      206\n",
       "Sydney             202\n",
       "New Delhi          201\n",
       "Melbourne          199\n",
       "Canada             198\n",
       "Boston             197\n",
       "Mumbai             197\n",
       "Atlanta            165\n",
       "Global             159\n",
       "Houston            156\n",
       "Texas              145\n",
       "Lagos              136\n",
       "Austin             130\n",
       "Florida            121\n",
       "Seattle            120\n",
       "Nairobi            117\n",
       "Dallas             115\n",
       "Philadelphia       114\n",
       "Manchester         111\n",
       "Vancouver          106\n",
       "Scotland           104\n",
       "New Jersey         103\n",
       "Worldwide          101\n",
       "San Diego           99\n",
       "New York City       95\n",
       "Dubai               91\n",
       "Singapore           88\n",
       "South Africa        87\n",
       "Portland            86\n",
       "Denver              86\n",
       "Earth               84\n",
       "Nigeria             83\n",
       "Las Vegas           79\n",
       "Johannesburg        78\n",
       "Ottawa              76\n",
       "Michigan            76\n",
       "Brooklyn            75\n",
       "Paris               74\n",
       "New Zealand         74\n",
       "Miami               72\n",
       "Ontario             72\n",
       "Birmingham          72\n",
       "Calgary             70\n",
       "NYC                 69\n",
       "Victoria            67\n",
       "Phoenix             65\n",
       "Name: Location, dtype: int64"
      ]
     },
     "metadata": {},
     "execution_count": 11
    }
   ],
   "source": [
    "train['Location'].value_counts()[:60]"
   ]
  },
  {
   "cell_type": "code",
   "execution_count": 12,
   "metadata": {},
   "outputs": [
    {
     "output_type": "execute_result",
     "data": {
      "text/plain": [
       "20-03-2020    3448\n",
       "19-03-2020    3215\n",
       "25-03-2020    2979\n",
       "18-03-2020    2742\n",
       "21-03-2020    2653\n",
       "22-03-2020    2114\n",
       "23-03-2020    2062\n",
       "17-03-2020    1977\n",
       "08-04-2020    1881\n",
       "07-04-2020    1843\n",
       "06-04-2020    1742\n",
       "24-03-2020    1480\n",
       "09-04-2020    1471\n",
       "13-04-2020    1428\n",
       "26-03-2020    1277\n",
       "05-04-2020    1131\n",
       "10-04-2020    1005\n",
       "02-04-2020     954\n",
       "11-04-2020     909\n",
       "03-04-2020     810\n",
       "12-04-2020     803\n",
       "04-04-2020     767\n",
       "16-03-2020     656\n",
       "01-04-2020     630\n",
       "27-03-2020     345\n",
       "31-03-2020     316\n",
       "14-04-2020     284\n",
       "29-03-2020     125\n",
       "30-03-2020      87\n",
       "28-03-2020      23\n",
       "Name: TweetAt, dtype: int64"
      ]
     },
     "metadata": {},
     "execution_count": 12
    }
   ],
   "source": [
    "train['TweetAt'].value_counts()"
   ]
  },
  {
   "cell_type": "code",
   "execution_count": 13,
   "metadata": {},
   "outputs": [
    {
     "output_type": "execute_result",
     "data": {
      "text/plain": [
       "Positive              11422\n",
       "Negative               9917\n",
       "Neutral                7713\n",
       "Extremely Positive     6624\n",
       "Extremely Negative     5481\n",
       "Name: Sentiment, dtype: int64"
      ]
     },
     "metadata": {},
     "execution_count": 13
    }
   ],
   "source": [
    "train['Sentiment'].value_counts()"
   ]
  },
  {
   "cell_type": "code",
   "execution_count": 14,
   "metadata": {
    "collapsed": true
   },
   "outputs": [],
   "source": [
    "train['id']= 0\n",
    "test['id']=1\n",
    "covid = pd.concat([train,test])\n",
    "covid.reset_index(drop = True , inplace= True)\n"
   ]
  },
  {
   "cell_type": "code",
   "execution_count": 15,
   "metadata": {},
   "outputs": [
    {
     "output_type": "execute_result",
     "data": {
      "text/plain": [
       "   UserName  ScreenName   Location     TweetAt  \\\n",
       "0      3799       48751     London  16-03-2020   \n",
       "1      3800       48752         UK  16-03-2020   \n",
       "2      3801       48753  Vagabonds  16-03-2020   \n",
       "3      3802       48754        NaN  16-03-2020   \n",
       "4      3803       48755        NaN  16-03-2020   \n",
       "\n",
       "                                       OriginalTweet           Sentiment  id  \n",
       "0  @MeNyrbie @Phil_Gahan @Chrisitv https://t.co/i...             Neutral   0  \n",
       "1  advice Talk to your neighbours family to excha...            Positive   0  \n",
       "2  Coronavirus Australia: Woolworths to give elde...            Positive   0  \n",
       "3  My food stock is not the only one which is emp...            Positive   0  \n",
       "4  Me, ready to go at supermarket during the #COV...  Extremely Negative   0  "
      ],
      "text/html": "<div>\n<style scoped>\n    .dataframe tbody tr th:only-of-type {\n        vertical-align: middle;\n    }\n\n    .dataframe tbody tr th {\n        vertical-align: top;\n    }\n\n    .dataframe thead th {\n        text-align: right;\n    }\n</style>\n<table border=\"1\" class=\"dataframe\">\n  <thead>\n    <tr style=\"text-align: right;\">\n      <th></th>\n      <th>UserName</th>\n      <th>ScreenName</th>\n      <th>Location</th>\n      <th>TweetAt</th>\n      <th>OriginalTweet</th>\n      <th>Sentiment</th>\n      <th>id</th>\n    </tr>\n  </thead>\n  <tbody>\n    <tr>\n      <th>0</th>\n      <td>3799</td>\n      <td>48751</td>\n      <td>London</td>\n      <td>16-03-2020</td>\n      <td>@MeNyrbie @Phil_Gahan @Chrisitv https://t.co/i...</td>\n      <td>Neutral</td>\n      <td>0</td>\n    </tr>\n    <tr>\n      <th>1</th>\n      <td>3800</td>\n      <td>48752</td>\n      <td>UK</td>\n      <td>16-03-2020</td>\n      <td>advice Talk to your neighbours family to excha...</td>\n      <td>Positive</td>\n      <td>0</td>\n    </tr>\n    <tr>\n      <th>2</th>\n      <td>3801</td>\n      <td>48753</td>\n      <td>Vagabonds</td>\n      <td>16-03-2020</td>\n      <td>Coronavirus Australia: Woolworths to give elde...</td>\n      <td>Positive</td>\n      <td>0</td>\n    </tr>\n    <tr>\n      <th>3</th>\n      <td>3802</td>\n      <td>48754</td>\n      <td>NaN</td>\n      <td>16-03-2020</td>\n      <td>My food stock is not the only one which is emp...</td>\n      <td>Positive</td>\n      <td>0</td>\n    </tr>\n    <tr>\n      <th>4</th>\n      <td>3803</td>\n      <td>48755</td>\n      <td>NaN</td>\n      <td>16-03-2020</td>\n      <td>Me, ready to go at supermarket during the #COV...</td>\n      <td>Extremely Negative</td>\n      <td>0</td>\n    </tr>\n  </tbody>\n</table>\n</div>"
     },
     "metadata": {},
     "execution_count": 15
    }
   ],
   "source": [
    "covid.head()"
   ]
  },
  {
   "cell_type": "code",
   "execution_count": 16,
   "metadata": {
    "collapsed": true
   },
   "outputs": [],
   "source": [
    "covid['Sentiment']= covid['Sentiment'].str.replace('Extremely Positive','Positive')\n",
    "covid['Sentiment']= covid['Sentiment'].str.replace('Extremely Negative','Negative')\n"
   ]
  },
  {
   "cell_type": "code",
   "execution_count": 17,
   "metadata": {},
   "outputs": [
    {
     "output_type": "execute_result",
     "data": {
      "text/plain": [
       "    UserName  ScreenName                   Location     TweetAt  \\\n",
       "0       3799       48751                     London  16-03-2020   \n",
       "1       3800       48752                         UK  16-03-2020   \n",
       "2       3801       48753                  Vagabonds  16-03-2020   \n",
       "3       3802       48754                        NaN  16-03-2020   \n",
       "4       3803       48755                        NaN  16-03-2020   \n",
       "5       3804       48756             ÃT: 36.319708  16-03-2020   \n",
       "6       3805       48757                  35.926541  16-03-2020   \n",
       "7       3806       48758                    Austria  16-03-2020   \n",
       "8       3807       48759                    Atlanta  16-03-2020   \n",
       "9       3808       48760                  BHAVNAGAR  16-03-2020   \n",
       "10      3809       48761                     Makati  16-03-2020   \n",
       "11      3810       48762               Pitt Meadows  16-03-2020   \n",
       "12      3811       48763                 Horningsea  16-03-2020   \n",
       "13      3812       48764                    Chicago  16-03-2020   \n",
       "14      3813       48765                        NaN  16-03-2020   \n",
       "15      3814       48766                    Houston  16-03-2020   \n",
       "16      3815       48767               Saudi Arabia  16-03-2020   \n",
       "17      3816       48768                    Ontario  16-03-2020   \n",
       "18      3817       48769              North America  16-03-2020   \n",
       "19      3818       48770                     Denver  16-03-2020   \n",
       "20      3819       48771       southampton soxx xxx  16-03-2020   \n",
       "21      3820       48772                     Global  16-03-2020   \n",
       "22      3821       48773                        NaN  16-03-2020   \n",
       "23      3822       48774                        NaN  16-03-2020   \n",
       "24      3823       48775           Downstage centre  16-03-2020   \n",
       "25      3824       48776                     London  16-03-2020   \n",
       "26      3825       48777                    Ketchum  16-03-2020   \n",
       "27      3826       48778        Everywhere You Are!  16-03-2020   \n",
       "28      3827       48779                   New York  16-03-2020   \n",
       "29      3828       48780                  Someplace  16-03-2020   \n",
       "30      3829       48781                        NaN  16-03-2020   \n",
       "31      3830       48782                        NaN  16-03-2020   \n",
       "32      3831       48783                    Markham  16-03-2020   \n",
       "33      3832       48784                   Virginia  16-03-2020   \n",
       "34      3833       48785                     London  16-03-2020   \n",
       "35      3834       48786                    Sverige  16-03-2020   \n",
       "36      3835       48787  Where The Wild Things Are  16-03-2020   \n",
       "37      3836       48788                     Canada  16-03-2020   \n",
       "38      3837       48789                        NaN  16-03-2020   \n",
       "39      3838       48790              United States  16-03-2020   \n",
       "40      3839       48791                 Fort Worth  16-03-2020   \n",
       "41      3840       48792                        NaN  16-03-2020   \n",
       "42      3841       48793                    Houston  16-03-2020   \n",
       "43      3842       48794                  Vancouver  16-03-2020   \n",
       "44      3843       48795                        NaN  16-03-2020   \n",
       "45      3844       48796                    Midrand  16-03-2020   \n",
       "46      3845       48797                   Drogheda  16-03-2020   \n",
       "47      3846       48798                   Columbia  16-03-2020   \n",
       "48      3847       48799                   Arkansas  16-03-2020   \n",
       "49      3848       48800                 Washington  16-03-2020   \n",
       "\n",
       "                                        OriginalTweet Sentiment  id  \n",
       "0   @MeNyrbie @Phil_Gahan @Chrisitv https://t.co/i...   Neutral   0  \n",
       "1   advice Talk to your neighbours family to excha...  Positive   0  \n",
       "2   Coronavirus Australia: Woolworths to give elde...  Positive   0  \n",
       "3   My food stock is not the only one which is emp...  Positive   0  \n",
       "4   Me, ready to go at supermarket during the #COV...  Negative   0  \n",
       "5   As news of the regionÂs first confirmed COVID...  Positive   0  \n",
       "6   Cashier at grocery store was sharing his insig...  Positive   0  \n",
       "7   Was at the supermarket today. Didn't buy toile...   Neutral   0  \n",
       "8   Due to COVID-19 our retail store and classroom...  Positive   0  \n",
       "9   For corona prevention,we should stop to buy th...  Negative   0  \n",
       "10  All month there hasn't been crowding in the su...   Neutral   0  \n",
       "11  Due to the Covid-19 situation, we have increas...  Positive   0  \n",
       "12  #horningsea is a caring community. LetÂs ALL ...  Positive   0  \n",
       "13  Me: I don't need to stock up on food, I'll jus...  Positive   0  \n",
       "14  ADARA Releases COVID-19 Resource Center for Tr...  Positive   0  \n",
       "15  Lines at the grocery store have been unpredict...  Positive   0  \n",
       "16  ????? ????? ????? ????? ??\\r\\r\\n?????? ????? ?...   Neutral   0  \n",
       "17  @eyeonthearctic 16MAR20 Russia consumer survei...   Neutral   0  \n",
       "18  Amazon Glitch Stymies Whole Foods, Fresh Groce...  Positive   0  \n",
       "19  For those who aren't struggling, please consid...  Positive   0  \n",
       "20  with 100  nations inficted with  covid  19  th...  Negative   0  \n",
       "21  https://t.co/AVKrR9syff\\r\\r\\n\\r\\r\\nThe COVID-1...   Neutral   0  \n",
       "22  We have AMAZING CHEAP DEALS! FOR THE #COVID201...  Positive   0  \n",
       "23  We have AMAZING CHEAP DEALS! FOR THE #COVID201...  Positive   0  \n",
       "24  @10DowningStreet @grantshapps what is being do...  Negative   0  \n",
       "25  UK #consumer poll indicates the majority expec...  Positive   0  \n",
       "26  In preparation for higher demand and a potenti...  Negative   0  \n",
       "27  This morning I tested positive for Covid 19. I...  Negative   0  \n",
       "28  Do you see malicious price increases in NYC? T...  Negative   0  \n",
       "29  @7SealsOfTheEnd Soon with dwindling supplies u...  Negative   0  \n",
       "30  There Is of in the Country  The more empty she...  Negative   0  \n",
       "31  'Hole' Foods...\\r\\r\\n\\r\\r\\n...images from the ...  Positive   0  \n",
       "32  Retail store closures could explode because of...   Neutral   0  \n",
       "33  Coronavirus fun fact: if you cough at the groc...  Positive   0  \n",
       "34  We're sorry to say that our @FinFabUK event is...  Negative   0  \n",
       "35  Went to the supermarket yesterday and the toil...   Neutral   0  \n",
       "36  Yes, buy only what you need.\\r\\r\\n\\r\\r\\nBut wh...  Positive   0  \n",
       "37  Worried about the impact of the current COVID-...  Positive   0  \n",
       "38  my wife works retail&amp;a customer came in ye...  Negative   0  \n",
       "39  Now I can go to the supermarket like this with...  Positive   0  \n",
       "40  We're here to provide a safe shopping experien...  Positive   0  \n",
       "41  Curious,  do we think retail shoppers will do ...  Positive   0  \n",
       "42  CHECK VIDEO ?? https://t.co/1ksn9Brl02 ??No fo...  Negative   0  \n",
       "43  Breaking Story: Online clothes shopping rises ...   Neutral   0  \n",
       "44  This is the line outside  @Target  in as custo...   Neutral   0  \n",
       "45  South Africans stock up on food, basic goods a...  Negative   0  \n",
       "46   Please Share  Know someone who s 65 Living on...  Positive   0  \n",
       "47  People posting and sharing photos of of half t...  Positive   0  \n",
       "48  Never thought I'd say this, but. 2019, Will yo...  Positive   0  \n",
       "49  COVID-19 restrictions sparking a run on cannab...   Neutral   0  "
      ],
      "text/html": "<div>\n<style scoped>\n    .dataframe tbody tr th:only-of-type {\n        vertical-align: middle;\n    }\n\n    .dataframe tbody tr th {\n        vertical-align: top;\n    }\n\n    .dataframe thead th {\n        text-align: right;\n    }\n</style>\n<table border=\"1\" class=\"dataframe\">\n  <thead>\n    <tr style=\"text-align: right;\">\n      <th></th>\n      <th>UserName</th>\n      <th>ScreenName</th>\n      <th>Location</th>\n      <th>TweetAt</th>\n      <th>OriginalTweet</th>\n      <th>Sentiment</th>\n      <th>id</th>\n    </tr>\n  </thead>\n  <tbody>\n    <tr>\n      <th>0</th>\n      <td>3799</td>\n      <td>48751</td>\n      <td>London</td>\n      <td>16-03-2020</td>\n      <td>@MeNyrbie @Phil_Gahan @Chrisitv https://t.co/i...</td>\n      <td>Neutral</td>\n      <td>0</td>\n    </tr>\n    <tr>\n      <th>1</th>\n      <td>3800</td>\n      <td>48752</td>\n      <td>UK</td>\n      <td>16-03-2020</td>\n      <td>advice Talk to your neighbours family to excha...</td>\n      <td>Positive</td>\n      <td>0</td>\n    </tr>\n    <tr>\n      <th>2</th>\n      <td>3801</td>\n      <td>48753</td>\n      <td>Vagabonds</td>\n      <td>16-03-2020</td>\n      <td>Coronavirus Australia: Woolworths to give elde...</td>\n      <td>Positive</td>\n      <td>0</td>\n    </tr>\n    <tr>\n      <th>3</th>\n      <td>3802</td>\n      <td>48754</td>\n      <td>NaN</td>\n      <td>16-03-2020</td>\n      <td>My food stock is not the only one which is emp...</td>\n      <td>Positive</td>\n      <td>0</td>\n    </tr>\n    <tr>\n      <th>4</th>\n      <td>3803</td>\n      <td>48755</td>\n      <td>NaN</td>\n      <td>16-03-2020</td>\n      <td>Me, ready to go at supermarket during the #COV...</td>\n      <td>Negative</td>\n      <td>0</td>\n    </tr>\n    <tr>\n      <th>5</th>\n      <td>3804</td>\n      <td>48756</td>\n      <td>ÃT: 36.319708</td>\n      <td>16-03-2020</td>\n      <td>As news of the regionÂs first confirmed COVID...</td>\n      <td>Positive</td>\n      <td>0</td>\n    </tr>\n    <tr>\n      <th>6</th>\n      <td>3805</td>\n      <td>48757</td>\n      <td>35.926541</td>\n      <td>16-03-2020</td>\n      <td>Cashier at grocery store was sharing his insig...</td>\n      <td>Positive</td>\n      <td>0</td>\n    </tr>\n    <tr>\n      <th>7</th>\n      <td>3806</td>\n      <td>48758</td>\n      <td>Austria</td>\n      <td>16-03-2020</td>\n      <td>Was at the supermarket today. Didn't buy toile...</td>\n      <td>Neutral</td>\n      <td>0</td>\n    </tr>\n    <tr>\n      <th>8</th>\n      <td>3807</td>\n      <td>48759</td>\n      <td>Atlanta</td>\n      <td>16-03-2020</td>\n      <td>Due to COVID-19 our retail store and classroom...</td>\n      <td>Positive</td>\n      <td>0</td>\n    </tr>\n    <tr>\n      <th>9</th>\n      <td>3808</td>\n      <td>48760</td>\n      <td>BHAVNAGAR</td>\n      <td>16-03-2020</td>\n      <td>For corona prevention,we should stop to buy th...</td>\n      <td>Negative</td>\n      <td>0</td>\n    </tr>\n    <tr>\n      <th>10</th>\n      <td>3809</td>\n      <td>48761</td>\n      <td>Makati</td>\n      <td>16-03-2020</td>\n      <td>All month there hasn't been crowding in the su...</td>\n      <td>Neutral</td>\n      <td>0</td>\n    </tr>\n    <tr>\n      <th>11</th>\n      <td>3810</td>\n      <td>48762</td>\n      <td>Pitt Meadows</td>\n      <td>16-03-2020</td>\n      <td>Due to the Covid-19 situation, we have increas...</td>\n      <td>Positive</td>\n      <td>0</td>\n    </tr>\n    <tr>\n      <th>12</th>\n      <td>3811</td>\n      <td>48763</td>\n      <td>Horningsea</td>\n      <td>16-03-2020</td>\n      <td>#horningsea is a caring community. LetÂs ALL ...</td>\n      <td>Positive</td>\n      <td>0</td>\n    </tr>\n    <tr>\n      <th>13</th>\n      <td>3812</td>\n      <td>48764</td>\n      <td>Chicago</td>\n      <td>16-03-2020</td>\n      <td>Me: I don't need to stock up on food, I'll jus...</td>\n      <td>Positive</td>\n      <td>0</td>\n    </tr>\n    <tr>\n      <th>14</th>\n      <td>3813</td>\n      <td>48765</td>\n      <td>NaN</td>\n      <td>16-03-2020</td>\n      <td>ADARA Releases COVID-19 Resource Center for Tr...</td>\n      <td>Positive</td>\n      <td>0</td>\n    </tr>\n    <tr>\n      <th>15</th>\n      <td>3814</td>\n      <td>48766</td>\n      <td>Houston</td>\n      <td>16-03-2020</td>\n      <td>Lines at the grocery store have been unpredict...</td>\n      <td>Positive</td>\n      <td>0</td>\n    </tr>\n    <tr>\n      <th>16</th>\n      <td>3815</td>\n      <td>48767</td>\n      <td>Saudi Arabia</td>\n      <td>16-03-2020</td>\n      <td>????? ????? ????? ????? ??\\r\\r\\n?????? ????? ?...</td>\n      <td>Neutral</td>\n      <td>0</td>\n    </tr>\n    <tr>\n      <th>17</th>\n      <td>3816</td>\n      <td>48768</td>\n      <td>Ontario</td>\n      <td>16-03-2020</td>\n      <td>@eyeonthearctic 16MAR20 Russia consumer survei...</td>\n      <td>Neutral</td>\n      <td>0</td>\n    </tr>\n    <tr>\n      <th>18</th>\n      <td>3817</td>\n      <td>48769</td>\n      <td>North America</td>\n      <td>16-03-2020</td>\n      <td>Amazon Glitch Stymies Whole Foods, Fresh Groce...</td>\n      <td>Positive</td>\n      <td>0</td>\n    </tr>\n    <tr>\n      <th>19</th>\n      <td>3818</td>\n      <td>48770</td>\n      <td>Denver</td>\n      <td>16-03-2020</td>\n      <td>For those who aren't struggling, please consid...</td>\n      <td>Positive</td>\n      <td>0</td>\n    </tr>\n    <tr>\n      <th>20</th>\n      <td>3819</td>\n      <td>48771</td>\n      <td>southampton soxx xxx</td>\n      <td>16-03-2020</td>\n      <td>with 100  nations inficted with  covid  19  th...</td>\n      <td>Negative</td>\n      <td>0</td>\n    </tr>\n    <tr>\n      <th>21</th>\n      <td>3820</td>\n      <td>48772</td>\n      <td>Global</td>\n      <td>16-03-2020</td>\n      <td>https://t.co/AVKrR9syff\\r\\r\\n\\r\\r\\nThe COVID-1...</td>\n      <td>Neutral</td>\n      <td>0</td>\n    </tr>\n    <tr>\n      <th>22</th>\n      <td>3821</td>\n      <td>48773</td>\n      <td>NaN</td>\n      <td>16-03-2020</td>\n      <td>We have AMAZING CHEAP DEALS! FOR THE #COVID201...</td>\n      <td>Positive</td>\n      <td>0</td>\n    </tr>\n    <tr>\n      <th>23</th>\n      <td>3822</td>\n      <td>48774</td>\n      <td>NaN</td>\n      <td>16-03-2020</td>\n      <td>We have AMAZING CHEAP DEALS! FOR THE #COVID201...</td>\n      <td>Positive</td>\n      <td>0</td>\n    </tr>\n    <tr>\n      <th>24</th>\n      <td>3823</td>\n      <td>48775</td>\n      <td>Downstage centre</td>\n      <td>16-03-2020</td>\n      <td>@10DowningStreet @grantshapps what is being do...</td>\n      <td>Negative</td>\n      <td>0</td>\n    </tr>\n    <tr>\n      <th>25</th>\n      <td>3824</td>\n      <td>48776</td>\n      <td>London</td>\n      <td>16-03-2020</td>\n      <td>UK #consumer poll indicates the majority expec...</td>\n      <td>Positive</td>\n      <td>0</td>\n    </tr>\n    <tr>\n      <th>26</th>\n      <td>3825</td>\n      <td>48777</td>\n      <td>Ketchum</td>\n      <td>16-03-2020</td>\n      <td>In preparation for higher demand and a potenti...</td>\n      <td>Negative</td>\n      <td>0</td>\n    </tr>\n    <tr>\n      <th>27</th>\n      <td>3826</td>\n      <td>48778</td>\n      <td>Everywhere You Are!</td>\n      <td>16-03-2020</td>\n      <td>This morning I tested positive for Covid 19. I...</td>\n      <td>Negative</td>\n      <td>0</td>\n    </tr>\n    <tr>\n      <th>28</th>\n      <td>3827</td>\n      <td>48779</td>\n      <td>New York</td>\n      <td>16-03-2020</td>\n      <td>Do you see malicious price increases in NYC? T...</td>\n      <td>Negative</td>\n      <td>0</td>\n    </tr>\n    <tr>\n      <th>29</th>\n      <td>3828</td>\n      <td>48780</td>\n      <td>Someplace</td>\n      <td>16-03-2020</td>\n      <td>@7SealsOfTheEnd Soon with dwindling supplies u...</td>\n      <td>Negative</td>\n      <td>0</td>\n    </tr>\n    <tr>\n      <th>30</th>\n      <td>3829</td>\n      <td>48781</td>\n      <td>NaN</td>\n      <td>16-03-2020</td>\n      <td>There Is of in the Country  The more empty she...</td>\n      <td>Negative</td>\n      <td>0</td>\n    </tr>\n    <tr>\n      <th>31</th>\n      <td>3830</td>\n      <td>48782</td>\n      <td>NaN</td>\n      <td>16-03-2020</td>\n      <td>'Hole' Foods...\\r\\r\\n\\r\\r\\n...images from the ...</td>\n      <td>Positive</td>\n      <td>0</td>\n    </tr>\n    <tr>\n      <th>32</th>\n      <td>3831</td>\n      <td>48783</td>\n      <td>Markham</td>\n      <td>16-03-2020</td>\n      <td>Retail store closures could explode because of...</td>\n      <td>Neutral</td>\n      <td>0</td>\n    </tr>\n    <tr>\n      <th>33</th>\n      <td>3832</td>\n      <td>48784</td>\n      <td>Virginia</td>\n      <td>16-03-2020</td>\n      <td>Coronavirus fun fact: if you cough at the groc...</td>\n      <td>Positive</td>\n      <td>0</td>\n    </tr>\n    <tr>\n      <th>34</th>\n      <td>3833</td>\n      <td>48785</td>\n      <td>London</td>\n      <td>16-03-2020</td>\n      <td>We're sorry to say that our @FinFabUK event is...</td>\n      <td>Negative</td>\n      <td>0</td>\n    </tr>\n    <tr>\n      <th>35</th>\n      <td>3834</td>\n      <td>48786</td>\n      <td>Sverige</td>\n      <td>16-03-2020</td>\n      <td>Went to the supermarket yesterday and the toil...</td>\n      <td>Neutral</td>\n      <td>0</td>\n    </tr>\n    <tr>\n      <th>36</th>\n      <td>3835</td>\n      <td>48787</td>\n      <td>Where The Wild Things Are</td>\n      <td>16-03-2020</td>\n      <td>Yes, buy only what you need.\\r\\r\\n\\r\\r\\nBut wh...</td>\n      <td>Positive</td>\n      <td>0</td>\n    </tr>\n    <tr>\n      <th>37</th>\n      <td>3836</td>\n      <td>48788</td>\n      <td>Canada</td>\n      <td>16-03-2020</td>\n      <td>Worried about the impact of the current COVID-...</td>\n      <td>Positive</td>\n      <td>0</td>\n    </tr>\n    <tr>\n      <th>38</th>\n      <td>3837</td>\n      <td>48789</td>\n      <td>NaN</td>\n      <td>16-03-2020</td>\n      <td>my wife works retail&amp;amp;a customer came in ye...</td>\n      <td>Negative</td>\n      <td>0</td>\n    </tr>\n    <tr>\n      <th>39</th>\n      <td>3838</td>\n      <td>48790</td>\n      <td>United States</td>\n      <td>16-03-2020</td>\n      <td>Now I can go to the supermarket like this with...</td>\n      <td>Positive</td>\n      <td>0</td>\n    </tr>\n    <tr>\n      <th>40</th>\n      <td>3839</td>\n      <td>48791</td>\n      <td>Fort Worth</td>\n      <td>16-03-2020</td>\n      <td>We're here to provide a safe shopping experien...</td>\n      <td>Positive</td>\n      <td>0</td>\n    </tr>\n    <tr>\n      <th>41</th>\n      <td>3840</td>\n      <td>48792</td>\n      <td>NaN</td>\n      <td>16-03-2020</td>\n      <td>Curious,  do we think retail shoppers will do ...</td>\n      <td>Positive</td>\n      <td>0</td>\n    </tr>\n    <tr>\n      <th>42</th>\n      <td>3841</td>\n      <td>48793</td>\n      <td>Houston</td>\n      <td>16-03-2020</td>\n      <td>CHECK VIDEO ?? https://t.co/1ksn9Brl02 ??No fo...</td>\n      <td>Negative</td>\n      <td>0</td>\n    </tr>\n    <tr>\n      <th>43</th>\n      <td>3842</td>\n      <td>48794</td>\n      <td>Vancouver</td>\n      <td>16-03-2020</td>\n      <td>Breaking Story: Online clothes shopping rises ...</td>\n      <td>Neutral</td>\n      <td>0</td>\n    </tr>\n    <tr>\n      <th>44</th>\n      <td>3843</td>\n      <td>48795</td>\n      <td>NaN</td>\n      <td>16-03-2020</td>\n      <td>This is the line outside  @Target  in as custo...</td>\n      <td>Neutral</td>\n      <td>0</td>\n    </tr>\n    <tr>\n      <th>45</th>\n      <td>3844</td>\n      <td>48796</td>\n      <td>Midrand</td>\n      <td>16-03-2020</td>\n      <td>South Africans stock up on food, basic goods a...</td>\n      <td>Negative</td>\n      <td>0</td>\n    </tr>\n    <tr>\n      <th>46</th>\n      <td>3845</td>\n      <td>48797</td>\n      <td>Drogheda</td>\n      <td>16-03-2020</td>\n      <td>Please Share  Know someone who s 65 Living on...</td>\n      <td>Positive</td>\n      <td>0</td>\n    </tr>\n    <tr>\n      <th>47</th>\n      <td>3846</td>\n      <td>48798</td>\n      <td>Columbia</td>\n      <td>16-03-2020</td>\n      <td>People posting and sharing photos of of half t...</td>\n      <td>Positive</td>\n      <td>0</td>\n    </tr>\n    <tr>\n      <th>48</th>\n      <td>3847</td>\n      <td>48799</td>\n      <td>Arkansas</td>\n      <td>16-03-2020</td>\n      <td>Never thought I'd say this, but. 2019, Will yo...</td>\n      <td>Positive</td>\n      <td>0</td>\n    </tr>\n    <tr>\n      <th>49</th>\n      <td>3848</td>\n      <td>48800</td>\n      <td>Washington</td>\n      <td>16-03-2020</td>\n      <td>COVID-19 restrictions sparking a run on cannab...</td>\n      <td>Neutral</td>\n      <td>0</td>\n    </tr>\n  </tbody>\n</table>\n</div>"
     },
     "metadata": {},
     "execution_count": 17
    }
   ],
   "source": [
    "covid[:50]"
   ]
  },
  {
   "cell_type": "code",
   "execution_count": 18,
   "metadata": {},
   "outputs": [
    {
     "output_type": "execute_result",
     "data": {
      "text/plain": [
       "                                           OriginalTweet Sentiment  id\n",
       "0      @MeNyrbie @Phil_Gahan @Chrisitv https://t.co/i...   Neutral   0\n",
       "1      advice Talk to your neighbours family to excha...  Positive   0\n",
       "2      Coronavirus Australia: Woolworths to give elde...  Positive   0\n",
       "3      My food stock is not the only one which is emp...  Positive   0\n",
       "4      Me, ready to go at supermarket during the #COV...  Negative   0\n",
       "...                                                  ...       ...  ..\n",
       "44950  Meanwhile In A Supermarket in Israel -- People...  Positive   1\n",
       "44951  Did you panic buy a lot of non-perishable item...  Negative   1\n",
       "44952  Asst Prof of Economics @cconces was on @NBCPhi...   Neutral   1\n",
       "44953  Gov need to do somethings instead of biar je r...  Negative   1\n",
       "44954  I and @ForestandPaper members are committed to...  Positive   1\n",
       "\n",
       "[44955 rows x 3 columns]"
      ],
      "text/html": "<div>\n<style scoped>\n    .dataframe tbody tr th:only-of-type {\n        vertical-align: middle;\n    }\n\n    .dataframe tbody tr th {\n        vertical-align: top;\n    }\n\n    .dataframe thead th {\n        text-align: right;\n    }\n</style>\n<table border=\"1\" class=\"dataframe\">\n  <thead>\n    <tr style=\"text-align: right;\">\n      <th></th>\n      <th>OriginalTweet</th>\n      <th>Sentiment</th>\n      <th>id</th>\n    </tr>\n  </thead>\n  <tbody>\n    <tr>\n      <th>0</th>\n      <td>@MeNyrbie @Phil_Gahan @Chrisitv https://t.co/i...</td>\n      <td>Neutral</td>\n      <td>0</td>\n    </tr>\n    <tr>\n      <th>1</th>\n      <td>advice Talk to your neighbours family to excha...</td>\n      <td>Positive</td>\n      <td>0</td>\n    </tr>\n    <tr>\n      <th>2</th>\n      <td>Coronavirus Australia: Woolworths to give elde...</td>\n      <td>Positive</td>\n      <td>0</td>\n    </tr>\n    <tr>\n      <th>3</th>\n      <td>My food stock is not the only one which is emp...</td>\n      <td>Positive</td>\n      <td>0</td>\n    </tr>\n    <tr>\n      <th>4</th>\n      <td>Me, ready to go at supermarket during the #COV...</td>\n      <td>Negative</td>\n      <td>0</td>\n    </tr>\n    <tr>\n      <th>...</th>\n      <td>...</td>\n      <td>...</td>\n      <td>...</td>\n    </tr>\n    <tr>\n      <th>44950</th>\n      <td>Meanwhile In A Supermarket in Israel -- People...</td>\n      <td>Positive</td>\n      <td>1</td>\n    </tr>\n    <tr>\n      <th>44951</th>\n      <td>Did you panic buy a lot of non-perishable item...</td>\n      <td>Negative</td>\n      <td>1</td>\n    </tr>\n    <tr>\n      <th>44952</th>\n      <td>Asst Prof of Economics @cconces was on @NBCPhi...</td>\n      <td>Neutral</td>\n      <td>1</td>\n    </tr>\n    <tr>\n      <th>44953</th>\n      <td>Gov need to do somethings instead of biar je r...</td>\n      <td>Negative</td>\n      <td>1</td>\n    </tr>\n    <tr>\n      <th>44954</th>\n      <td>I and @ForestandPaper members are committed to...</td>\n      <td>Positive</td>\n      <td>1</td>\n    </tr>\n  </tbody>\n</table>\n<p>44955 rows × 3 columns</p>\n</div>"
     },
     "metadata": {},
     "execution_count": 18
    }
   ],
   "source": [
    "covid = covid.drop('UserName',axis=1)\n",
    "covid = covid.drop('ScreenName',axis=1)\n",
    "covid = covid.drop('Location',axis=1)\n",
    "covid = covid.drop('TweetAt',axis=1)\n",
    "covid"
   ]
  },
  {
   "cell_type": "code",
   "execution_count": 19,
   "metadata": {
    "collapsed": true
   },
   "outputs": [],
   "source": [
    "covid['Sentiment'] = covid['Sentiment'].map({'Neutral':0,'Positive':1,'Negative':2})\n"
   ]
  },
  {
   "cell_type": "code",
   "execution_count": 20,
   "metadata": {},
   "outputs": [
    {
     "output_type": "execute_result",
     "data": {
      "text/plain": [
       "#coronavirus            12320\n",
       "#COVID19                 3221\n",
       "#Covid_19                2497\n",
       "#Coronavirus             2081\n",
       "#COVID2019               1603\n",
       "#toiletpaper             1338\n",
       "#covid19                 1100\n",
       "#COVID?19                 792\n",
       "#CoronaCrisis             719\n",
       "#CoronaVirus              600\n",
       "#SocialDistancing         598\n",
       "#covid_19                 432\n",
       "#CoronavirusPandemic      409\n",
       "#CoronavirusOutbreak      391\n",
       "#pandemic                 376\n",
       "#StayHomeSaveLives        334\n",
       "#Covid19                  331\n",
       "#StayAtHome               319\n",
       "#lockdown                 314\n",
       "#supermarket              306\n",
       "#StayHome                 305\n",
       "#panicbuying              298\n",
       "#coronavirus.             295\n",
       "#retail                   289\n",
       "#corona                   280\n",
       "#CoronaVirusUpdate        280\n",
       "#StopHoarding             274\n",
       "#socialdistancing         265\n",
       "#COVID-19                 224\n",
       "#StopPanicBuying          218\n",
       "Name: 0, dtype: int64"
      ]
     },
     "metadata": {},
     "execution_count": 20
    }
   ],
   "source": [
    "hashtags = train['OriginalTweet'].str.extractall(r\"(#\\S+)\")\n",
    "hashtags = hashtags[0].value_counts()\n",
    "hashtags[:30]"
   ]
  },
  {
   "cell_type": "code",
   "execution_count": 21,
   "metadata": {
    "scrolled": true
   },
   "outputs": [
    {
     "output_type": "execute_result",
     "data": {
      "text/plain": [
       "@realDonaldTrump    239\n",
       "@Tesco              180\n",
       "@sainsburys         152\n",
       "@BorisJohnson       141\n",
       "@narendramodi       110\n",
       "@asda               103\n",
       "@amazon              95\n",
       "@PMOIndia            94\n",
       "@Morrisons           87\n",
       "@piersmorgan         84\n",
       "@YouTube             83\n",
       "@waitrose            70\n",
       "@CNN                 56\n",
       "@AldiUK              52\n",
       "@FTC                 48\n",
       "@Walmart             47\n",
       "@CDCgov              44\n",
       "@NYGovCuomo          42\n",
       "@BBCNews             41\n",
       "@SkyNews             40\n",
       "@LidlGB              38\n",
       "@nytimes             37\n",
       "@ssupnow             37\n",
       "@MailOnline          36\n",
       "@WSJ                 34\n",
       "@McKinsey            33\n",
       "@Coles               33\n",
       "@kroger              31\n",
       "@10DowningStreet     31\n",
       "@WHO                 30\n",
       "Name: 0, dtype: int64"
      ]
     },
     "metadata": {},
     "execution_count": 21
    }
   ],
   "source": [
    "mentions = train['OriginalTweet'].str.extractall(r\"(@\\S+)\")\n",
    "mentions = mentions[0].value_counts()\n",
    "mentions[:30]"
   ]
  },
  {
   "cell_type": "code",
   "execution_count": 22,
   "metadata": {
    "collapsed": true
   },
   "outputs": [],
   "source": [
    "import re\n",
    "\n",
    "\n",
    "def clean(text):\n",
    "    text = re.sub(r'http\\S+', \" \", text)\n",
    "    text = re.sub(r'@\\w+',' ',text)\n",
    "    text = re.sub(r'#\\w+', ' ', text)\n",
    "    text = re.sub(r'\\d+', ' ', text)\n",
    "    text = re.sub('r<.*?>',' ', text)\n",
    "    text = text.split()\n",
    "    text = \" \".join([word for word in text if not word in stopWord])\n",
    "    \n",
    "    return text"
   ]
  },
  {
   "cell_type": "code",
   "execution_count": 23,
   "metadata": {},
   "outputs": [
    {
     "output_type": "stream",
     "name": "stderr",
     "text": [
      "[nltk_data] Downloading package stopwords to /home/arun/nltk_data...\n[nltk_data]   Package stopwords is already up-to-date!\n"
     ]
    }
   ],
   "source": [
    "import nltk\n",
    "nltk.download('stopwords')\n",
    "from nltk.corpus import stopwords"
   ]
  },
  {
   "cell_type": "code",
   "execution_count": 24,
   "metadata": {},
   "outputs": [],
   "source": [
    "stopWord = stopwords.words('english')"
   ]
  },
  {
   "cell_type": "code",
   "execution_count": 25,
   "metadata": {
    "collapsed": true
   },
   "outputs": [],
   "source": [
    "covid['OriginalTweet'] = covid['OriginalTweet'].apply(lambda x: clean(x))"
   ]
  },
  {
   "cell_type": "code",
   "execution_count": 26,
   "metadata": {},
   "outputs": [
    {
     "output_type": "execute_result",
     "data": {
      "text/plain": [
       "                                       OriginalTweet  Sentiment  id\n",
       "0                                                             0   0\n",
       "1  advice Talk neighbours family exchange phone n...          1   0\n",
       "2  Coronavirus Australia: Woolworths give elderly...          1   0\n",
       "3  My food stock one empty... PLEASE, panic, THER...          1   0\n",
       "4  Me, ready go supermarket outbreak. Not I'm par...          2   0"
      ],
      "text/html": "<div>\n<style scoped>\n    .dataframe tbody tr th:only-of-type {\n        vertical-align: middle;\n    }\n\n    .dataframe tbody tr th {\n        vertical-align: top;\n    }\n\n    .dataframe thead th {\n        text-align: right;\n    }\n</style>\n<table border=\"1\" class=\"dataframe\">\n  <thead>\n    <tr style=\"text-align: right;\">\n      <th></th>\n      <th>OriginalTweet</th>\n      <th>Sentiment</th>\n      <th>id</th>\n    </tr>\n  </thead>\n  <tbody>\n    <tr>\n      <th>0</th>\n      <td></td>\n      <td>0</td>\n      <td>0</td>\n    </tr>\n    <tr>\n      <th>1</th>\n      <td>advice Talk neighbours family exchange phone n...</td>\n      <td>1</td>\n      <td>0</td>\n    </tr>\n    <tr>\n      <th>2</th>\n      <td>Coronavirus Australia: Woolworths give elderly...</td>\n      <td>1</td>\n      <td>0</td>\n    </tr>\n    <tr>\n      <th>3</th>\n      <td>My food stock one empty... PLEASE, panic, THER...</td>\n      <td>1</td>\n      <td>0</td>\n    </tr>\n    <tr>\n      <th>4</th>\n      <td>Me, ready go supermarket outbreak. Not I'm par...</td>\n      <td>2</td>\n      <td>0</td>\n    </tr>\n  </tbody>\n</table>\n</div>"
     },
     "metadata": {},
     "execution_count": 26
    }
   ],
   "source": [
    "covid.head()"
   ]
  },
  {
   "cell_type": "markdown",
   "metadata": {
    "collapsed": true
   },
   "source": [
    "## Visualization"
   ]
  },
  {
   "cell_type": "code",
   "execution_count": 27,
   "metadata": {},
   "outputs": [
    {
     "output_type": "execute_result",
     "data": {
      "text/plain": [
       "Text(0.5, 1.0, 'Twitted locations')"
      ]
     },
     "metadata": {},
     "execution_count": 27
    },
    {
     "output_type": "display_data",
     "data": {
      "text/plain": "<Figure size 720x720 with 1 Axes>",
      "image/svg+xml": "<?xml version=\"1.0\" encoding=\"utf-8\" standalone=\"no\"?>\n<!DOCTYPE svg PUBLIC \"-//W3C//DTD SVG 1.1//EN\"\n  \"http://www.w3.org/Graphics/SVG/1.1/DTD/svg11.dtd\">\n<!-- Created with matplotlib (https://matplotlib.org/) -->\n<svg height=\"603.474375pt\" version=\"1.1\" viewBox=\"0 0 673.342187 603.474375\" width=\"673.342187pt\" xmlns=\"http://www.w3.org/2000/svg\" xmlns:xlink=\"http://www.w3.org/1999/xlink\">\n <metadata>\n  <rdf:RDF xmlns:cc=\"http://creativecommons.org/ns#\" xmlns:dc=\"http://purl.org/dc/elements/1.1/\" xmlns:rdf=\"http://www.w3.org/1999/02/22-rdf-syntax-ns#\">\n   <cc:Work>\n    <dc:type rdf:resource=\"http://purl.org/dc/dcmitype/StillImage\"/>\n    <dc:date>2021-04-21T16:02:56.815394</dc:date>\n    <dc:format>image/svg+xml</dc:format>\n    <dc:creator>\n     <cc:Agent>\n      <dc:title>Matplotlib v3.3.4, https://matplotlib.org/</dc:title>\n     </cc:Agent>\n    </dc:creator>\n   </cc:Work>\n  </rdf:RDF>\n </metadata>\n <defs>\n  <style type=\"text/css\">*{stroke-linecap:butt;stroke-linejoin:round;}</style>\n </defs>\n <g id=\"figure_1\">\n  <g id=\"patch_1\">\n   <path d=\"M 0 603.474375 \nL 673.342187 603.474375 \nL 673.342187 0 \nL 0 0 \nz\n\" style=\"fill:none;\"/>\n  </g>\n  <g id=\"axes_1\">\n   <g id=\"patch_2\">\n    <path d=\"M 108.142188 565.918125 \nL 666.142187 565.918125 \nL 666.142187 22.318125 \nL 108.142188 22.318125 \nz\n\" style=\"fill:#ffffff;\"/>\n   </g>\n   <g id=\"patch_3\">\n    <path clip-path=\"url(#p47e61e253e)\" d=\"M 108.142188 27.754125 \nL 639.570759 27.754125 \nL 639.570759 71.242125 \nL 108.142188 71.242125 \nz\n\" style=\"fill:#3274a1;\"/>\n   </g>\n   <g id=\"patch_4\">\n    <path clip-path=\"url(#p47e61e253e)\" d=\"M 108.142188 82.114125 \nL 410.293637 82.114125 \nL 410.293637 125.602125 \nL 108.142188 125.602125 \nz\n\" style=\"fill:#e1812c;\"/>\n   </g>\n   <g id=\"patch_5\">\n    <path clip-path=\"url(#p47e61e253e)\" d=\"M 108.142188 136.474125 \nL 334.009984 136.474125 \nL 334.009984 179.962125 \nL 108.142188 179.962125 \nz\n\" style=\"fill:#3a923a;\"/>\n   </g>\n   <g id=\"patch_6\">\n    <path clip-path=\"url(#p47e61e253e)\" d=\"M 108.142188 190.834125 \nL 322.929677 190.834125 \nL 322.929677 234.322125 \nL 108.142188 234.322125 \nz\n\" style=\"fill:#c03d3e;\"/>\n   </g>\n   <g id=\"patch_7\">\n    <path clip-path=\"url(#p47e61e253e)\" d=\"M 108.142188 245.194125 \nL 279.460781 245.194125 \nL 279.460781 288.682125 \nL 108.142188 288.682125 \nz\n\" style=\"fill:#9372b2;\"/>\n   </g>\n   <g id=\"patch_8\">\n    <path clip-path=\"url(#p47e61e253e)\" d=\"M 108.142188 299.554125 \nL 255.595504 299.554125 \nL 255.595504 343.042125 \nL 108.142188 343.042125 \nz\n\" style=\"fill:#845b53;\"/>\n   </g>\n   <g id=\"patch_9\">\n    <path clip-path=\"url(#p47e61e253e)\" d=\"M 108.142188 353.914125 \nL 253.890841 353.914125 \nL 253.890841 397.402125 \nL 108.142188 397.402125 \nz\n\" style=\"fill:#d684bd;\"/>\n   </g>\n   <g id=\"patch_10\">\n    <path clip-path=\"url(#p47e61e253e)\" d=\"M 108.142188 408.274125 \nL 225.763908 408.274125 \nL 225.763908 451.762125 \nL 108.142188 451.762125 \nz\n\" style=\"fill:#7f7f7f;\"/>\n   </g>\n   <g id=\"patch_11\">\n    <path clip-path=\"url(#p47e61e253e)\" d=\"M 108.142188 462.634125 \nL 219.797589 462.634125 \nL 219.797589 506.122125 \nL 108.142188 506.122125 \nz\n\" style=\"fill:#a9aa35;\"/>\n   </g>\n   <g id=\"patch_12\">\n    <path clip-path=\"url(#p47e61e253e)\" d=\"M 108.142188 516.994125 \nL 216.814429 516.994125 \nL 216.814429 560.482125 \nL 108.142188 560.482125 \nz\n\" style=\"fill:#2eabb8;\"/>\n   </g>\n   <g id=\"matplotlib.axis_1\">\n    <g id=\"xtick_1\">\n     <g id=\"line2d_1\">\n      <defs>\n       <path d=\"M 0 0 \nL 0 3.5 \n\" id=\"m9d133368eb\" style=\"stroke:#000000;stroke-width:0.8;\"/>\n      </defs>\n      <g>\n       <use style=\"stroke:#000000;stroke-width:0.8;\" x=\"108.142188\" xlink:href=\"#m9d133368eb\" y=\"565.918125\"/>\n      </g>\n     </g>\n     <g id=\"text_1\">\n      <!-- 0 -->\n      <g transform=\"translate(104.960938 580.516562)scale(0.1 -0.1)\">\n       <defs>\n        <path d=\"M 31.78125 66.40625 \nQ 24.171875 66.40625 20.328125 58.90625 \nQ 16.5 51.421875 16.5 36.375 \nQ 16.5 21.390625 20.328125 13.890625 \nQ 24.171875 6.390625 31.78125 6.390625 \nQ 39.453125 6.390625 43.28125 13.890625 \nQ 47.125 21.390625 47.125 36.375 \nQ 47.125 51.421875 43.28125 58.90625 \nQ 39.453125 66.40625 31.78125 66.40625 \nz\nM 31.78125 74.21875 \nQ 44.046875 74.21875 50.515625 64.515625 \nQ 56.984375 54.828125 56.984375 36.375 \nQ 56.984375 17.96875 50.515625 8.265625 \nQ 44.046875 -1.421875 31.78125 -1.421875 \nQ 19.53125 -1.421875 13.0625 8.265625 \nQ 6.59375 17.96875 6.59375 36.375 \nQ 6.59375 54.828125 13.0625 64.515625 \nQ 19.53125 74.21875 31.78125 74.21875 \nz\n\" id=\"DejaVuSans-48\"/>\n       </defs>\n       <use xlink:href=\"#DejaVuSans-48\"/>\n      </g>\n     </g>\n    </g>\n    <g id=\"xtick_2\">\n     <g id=\"line2d_2\">\n      <g>\n       <use style=\"stroke:#000000;stroke-width:0.8;\" x=\"193.375318\" xlink:href=\"#m9d133368eb\" y=\"565.918125\"/>\n      </g>\n     </g>\n     <g id=\"text_2\">\n      <!-- 200 -->\n      <g transform=\"translate(183.831568 580.516562)scale(0.1 -0.1)\">\n       <defs>\n        <path d=\"M 19.1875 8.296875 \nL 53.609375 8.296875 \nL 53.609375 0 \nL 7.328125 0 \nL 7.328125 8.296875 \nQ 12.9375 14.109375 22.625 23.890625 \nQ 32.328125 33.6875 34.8125 36.53125 \nQ 39.546875 41.84375 41.421875 45.53125 \nQ 43.3125 49.21875 43.3125 52.78125 \nQ 43.3125 58.59375 39.234375 62.25 \nQ 35.15625 65.921875 28.609375 65.921875 \nQ 23.96875 65.921875 18.8125 64.3125 \nQ 13.671875 62.703125 7.8125 59.421875 \nL 7.8125 69.390625 \nQ 13.765625 71.78125 18.9375 73 \nQ 24.125 74.21875 28.421875 74.21875 \nQ 39.75 74.21875 46.484375 68.546875 \nQ 53.21875 62.890625 53.21875 53.421875 \nQ 53.21875 48.921875 51.53125 44.890625 \nQ 49.859375 40.875 45.40625 35.40625 \nQ 44.1875 33.984375 37.640625 27.21875 \nQ 31.109375 20.453125 19.1875 8.296875 \nz\n\" id=\"DejaVuSans-50\"/>\n       </defs>\n       <use xlink:href=\"#DejaVuSans-50\"/>\n       <use x=\"63.623047\" xlink:href=\"#DejaVuSans-48\"/>\n       <use x=\"127.246094\" xlink:href=\"#DejaVuSans-48\"/>\n      </g>\n     </g>\n    </g>\n    <g id=\"xtick_3\">\n     <g id=\"line2d_3\">\n      <g>\n       <use style=\"stroke:#000000;stroke-width:0.8;\" x=\"278.608449\" xlink:href=\"#m9d133368eb\" y=\"565.918125\"/>\n      </g>\n     </g>\n     <g id=\"text_3\">\n      <!-- 400 -->\n      <g transform=\"translate(269.064699 580.516562)scale(0.1 -0.1)\">\n       <defs>\n        <path d=\"M 37.796875 64.3125 \nL 12.890625 25.390625 \nL 37.796875 25.390625 \nz\nM 35.203125 72.90625 \nL 47.609375 72.90625 \nL 47.609375 25.390625 \nL 58.015625 25.390625 \nL 58.015625 17.1875 \nL 47.609375 17.1875 \nL 47.609375 0 \nL 37.796875 0 \nL 37.796875 17.1875 \nL 4.890625 17.1875 \nL 4.890625 26.703125 \nz\n\" id=\"DejaVuSans-52\"/>\n       </defs>\n       <use xlink:href=\"#DejaVuSans-52\"/>\n       <use x=\"63.623047\" xlink:href=\"#DejaVuSans-48\"/>\n       <use x=\"127.246094\" xlink:href=\"#DejaVuSans-48\"/>\n      </g>\n     </g>\n    </g>\n    <g id=\"xtick_4\">\n     <g id=\"line2d_4\">\n      <g>\n       <use style=\"stroke:#000000;stroke-width:0.8;\" x=\"363.84158\" xlink:href=\"#m9d133368eb\" y=\"565.918125\"/>\n      </g>\n     </g>\n     <g id=\"text_4\">\n      <!-- 600 -->\n      <g transform=\"translate(354.29783 580.516562)scale(0.1 -0.1)\">\n       <defs>\n        <path d=\"M 33.015625 40.375 \nQ 26.375 40.375 22.484375 35.828125 \nQ 18.609375 31.296875 18.609375 23.390625 \nQ 18.609375 15.53125 22.484375 10.953125 \nQ 26.375 6.390625 33.015625 6.390625 \nQ 39.65625 6.390625 43.53125 10.953125 \nQ 47.40625 15.53125 47.40625 23.390625 \nQ 47.40625 31.296875 43.53125 35.828125 \nQ 39.65625 40.375 33.015625 40.375 \nz\nM 52.59375 71.296875 \nL 52.59375 62.3125 \nQ 48.875 64.0625 45.09375 64.984375 \nQ 41.3125 65.921875 37.59375 65.921875 \nQ 27.828125 65.921875 22.671875 59.328125 \nQ 17.53125 52.734375 16.796875 39.40625 \nQ 19.671875 43.65625 24.015625 45.921875 \nQ 28.375 48.1875 33.59375 48.1875 \nQ 44.578125 48.1875 50.953125 41.515625 \nQ 57.328125 34.859375 57.328125 23.390625 \nQ 57.328125 12.15625 50.6875 5.359375 \nQ 44.046875 -1.421875 33.015625 -1.421875 \nQ 20.359375 -1.421875 13.671875 8.265625 \nQ 6.984375 17.96875 6.984375 36.375 \nQ 6.984375 53.65625 15.1875 63.9375 \nQ 23.390625 74.21875 37.203125 74.21875 \nQ 40.921875 74.21875 44.703125 73.484375 \nQ 48.484375 72.75 52.59375 71.296875 \nz\n\" id=\"DejaVuSans-54\"/>\n       </defs>\n       <use xlink:href=\"#DejaVuSans-54\"/>\n       <use x=\"63.623047\" xlink:href=\"#DejaVuSans-48\"/>\n       <use x=\"127.246094\" xlink:href=\"#DejaVuSans-48\"/>\n      </g>\n     </g>\n    </g>\n    <g id=\"xtick_5\">\n     <g id=\"line2d_5\">\n      <g>\n       <use style=\"stroke:#000000;stroke-width:0.8;\" x=\"449.074711\" xlink:href=\"#m9d133368eb\" y=\"565.918125\"/>\n      </g>\n     </g>\n     <g id=\"text_5\">\n      <!-- 800 -->\n      <g transform=\"translate(439.530961 580.516562)scale(0.1 -0.1)\">\n       <defs>\n        <path d=\"M 31.78125 34.625 \nQ 24.75 34.625 20.71875 30.859375 \nQ 16.703125 27.09375 16.703125 20.515625 \nQ 16.703125 13.921875 20.71875 10.15625 \nQ 24.75 6.390625 31.78125 6.390625 \nQ 38.8125 6.390625 42.859375 10.171875 \nQ 46.921875 13.96875 46.921875 20.515625 \nQ 46.921875 27.09375 42.890625 30.859375 \nQ 38.875 34.625 31.78125 34.625 \nz\nM 21.921875 38.8125 \nQ 15.578125 40.375 12.03125 44.71875 \nQ 8.5 49.078125 8.5 55.328125 \nQ 8.5 64.0625 14.71875 69.140625 \nQ 20.953125 74.21875 31.78125 74.21875 \nQ 42.671875 74.21875 48.875 69.140625 \nQ 55.078125 64.0625 55.078125 55.328125 \nQ 55.078125 49.078125 51.53125 44.71875 \nQ 48 40.375 41.703125 38.8125 \nQ 48.828125 37.15625 52.796875 32.3125 \nQ 56.78125 27.484375 56.78125 20.515625 \nQ 56.78125 9.90625 50.3125 4.234375 \nQ 43.84375 -1.421875 31.78125 -1.421875 \nQ 19.734375 -1.421875 13.25 4.234375 \nQ 6.78125 9.90625 6.78125 20.515625 \nQ 6.78125 27.484375 10.78125 32.3125 \nQ 14.796875 37.15625 21.921875 38.8125 \nz\nM 18.3125 54.390625 \nQ 18.3125 48.734375 21.84375 45.5625 \nQ 25.390625 42.390625 31.78125 42.390625 \nQ 38.140625 42.390625 41.71875 45.5625 \nQ 45.3125 48.734375 45.3125 54.390625 \nQ 45.3125 60.0625 41.71875 63.234375 \nQ 38.140625 66.40625 31.78125 66.40625 \nQ 25.390625 66.40625 21.84375 63.234375 \nQ 18.3125 60.0625 18.3125 54.390625 \nz\n\" id=\"DejaVuSans-56\"/>\n       </defs>\n       <use xlink:href=\"#DejaVuSans-56\"/>\n       <use x=\"63.623047\" xlink:href=\"#DejaVuSans-48\"/>\n       <use x=\"127.246094\" xlink:href=\"#DejaVuSans-48\"/>\n      </g>\n     </g>\n    </g>\n    <g id=\"xtick_6\">\n     <g id=\"line2d_6\">\n      <g>\n       <use style=\"stroke:#000000;stroke-width:0.8;\" x=\"534.307842\" xlink:href=\"#m9d133368eb\" y=\"565.918125\"/>\n      </g>\n     </g>\n     <g id=\"text_6\">\n      <!-- 1000 -->\n      <g transform=\"translate(521.582842 580.516562)scale(0.1 -0.1)\">\n       <defs>\n        <path d=\"M 12.40625 8.296875 \nL 28.515625 8.296875 \nL 28.515625 63.921875 \nL 10.984375 60.40625 \nL 10.984375 69.390625 \nL 28.421875 72.90625 \nL 38.28125 72.90625 \nL 38.28125 8.296875 \nL 54.390625 8.296875 \nL 54.390625 0 \nL 12.40625 0 \nz\n\" id=\"DejaVuSans-49\"/>\n       </defs>\n       <use xlink:href=\"#DejaVuSans-49\"/>\n       <use x=\"63.623047\" xlink:href=\"#DejaVuSans-48\"/>\n       <use x=\"127.246094\" xlink:href=\"#DejaVuSans-48\"/>\n       <use x=\"190.869141\" xlink:href=\"#DejaVuSans-48\"/>\n      </g>\n     </g>\n    </g>\n    <g id=\"xtick_7\">\n     <g id=\"line2d_7\">\n      <g>\n       <use style=\"stroke:#000000;stroke-width:0.8;\" x=\"619.540973\" xlink:href=\"#m9d133368eb\" y=\"565.918125\"/>\n      </g>\n     </g>\n     <g id=\"text_7\">\n      <!-- 1200 -->\n      <g transform=\"translate(606.815973 580.516562)scale(0.1 -0.1)\">\n       <use xlink:href=\"#DejaVuSans-49\"/>\n       <use x=\"63.623047\" xlink:href=\"#DejaVuSans-50\"/>\n       <use x=\"127.246094\" xlink:href=\"#DejaVuSans-48\"/>\n       <use x=\"190.869141\" xlink:href=\"#DejaVuSans-48\"/>\n      </g>\n     </g>\n    </g>\n    <g id=\"text_8\">\n     <!-- count -->\n     <g transform=\"translate(373.035937 594.194687)scale(0.1 -0.1)\">\n      <defs>\n       <path d=\"M 48.78125 52.59375 \nL 48.78125 44.1875 \nQ 44.96875 46.296875 41.140625 47.34375 \nQ 37.3125 48.390625 33.40625 48.390625 \nQ 24.65625 48.390625 19.8125 42.84375 \nQ 14.984375 37.3125 14.984375 27.296875 \nQ 14.984375 17.28125 19.8125 11.734375 \nQ 24.65625 6.203125 33.40625 6.203125 \nQ 37.3125 6.203125 41.140625 7.25 \nQ 44.96875 8.296875 48.78125 10.40625 \nL 48.78125 2.09375 \nQ 45.015625 0.34375 40.984375 -0.53125 \nQ 36.96875 -1.421875 32.421875 -1.421875 \nQ 20.0625 -1.421875 12.78125 6.34375 \nQ 5.515625 14.109375 5.515625 27.296875 \nQ 5.515625 40.671875 12.859375 48.328125 \nQ 20.21875 56 33.015625 56 \nQ 37.15625 56 41.109375 55.140625 \nQ 45.0625 54.296875 48.78125 52.59375 \nz\n\" id=\"DejaVuSans-99\"/>\n       <path d=\"M 30.609375 48.390625 \nQ 23.390625 48.390625 19.1875 42.75 \nQ 14.984375 37.109375 14.984375 27.296875 \nQ 14.984375 17.484375 19.15625 11.84375 \nQ 23.34375 6.203125 30.609375 6.203125 \nQ 37.796875 6.203125 41.984375 11.859375 \nQ 46.1875 17.53125 46.1875 27.296875 \nQ 46.1875 37.015625 41.984375 42.703125 \nQ 37.796875 48.390625 30.609375 48.390625 \nz\nM 30.609375 56 \nQ 42.328125 56 49.015625 48.375 \nQ 55.71875 40.765625 55.71875 27.296875 \nQ 55.71875 13.875 49.015625 6.21875 \nQ 42.328125 -1.421875 30.609375 -1.421875 \nQ 18.84375 -1.421875 12.171875 6.21875 \nQ 5.515625 13.875 5.515625 27.296875 \nQ 5.515625 40.765625 12.171875 48.375 \nQ 18.84375 56 30.609375 56 \nz\n\" id=\"DejaVuSans-111\"/>\n       <path d=\"M 8.5 21.578125 \nL 8.5 54.6875 \nL 17.484375 54.6875 \nL 17.484375 21.921875 \nQ 17.484375 14.15625 20.5 10.265625 \nQ 23.53125 6.390625 29.59375 6.390625 \nQ 36.859375 6.390625 41.078125 11.03125 \nQ 45.3125 15.671875 45.3125 23.6875 \nL 45.3125 54.6875 \nL 54.296875 54.6875 \nL 54.296875 0 \nL 45.3125 0 \nL 45.3125 8.40625 \nQ 42.046875 3.421875 37.71875 1 \nQ 33.40625 -1.421875 27.6875 -1.421875 \nQ 18.265625 -1.421875 13.375 4.4375 \nQ 8.5 10.296875 8.5 21.578125 \nz\nM 31.109375 56 \nz\n\" id=\"DejaVuSans-117\"/>\n       <path d=\"M 54.890625 33.015625 \nL 54.890625 0 \nL 45.90625 0 \nL 45.90625 32.71875 \nQ 45.90625 40.484375 42.875 44.328125 \nQ 39.84375 48.1875 33.796875 48.1875 \nQ 26.515625 48.1875 22.3125 43.546875 \nQ 18.109375 38.921875 18.109375 30.90625 \nL 18.109375 0 \nL 9.078125 0 \nL 9.078125 54.6875 \nL 18.109375 54.6875 \nL 18.109375 46.1875 \nQ 21.34375 51.125 25.703125 53.5625 \nQ 30.078125 56 35.796875 56 \nQ 45.21875 56 50.046875 50.171875 \nQ 54.890625 44.34375 54.890625 33.015625 \nz\n\" id=\"DejaVuSans-110\"/>\n       <path d=\"M 18.3125 70.21875 \nL 18.3125 54.6875 \nL 36.8125 54.6875 \nL 36.8125 47.703125 \nL 18.3125 47.703125 \nL 18.3125 18.015625 \nQ 18.3125 11.328125 20.140625 9.421875 \nQ 21.96875 7.515625 27.59375 7.515625 \nL 36.8125 7.515625 \nL 36.8125 0 \nL 27.59375 0 \nQ 17.1875 0 13.234375 3.875 \nQ 9.28125 7.765625 9.28125 18.015625 \nL 9.28125 47.703125 \nL 2.6875 47.703125 \nL 2.6875 54.6875 \nL 9.28125 54.6875 \nL 9.28125 70.21875 \nz\n\" id=\"DejaVuSans-116\"/>\n      </defs>\n      <use xlink:href=\"#DejaVuSans-99\"/>\n      <use x=\"54.980469\" xlink:href=\"#DejaVuSans-111\"/>\n      <use x=\"116.162109\" xlink:href=\"#DejaVuSans-117\"/>\n      <use x=\"179.541016\" xlink:href=\"#DejaVuSans-110\"/>\n      <use x=\"242.919922\" xlink:href=\"#DejaVuSans-116\"/>\n     </g>\n    </g>\n   </g>\n   <g id=\"matplotlib.axis_2\">\n    <g id=\"ytick_1\">\n     <g id=\"line2d_8\">\n      <defs>\n       <path d=\"M 0 0 \nL -3.5 0 \n\" id=\"m0508f8bc06\" style=\"stroke:#000000;stroke-width:0.8;\"/>\n      </defs>\n      <g>\n       <use style=\"stroke:#000000;stroke-width:0.8;\" x=\"108.142188\" xlink:href=\"#m0508f8bc06\" y=\"49.498125\"/>\n      </g>\n     </g>\n     <g id=\"text_9\">\n      <!-- London -->\n      <g transform=\"translate(64.484375 53.297344)scale(0.1 -0.1)\">\n       <defs>\n        <path d=\"M 9.8125 72.90625 \nL 19.671875 72.90625 \nL 19.671875 8.296875 \nL 55.171875 8.296875 \nL 55.171875 0 \nL 9.8125 0 \nz\n\" id=\"DejaVuSans-76\"/>\n        <path d=\"M 45.40625 46.390625 \nL 45.40625 75.984375 \nL 54.390625 75.984375 \nL 54.390625 0 \nL 45.40625 0 \nL 45.40625 8.203125 \nQ 42.578125 3.328125 38.25 0.953125 \nQ 33.9375 -1.421875 27.875 -1.421875 \nQ 17.96875 -1.421875 11.734375 6.484375 \nQ 5.515625 14.40625 5.515625 27.296875 \nQ 5.515625 40.1875 11.734375 48.09375 \nQ 17.96875 56 27.875 56 \nQ 33.9375 56 38.25 53.625 \nQ 42.578125 51.265625 45.40625 46.390625 \nz\nM 14.796875 27.296875 \nQ 14.796875 17.390625 18.875 11.75 \nQ 22.953125 6.109375 30.078125 6.109375 \nQ 37.203125 6.109375 41.296875 11.75 \nQ 45.40625 17.390625 45.40625 27.296875 \nQ 45.40625 37.203125 41.296875 42.84375 \nQ 37.203125 48.484375 30.078125 48.484375 \nQ 22.953125 48.484375 18.875 42.84375 \nQ 14.796875 37.203125 14.796875 27.296875 \nz\n\" id=\"DejaVuSans-100\"/>\n       </defs>\n       <use xlink:href=\"#DejaVuSans-76\"/>\n       <use x=\"53.962891\" xlink:href=\"#DejaVuSans-111\"/>\n       <use x=\"115.144531\" xlink:href=\"#DejaVuSans-110\"/>\n       <use x=\"178.523438\" xlink:href=\"#DejaVuSans-100\"/>\n       <use x=\"242\" xlink:href=\"#DejaVuSans-111\"/>\n       <use x=\"303.181641\" xlink:href=\"#DejaVuSans-110\"/>\n      </g>\n     </g>\n    </g>\n    <g id=\"ytick_2\">\n     <g id=\"line2d_9\">\n      <g>\n       <use style=\"stroke:#000000;stroke-width:0.8;\" x=\"108.142188\" xlink:href=\"#m0508f8bc06\" y=\"103.858125\"/>\n      </g>\n     </g>\n     <g id=\"text_10\">\n      <!-- New York -->\n      <g transform=\"translate(55.348438 107.657344)scale(0.1 -0.1)\">\n       <defs>\n        <path d=\"M 9.8125 72.90625 \nL 23.09375 72.90625 \nL 55.421875 11.921875 \nL 55.421875 72.90625 \nL 64.984375 72.90625 \nL 64.984375 0 \nL 51.703125 0 \nL 19.390625 60.984375 \nL 19.390625 0 \nL 9.8125 0 \nz\n\" id=\"DejaVuSans-78\"/>\n        <path d=\"M 56.203125 29.59375 \nL 56.203125 25.203125 \nL 14.890625 25.203125 \nQ 15.484375 15.921875 20.484375 11.0625 \nQ 25.484375 6.203125 34.421875 6.203125 \nQ 39.59375 6.203125 44.453125 7.46875 \nQ 49.3125 8.734375 54.109375 11.28125 \nL 54.109375 2.78125 \nQ 49.265625 0.734375 44.1875 -0.34375 \nQ 39.109375 -1.421875 33.890625 -1.421875 \nQ 20.796875 -1.421875 13.15625 6.1875 \nQ 5.515625 13.8125 5.515625 26.8125 \nQ 5.515625 40.234375 12.765625 48.109375 \nQ 20.015625 56 32.328125 56 \nQ 43.359375 56 49.78125 48.890625 \nQ 56.203125 41.796875 56.203125 29.59375 \nz\nM 47.21875 32.234375 \nQ 47.125 39.59375 43.09375 43.984375 \nQ 39.0625 48.390625 32.421875 48.390625 \nQ 24.90625 48.390625 20.390625 44.140625 \nQ 15.875 39.890625 15.1875 32.171875 \nz\n\" id=\"DejaVuSans-101\"/>\n        <path d=\"M 4.203125 54.6875 \nL 13.1875 54.6875 \nL 24.421875 12.015625 \nL 35.59375 54.6875 \nL 46.1875 54.6875 \nL 57.421875 12.015625 \nL 68.609375 54.6875 \nL 77.59375 54.6875 \nL 63.28125 0 \nL 52.6875 0 \nL 40.921875 44.828125 \nL 29.109375 0 \nL 18.5 0 \nz\n\" id=\"DejaVuSans-119\"/>\n        <path id=\"DejaVuSans-32\"/>\n        <path d=\"M -0.203125 72.90625 \nL 10.40625 72.90625 \nL 30.609375 42.921875 \nL 50.6875 72.90625 \nL 61.28125 72.90625 \nL 35.5 34.71875 \nL 35.5 0 \nL 25.59375 0 \nL 25.59375 34.71875 \nz\n\" id=\"DejaVuSans-89\"/>\n        <path d=\"M 41.109375 46.296875 \nQ 39.59375 47.171875 37.8125 47.578125 \nQ 36.03125 48 33.890625 48 \nQ 26.265625 48 22.1875 43.046875 \nQ 18.109375 38.09375 18.109375 28.8125 \nL 18.109375 0 \nL 9.078125 0 \nL 9.078125 54.6875 \nL 18.109375 54.6875 \nL 18.109375 46.1875 \nQ 20.953125 51.171875 25.484375 53.578125 \nQ 30.03125 56 36.53125 56 \nQ 37.453125 56 38.578125 55.875 \nQ 39.703125 55.765625 41.0625 55.515625 \nz\n\" id=\"DejaVuSans-114\"/>\n        <path d=\"M 9.078125 75.984375 \nL 18.109375 75.984375 \nL 18.109375 31.109375 \nL 44.921875 54.6875 \nL 56.390625 54.6875 \nL 27.390625 29.109375 \nL 57.625 0 \nL 45.90625 0 \nL 18.109375 26.703125 \nL 18.109375 0 \nL 9.078125 0 \nz\n\" id=\"DejaVuSans-107\"/>\n       </defs>\n       <use xlink:href=\"#DejaVuSans-78\"/>\n       <use x=\"74.804688\" xlink:href=\"#DejaVuSans-101\"/>\n       <use x=\"136.328125\" xlink:href=\"#DejaVuSans-119\"/>\n       <use x=\"218.115234\" xlink:href=\"#DejaVuSans-32\"/>\n       <use x=\"249.902344\" xlink:href=\"#DejaVuSans-89\"/>\n       <use x=\"297.736328\" xlink:href=\"#DejaVuSans-111\"/>\n       <use x=\"358.917969\" xlink:href=\"#DejaVuSans-114\"/>\n       <use x=\"400.03125\" xlink:href=\"#DejaVuSans-107\"/>\n      </g>\n     </g>\n    </g>\n    <g id=\"ytick_3\">\n     <g id=\"line2d_10\">\n      <g>\n       <use style=\"stroke:#000000;stroke-width:0.8;\" x=\"108.142188\" xlink:href=\"#m0508f8bc06\" y=\"158.218125\"/>\n      </g>\n     </g>\n     <g id=\"text_11\">\n      <!-- United States -->\n      <g transform=\"translate(33.428125 162.017344)scale(0.1 -0.1)\">\n       <defs>\n        <path d=\"M 8.6875 72.90625 \nL 18.609375 72.90625 \nL 18.609375 28.609375 \nQ 18.609375 16.890625 22.84375 11.734375 \nQ 27.09375 6.59375 36.625 6.59375 \nQ 46.09375 6.59375 50.34375 11.734375 \nQ 54.59375 16.890625 54.59375 28.609375 \nL 54.59375 72.90625 \nL 64.5 72.90625 \nL 64.5 27.390625 \nQ 64.5 13.140625 57.4375 5.859375 \nQ 50.390625 -1.421875 36.625 -1.421875 \nQ 22.796875 -1.421875 15.734375 5.859375 \nQ 8.6875 13.140625 8.6875 27.390625 \nz\n\" id=\"DejaVuSans-85\"/>\n        <path d=\"M 9.421875 54.6875 \nL 18.40625 54.6875 \nL 18.40625 0 \nL 9.421875 0 \nz\nM 9.421875 75.984375 \nL 18.40625 75.984375 \nL 18.40625 64.59375 \nL 9.421875 64.59375 \nz\n\" id=\"DejaVuSans-105\"/>\n        <path d=\"M 53.515625 70.515625 \nL 53.515625 60.890625 \nQ 47.90625 63.578125 42.921875 64.890625 \nQ 37.9375 66.21875 33.296875 66.21875 \nQ 25.25 66.21875 20.875 63.09375 \nQ 16.5 59.96875 16.5 54.203125 \nQ 16.5 49.359375 19.40625 46.890625 \nQ 22.3125 44.4375 30.421875 42.921875 \nL 36.375 41.703125 \nQ 47.40625 39.59375 52.65625 34.296875 \nQ 57.90625 29 57.90625 20.125 \nQ 57.90625 9.515625 50.796875 4.046875 \nQ 43.703125 -1.421875 29.984375 -1.421875 \nQ 24.8125 -1.421875 18.96875 -0.25 \nQ 13.140625 0.921875 6.890625 3.21875 \nL 6.890625 13.375 \nQ 12.890625 10.015625 18.65625 8.296875 \nQ 24.421875 6.59375 29.984375 6.59375 \nQ 38.421875 6.59375 43.015625 9.90625 \nQ 47.609375 13.234375 47.609375 19.390625 \nQ 47.609375 24.75 44.3125 27.78125 \nQ 41.015625 30.8125 33.5 32.328125 \nL 27.484375 33.5 \nQ 16.453125 35.6875 11.515625 40.375 \nQ 6.59375 45.0625 6.59375 53.421875 \nQ 6.59375 63.09375 13.40625 68.65625 \nQ 20.21875 74.21875 32.171875 74.21875 \nQ 37.3125 74.21875 42.625 73.28125 \nQ 47.953125 72.359375 53.515625 70.515625 \nz\n\" id=\"DejaVuSans-83\"/>\n        <path d=\"M 34.28125 27.484375 \nQ 23.390625 27.484375 19.1875 25 \nQ 14.984375 22.515625 14.984375 16.5 \nQ 14.984375 11.71875 18.140625 8.90625 \nQ 21.296875 6.109375 26.703125 6.109375 \nQ 34.1875 6.109375 38.703125 11.40625 \nQ 43.21875 16.703125 43.21875 25.484375 \nL 43.21875 27.484375 \nz\nM 52.203125 31.203125 \nL 52.203125 0 \nL 43.21875 0 \nL 43.21875 8.296875 \nQ 40.140625 3.328125 35.546875 0.953125 \nQ 30.953125 -1.421875 24.3125 -1.421875 \nQ 15.921875 -1.421875 10.953125 3.296875 \nQ 6 8.015625 6 15.921875 \nQ 6 25.140625 12.171875 29.828125 \nQ 18.359375 34.515625 30.609375 34.515625 \nL 43.21875 34.515625 \nL 43.21875 35.40625 \nQ 43.21875 41.609375 39.140625 45 \nQ 35.0625 48.390625 27.6875 48.390625 \nQ 23 48.390625 18.546875 47.265625 \nQ 14.109375 46.140625 10.015625 43.890625 \nL 10.015625 52.203125 \nQ 14.9375 54.109375 19.578125 55.046875 \nQ 24.21875 56 28.609375 56 \nQ 40.484375 56 46.34375 49.84375 \nQ 52.203125 43.703125 52.203125 31.203125 \nz\n\" id=\"DejaVuSans-97\"/>\n        <path d=\"M 44.28125 53.078125 \nL 44.28125 44.578125 \nQ 40.484375 46.53125 36.375 47.5 \nQ 32.28125 48.484375 27.875 48.484375 \nQ 21.1875 48.484375 17.84375 46.4375 \nQ 14.5 44.390625 14.5 40.28125 \nQ 14.5 37.15625 16.890625 35.375 \nQ 19.28125 33.59375 26.515625 31.984375 \nL 29.59375 31.296875 \nQ 39.15625 29.25 43.1875 25.515625 \nQ 47.21875 21.78125 47.21875 15.09375 \nQ 47.21875 7.46875 41.1875 3.015625 \nQ 35.15625 -1.421875 24.609375 -1.421875 \nQ 20.21875 -1.421875 15.453125 -0.5625 \nQ 10.6875 0.296875 5.421875 2 \nL 5.421875 11.28125 \nQ 10.40625 8.6875 15.234375 7.390625 \nQ 20.0625 6.109375 24.8125 6.109375 \nQ 31.15625 6.109375 34.5625 8.28125 \nQ 37.984375 10.453125 37.984375 14.40625 \nQ 37.984375 18.0625 35.515625 20.015625 \nQ 33.0625 21.96875 24.703125 23.78125 \nL 21.578125 24.515625 \nQ 13.234375 26.265625 9.515625 29.90625 \nQ 5.8125 33.546875 5.8125 39.890625 \nQ 5.8125 47.609375 11.28125 51.796875 \nQ 16.75 56 26.8125 56 \nQ 31.78125 56 36.171875 55.265625 \nQ 40.578125 54.546875 44.28125 53.078125 \nz\n\" id=\"DejaVuSans-115\"/>\n       </defs>\n       <use xlink:href=\"#DejaVuSans-85\"/>\n       <use x=\"73.193359\" xlink:href=\"#DejaVuSans-110\"/>\n       <use x=\"136.572266\" xlink:href=\"#DejaVuSans-105\"/>\n       <use x=\"164.355469\" xlink:href=\"#DejaVuSans-116\"/>\n       <use x=\"203.564453\" xlink:href=\"#DejaVuSans-101\"/>\n       <use x=\"265.087891\" xlink:href=\"#DejaVuSans-100\"/>\n       <use x=\"328.564453\" xlink:href=\"#DejaVuSans-32\"/>\n       <use x=\"360.351562\" xlink:href=\"#DejaVuSans-83\"/>\n       <use x=\"423.828125\" xlink:href=\"#DejaVuSans-116\"/>\n       <use x=\"463.037109\" xlink:href=\"#DejaVuSans-97\"/>\n       <use x=\"524.316406\" xlink:href=\"#DejaVuSans-116\"/>\n       <use x=\"563.525391\" xlink:href=\"#DejaVuSans-101\"/>\n       <use x=\"625.048828\" xlink:href=\"#DejaVuSans-115\"/>\n      </g>\n     </g>\n    </g>\n    <g id=\"ytick_4\">\n     <g id=\"line2d_11\">\n      <g>\n       <use style=\"stroke:#000000;stroke-width:0.8;\" x=\"108.142188\" xlink:href=\"#m0508f8bc06\" y=\"212.578125\"/>\n      </g>\n     </g>\n     <g id=\"text_12\">\n      <!-- Washington -->\n      <g transform=\"translate(42.376563 216.377344)scale(0.1 -0.1)\">\n       <defs>\n        <path d=\"M 3.328125 72.90625 \nL 13.28125 72.90625 \nL 28.609375 11.28125 \nL 43.890625 72.90625 \nL 54.984375 72.90625 \nL 70.3125 11.28125 \nL 85.59375 72.90625 \nL 95.609375 72.90625 \nL 77.296875 0 \nL 64.890625 0 \nL 49.515625 63.28125 \nL 33.984375 0 \nL 21.578125 0 \nz\n\" id=\"DejaVuSans-87\"/>\n        <path d=\"M 54.890625 33.015625 \nL 54.890625 0 \nL 45.90625 0 \nL 45.90625 32.71875 \nQ 45.90625 40.484375 42.875 44.328125 \nQ 39.84375 48.1875 33.796875 48.1875 \nQ 26.515625 48.1875 22.3125 43.546875 \nQ 18.109375 38.921875 18.109375 30.90625 \nL 18.109375 0 \nL 9.078125 0 \nL 9.078125 75.984375 \nL 18.109375 75.984375 \nL 18.109375 46.1875 \nQ 21.34375 51.125 25.703125 53.5625 \nQ 30.078125 56 35.796875 56 \nQ 45.21875 56 50.046875 50.171875 \nQ 54.890625 44.34375 54.890625 33.015625 \nz\n\" id=\"DejaVuSans-104\"/>\n        <path d=\"M 45.40625 27.984375 \nQ 45.40625 37.75 41.375 43.109375 \nQ 37.359375 48.484375 30.078125 48.484375 \nQ 22.859375 48.484375 18.828125 43.109375 \nQ 14.796875 37.75 14.796875 27.984375 \nQ 14.796875 18.265625 18.828125 12.890625 \nQ 22.859375 7.515625 30.078125 7.515625 \nQ 37.359375 7.515625 41.375 12.890625 \nQ 45.40625 18.265625 45.40625 27.984375 \nz\nM 54.390625 6.78125 \nQ 54.390625 -7.171875 48.1875 -13.984375 \nQ 42 -20.796875 29.203125 -20.796875 \nQ 24.46875 -20.796875 20.265625 -20.09375 \nQ 16.0625 -19.390625 12.109375 -17.921875 \nL 12.109375 -9.1875 \nQ 16.0625 -11.328125 19.921875 -12.34375 \nQ 23.78125 -13.375 27.78125 -13.375 \nQ 36.625 -13.375 41.015625 -8.765625 \nQ 45.40625 -4.15625 45.40625 5.171875 \nL 45.40625 9.625 \nQ 42.625 4.78125 38.28125 2.390625 \nQ 33.9375 0 27.875 0 \nQ 17.828125 0 11.671875 7.65625 \nQ 5.515625 15.328125 5.515625 27.984375 \nQ 5.515625 40.671875 11.671875 48.328125 \nQ 17.828125 56 27.875 56 \nQ 33.9375 56 38.28125 53.609375 \nQ 42.625 51.21875 45.40625 46.390625 \nL 45.40625 54.6875 \nL 54.390625 54.6875 \nz\n\" id=\"DejaVuSans-103\"/>\n       </defs>\n       <use xlink:href=\"#DejaVuSans-87\"/>\n       <use x=\"92.501953\" xlink:href=\"#DejaVuSans-97\"/>\n       <use x=\"153.78125\" xlink:href=\"#DejaVuSans-115\"/>\n       <use x=\"205.880859\" xlink:href=\"#DejaVuSans-104\"/>\n       <use x=\"269.259766\" xlink:href=\"#DejaVuSans-105\"/>\n       <use x=\"297.042969\" xlink:href=\"#DejaVuSans-110\"/>\n       <use x=\"360.421875\" xlink:href=\"#DejaVuSans-103\"/>\n       <use x=\"423.898438\" xlink:href=\"#DejaVuSans-116\"/>\n       <use x=\"463.107422\" xlink:href=\"#DejaVuSans-111\"/>\n       <use x=\"524.289062\" xlink:href=\"#DejaVuSans-110\"/>\n      </g>\n     </g>\n    </g>\n    <g id=\"ytick_5\">\n     <g id=\"line2d_12\">\n      <g>\n       <use style=\"stroke:#000000;stroke-width:0.8;\" x=\"108.142188\" xlink:href=\"#m0508f8bc06\" y=\"266.938125\"/>\n      </g>\n     </g>\n     <g id=\"text_13\">\n      <!-- Los Angeles -->\n      <g transform=\"translate(41.41875 270.737344)scale(0.1 -0.1)\">\n       <defs>\n        <path d=\"M 34.1875 63.1875 \nL 20.796875 26.90625 \nL 47.609375 26.90625 \nz\nM 28.609375 72.90625 \nL 39.796875 72.90625 \nL 67.578125 0 \nL 57.328125 0 \nL 50.6875 18.703125 \nL 17.828125 18.703125 \nL 11.1875 0 \nL 0.78125 0 \nz\n\" id=\"DejaVuSans-65\"/>\n        <path d=\"M 9.421875 75.984375 \nL 18.40625 75.984375 \nL 18.40625 0 \nL 9.421875 0 \nz\n\" id=\"DejaVuSans-108\"/>\n       </defs>\n       <use xlink:href=\"#DejaVuSans-76\"/>\n       <use x=\"53.962891\" xlink:href=\"#DejaVuSans-111\"/>\n       <use x=\"115.144531\" xlink:href=\"#DejaVuSans-115\"/>\n       <use x=\"167.244141\" xlink:href=\"#DejaVuSans-32\"/>\n       <use x=\"199.03125\" xlink:href=\"#DejaVuSans-65\"/>\n       <use x=\"267.439453\" xlink:href=\"#DejaVuSans-110\"/>\n       <use x=\"330.818359\" xlink:href=\"#DejaVuSans-103\"/>\n       <use x=\"394.294922\" xlink:href=\"#DejaVuSans-101\"/>\n       <use x=\"455.818359\" xlink:href=\"#DejaVuSans-108\"/>\n       <use x=\"483.601562\" xlink:href=\"#DejaVuSans-101\"/>\n       <use x=\"545.125\" xlink:href=\"#DejaVuSans-115\"/>\n      </g>\n     </g>\n    </g>\n    <g id=\"ytick_6\">\n     <g id=\"line2d_13\">\n      <g>\n       <use style=\"stroke:#000000;stroke-width:0.8;\" x=\"108.142188\" xlink:href=\"#m0508f8bc06\" y=\"321.298125\"/>\n      </g>\n     </g>\n     <g id=\"text_14\">\n      <!-- Toronto -->\n      <g transform=\"translate(64.234375 325.097344)scale(0.1 -0.1)\">\n       <defs>\n        <path d=\"M -0.296875 72.90625 \nL 61.375 72.90625 \nL 61.375 64.59375 \nL 35.5 64.59375 \nL 35.5 0 \nL 25.59375 0 \nL 25.59375 64.59375 \nL -0.296875 64.59375 \nz\n\" id=\"DejaVuSans-84\"/>\n       </defs>\n       <use xlink:href=\"#DejaVuSans-84\"/>\n       <use x=\"44.083984\" xlink:href=\"#DejaVuSans-111\"/>\n       <use x=\"105.265625\" xlink:href=\"#DejaVuSans-114\"/>\n       <use x=\"144.128906\" xlink:href=\"#DejaVuSans-111\"/>\n       <use x=\"205.310547\" xlink:href=\"#DejaVuSans-110\"/>\n       <use x=\"268.689453\" xlink:href=\"#DejaVuSans-116\"/>\n       <use x=\"307.898438\" xlink:href=\"#DejaVuSans-111\"/>\n      </g>\n     </g>\n    </g>\n    <g id=\"ytick_7\">\n     <g id=\"line2d_14\">\n      <g>\n       <use style=\"stroke:#000000;stroke-width:0.8;\" x=\"108.142188\" xlink:href=\"#m0508f8bc06\" y=\"375.658125\"/>\n      </g>\n     </g>\n     <g id=\"text_15\">\n      <!-- United Kingdom -->\n      <g transform=\"translate(20.878125 379.457344)scale(0.1 -0.1)\">\n       <defs>\n        <path d=\"M 9.8125 72.90625 \nL 19.671875 72.90625 \nL 19.671875 42.09375 \nL 52.390625 72.90625 \nL 65.09375 72.90625 \nL 28.90625 38.921875 \nL 67.671875 0 \nL 54.6875 0 \nL 19.671875 35.109375 \nL 19.671875 0 \nL 9.8125 0 \nz\n\" id=\"DejaVuSans-75\"/>\n        <path d=\"M 52 44.1875 \nQ 55.375 50.25 60.0625 53.125 \nQ 64.75 56 71.09375 56 \nQ 79.640625 56 84.28125 50.015625 \nQ 88.921875 44.046875 88.921875 33.015625 \nL 88.921875 0 \nL 79.890625 0 \nL 79.890625 32.71875 \nQ 79.890625 40.578125 77.09375 44.375 \nQ 74.3125 48.1875 68.609375 48.1875 \nQ 61.625 48.1875 57.5625 43.546875 \nQ 53.515625 38.921875 53.515625 30.90625 \nL 53.515625 0 \nL 44.484375 0 \nL 44.484375 32.71875 \nQ 44.484375 40.625 41.703125 44.40625 \nQ 38.921875 48.1875 33.109375 48.1875 \nQ 26.21875 48.1875 22.15625 43.53125 \nQ 18.109375 38.875 18.109375 30.90625 \nL 18.109375 0 \nL 9.078125 0 \nL 9.078125 54.6875 \nL 18.109375 54.6875 \nL 18.109375 46.1875 \nQ 21.1875 51.21875 25.484375 53.609375 \nQ 29.78125 56 35.6875 56 \nQ 41.65625 56 45.828125 52.96875 \nQ 50 49.953125 52 44.1875 \nz\n\" id=\"DejaVuSans-109\"/>\n       </defs>\n       <use xlink:href=\"#DejaVuSans-85\"/>\n       <use x=\"73.193359\" xlink:href=\"#DejaVuSans-110\"/>\n       <use x=\"136.572266\" xlink:href=\"#DejaVuSans-105\"/>\n       <use x=\"164.355469\" xlink:href=\"#DejaVuSans-116\"/>\n       <use x=\"203.564453\" xlink:href=\"#DejaVuSans-101\"/>\n       <use x=\"265.087891\" xlink:href=\"#DejaVuSans-100\"/>\n       <use x=\"328.564453\" xlink:href=\"#DejaVuSans-32\"/>\n       <use x=\"360.351562\" xlink:href=\"#DejaVuSans-75\"/>\n       <use x=\"425.927734\" xlink:href=\"#DejaVuSans-105\"/>\n       <use x=\"453.710938\" xlink:href=\"#DejaVuSans-110\"/>\n       <use x=\"517.089844\" xlink:href=\"#DejaVuSans-103\"/>\n       <use x=\"580.566406\" xlink:href=\"#DejaVuSans-100\"/>\n       <use x=\"644.042969\" xlink:href=\"#DejaVuSans-111\"/>\n       <use x=\"705.224609\" xlink:href=\"#DejaVuSans-109\"/>\n      </g>\n     </g>\n    </g>\n    <g id=\"ytick_8\">\n     <g id=\"line2d_15\">\n      <g>\n       <use style=\"stroke:#000000;stroke-width:0.8;\" x=\"108.142188\" xlink:href=\"#m0508f8bc06\" y=\"430.018125\"/>\n      </g>\n     </g>\n     <g id=\"text_16\">\n      <!-- India -->\n      <g transform=\"translate(76.6 433.817344)scale(0.1 -0.1)\">\n       <defs>\n        <path d=\"M 9.8125 72.90625 \nL 19.671875 72.90625 \nL 19.671875 0 \nL 9.8125 0 \nz\n\" id=\"DejaVuSans-73\"/>\n       </defs>\n       <use xlink:href=\"#DejaVuSans-73\"/>\n       <use x=\"29.492188\" xlink:href=\"#DejaVuSans-110\"/>\n       <use x=\"92.871094\" xlink:href=\"#DejaVuSans-100\"/>\n       <use x=\"156.347656\" xlink:href=\"#DejaVuSans-105\"/>\n       <use x=\"184.130859\" xlink:href=\"#DejaVuSans-97\"/>\n      </g>\n     </g>\n    </g>\n    <g id=\"ytick_9\">\n     <g id=\"line2d_16\">\n      <g>\n       <use style=\"stroke:#000000;stroke-width:0.8;\" x=\"108.142188\" xlink:href=\"#m0508f8bc06\" y=\"484.378125\"/>\n      </g>\n     </g>\n     <g id=\"text_17\">\n      <!-- Chicago -->\n      <g transform=\"translate(60.95 488.177344)scale(0.1 -0.1)\">\n       <defs>\n        <path d=\"M 64.40625 67.28125 \nL 64.40625 56.890625 \nQ 59.421875 61.53125 53.78125 63.8125 \nQ 48.140625 66.109375 41.796875 66.109375 \nQ 29.296875 66.109375 22.65625 58.46875 \nQ 16.015625 50.828125 16.015625 36.375 \nQ 16.015625 21.96875 22.65625 14.328125 \nQ 29.296875 6.6875 41.796875 6.6875 \nQ 48.140625 6.6875 53.78125 8.984375 \nQ 59.421875 11.28125 64.40625 15.921875 \nL 64.40625 5.609375 \nQ 59.234375 2.09375 53.4375 0.328125 \nQ 47.65625 -1.421875 41.21875 -1.421875 \nQ 24.65625 -1.421875 15.125 8.703125 \nQ 5.609375 18.84375 5.609375 36.375 \nQ 5.609375 53.953125 15.125 64.078125 \nQ 24.65625 74.21875 41.21875 74.21875 \nQ 47.75 74.21875 53.53125 72.484375 \nQ 59.328125 70.75 64.40625 67.28125 \nz\n\" id=\"DejaVuSans-67\"/>\n       </defs>\n       <use xlink:href=\"#DejaVuSans-67\"/>\n       <use x=\"69.824219\" xlink:href=\"#DejaVuSans-104\"/>\n       <use x=\"133.203125\" xlink:href=\"#DejaVuSans-105\"/>\n       <use x=\"160.986328\" xlink:href=\"#DejaVuSans-99\"/>\n       <use x=\"215.966797\" xlink:href=\"#DejaVuSans-97\"/>\n       <use x=\"277.246094\" xlink:href=\"#DejaVuSans-103\"/>\n       <use x=\"340.722656\" xlink:href=\"#DejaVuSans-111\"/>\n      </g>\n     </g>\n    </g>\n    <g id=\"ytick_10\">\n     <g id=\"line2d_17\">\n      <g>\n       <use style=\"stroke:#000000;stroke-width:0.8;\" x=\"108.142188\" xlink:href=\"#m0508f8bc06\" y=\"538.738125\"/>\n      </g>\n     </g>\n     <g id=\"text_18\">\n      <!-- England -->\n      <g transform=\"translate(60.545313 542.537344)scale(0.1 -0.1)\">\n       <defs>\n        <path d=\"M 9.8125 72.90625 \nL 55.90625 72.90625 \nL 55.90625 64.59375 \nL 19.671875 64.59375 \nL 19.671875 43.015625 \nL 54.390625 43.015625 \nL 54.390625 34.71875 \nL 19.671875 34.71875 \nL 19.671875 8.296875 \nL 56.78125 8.296875 \nL 56.78125 0 \nL 9.8125 0 \nz\n\" id=\"DejaVuSans-69\"/>\n       </defs>\n       <use xlink:href=\"#DejaVuSans-69\"/>\n       <use x=\"63.183594\" xlink:href=\"#DejaVuSans-110\"/>\n       <use x=\"126.5625\" xlink:href=\"#DejaVuSans-103\"/>\n       <use x=\"190.039062\" xlink:href=\"#DejaVuSans-108\"/>\n       <use x=\"217.822266\" xlink:href=\"#DejaVuSans-97\"/>\n       <use x=\"279.101562\" xlink:href=\"#DejaVuSans-110\"/>\n       <use x=\"342.480469\" xlink:href=\"#DejaVuSans-100\"/>\n      </g>\n     </g>\n    </g>\n    <g id=\"text_19\">\n     <!-- Location -->\n     <g transform=\"translate(14.798437 315.266563)rotate(-90)scale(0.1 -0.1)\">\n      <use xlink:href=\"#DejaVuSans-76\"/>\n      <use x=\"53.962891\" xlink:href=\"#DejaVuSans-111\"/>\n      <use x=\"115.144531\" xlink:href=\"#DejaVuSans-99\"/>\n      <use x=\"170.125\" xlink:href=\"#DejaVuSans-97\"/>\n      <use x=\"231.404297\" xlink:href=\"#DejaVuSans-116\"/>\n      <use x=\"270.613281\" xlink:href=\"#DejaVuSans-105\"/>\n      <use x=\"298.396484\" xlink:href=\"#DejaVuSans-111\"/>\n      <use x=\"359.578125\" xlink:href=\"#DejaVuSans-110\"/>\n     </g>\n    </g>\n   </g>\n   <g id=\"patch_13\">\n    <path d=\"M 108.142188 565.918125 \nL 108.142188 22.318125 \n\" style=\"fill:none;stroke:#000000;stroke-linecap:square;stroke-linejoin:miter;stroke-width:0.8;\"/>\n   </g>\n   <g id=\"patch_14\">\n    <path d=\"M 666.142187 565.918125 \nL 666.142187 22.318125 \n\" style=\"fill:none;stroke:#000000;stroke-linecap:square;stroke-linejoin:miter;stroke-width:0.8;\"/>\n   </g>\n   <g id=\"patch_15\">\n    <path d=\"M 108.142188 565.918125 \nL 666.142187 565.918125 \n\" style=\"fill:none;stroke:#000000;stroke-linecap:square;stroke-linejoin:miter;stroke-width:0.8;\"/>\n   </g>\n   <g id=\"patch_16\">\n    <path d=\"M 108.142188 22.318125 \nL 666.142187 22.318125 \n\" style=\"fill:none;stroke:#000000;stroke-linecap:square;stroke-linejoin:miter;stroke-width:0.8;\"/>\n   </g>\n   <g id=\"text_20\">\n    <!-- Twitted locations -->\n    <g transform=\"translate(336.849063 16.318125)scale(0.12 -0.12)\">\n     <use xlink:href=\"#DejaVuSans-84\"/>\n     <use x=\"44.583984\" xlink:href=\"#DejaVuSans-119\"/>\n     <use x=\"126.371094\" xlink:href=\"#DejaVuSans-105\"/>\n     <use x=\"154.154297\" xlink:href=\"#DejaVuSans-116\"/>\n     <use x=\"193.363281\" xlink:href=\"#DejaVuSans-116\"/>\n     <use x=\"232.572266\" xlink:href=\"#DejaVuSans-101\"/>\n     <use x=\"294.095703\" xlink:href=\"#DejaVuSans-100\"/>\n     <use x=\"357.572266\" xlink:href=\"#DejaVuSans-32\"/>\n     <use x=\"389.359375\" xlink:href=\"#DejaVuSans-108\"/>\n     <use x=\"417.142578\" xlink:href=\"#DejaVuSans-111\"/>\n     <use x=\"478.324219\" xlink:href=\"#DejaVuSans-99\"/>\n     <use x=\"533.304688\" xlink:href=\"#DejaVuSans-97\"/>\n     <use x=\"594.583984\" xlink:href=\"#DejaVuSans-116\"/>\n     <use x=\"633.792969\" xlink:href=\"#DejaVuSans-105\"/>\n     <use x=\"661.576172\" xlink:href=\"#DejaVuSans-111\"/>\n     <use x=\"722.757812\" xlink:href=\"#DejaVuSans-110\"/>\n     <use x=\"786.136719\" xlink:href=\"#DejaVuSans-115\"/>\n    </g>\n   </g>\n  </g>\n </g>\n <defs>\n  <clipPath id=\"p47e61e253e\">\n   <rect height=\"543.6\" width=\"558\" x=\"108.142188\" y=\"22.318125\"/>\n  </clipPath>\n </defs>\n</svg>\n",
      "image/png": "[encoded data removed]"
     },
     "metadata": {
      "needs_background": "light"
     }
    }
   ],
   "source": [
    "plt.figure(figsize=(10,10))\n",
    "sns.countplot(y='Location',data=train,order=train.Location.value_counts().iloc[\n",
    "    0:10].index).set_title(\"Twitted locations\")"
   ]
  },
  {
   "cell_type": "code",
   "execution_count": 28,
   "metadata": {
    "collapsed": true
   },
   "outputs": [],
   "source": [
    "plotDf=train.iloc[:,[2,5]]"
   ]
  },
  {
   "cell_type": "code",
   "execution_count": 29,
   "metadata": {},
   "outputs": [
    {
     "output_type": "execute_result",
     "data": {
      "text/plain": [
       "<AxesSubplot:title={'center':'Sentiment Categories of the First 5 Top Locations'}, xlabel='Location', ylabel='count'>"
      ]
     },
     "metadata": {},
     "execution_count": 29
    },
    {
     "output_type": "display_data",
     "data": {
      "text/plain": "<Figure size 1080x648 with 1 Axes>",
      "image/svg+xml": "<?xml version=\"1.0\" encoding=\"utf-8\" standalone=\"no\"?>\n<!DOCTYPE svg PUBLIC \"-//W3C//DTD SVG 1.1//EN\"\n  \"http://www.w3.org/Graphics/SVG/1.1/DTD/svg11.dtd\">\n<!-- Created with matplotlib (https://matplotlib.org/) -->\n<svg height=\"555.950625pt\" version=\"1.1\" viewBox=\"0 0 894.225469 555.950625\" width=\"894.225469pt\" xmlns=\"http://www.w3.org/2000/svg\" xmlns:xlink=\"http://www.w3.org/1999/xlink\">\n <metadata>\n  <rdf:RDF xmlns:cc=\"http://creativecommons.org/ns#\" xmlns:dc=\"http://purl.org/dc/elements/1.1/\" xmlns:rdf=\"http://www.w3.org/1999/02/22-rdf-syntax-ns#\">\n   <cc:Work>\n    <dc:type rdf:resource=\"http://purl.org/dc/dcmitype/StillImage\"/>\n    <dc:date>2021-04-21T16:02:57.532359</dc:date>\n    <dc:format>image/svg+xml</dc:format>\n    <dc:creator>\n     <cc:Agent>\n      <dc:title>Matplotlib v3.3.4, https://matplotlib.org/</dc:title>\n     </cc:Agent>\n    </dc:creator>\n   </cc:Work>\n  </rdf:RDF>\n </metadata>\n <defs>\n  <style type=\"text/css\">*{stroke-linecap:butt;stroke-linejoin:round;}</style>\n </defs>\n <g id=\"figure_1\">\n  <g id=\"patch_1\">\n   <path d=\"M 0 555.950625 \nL 894.225469 555.950625 \nL 894.225469 0 \nL 0 0 \nz\n\" style=\"fill:#ffffff;\"/>\n  </g>\n  <g id=\"axes_1\">\n   <g id=\"patch_2\">\n    <path d=\"M 50.025469 514.0875 \nL 887.025469 514.0875 \nL 887.025469 24.8475 \nL 50.025469 24.8475 \nz\n\" style=\"fill:#eaeaf2;\"/>\n   </g>\n   <g id=\"matplotlib.axis_1\">\n    <g id=\"xtick_1\">\n     <g id=\"text_1\">\n      <!-- London -->\n      <g style=\"fill:#262626;\" transform=\"translate(115.374375 531.461094)scale(0.11 -0.11)\">\n       <defs>\n        <path d=\"M 7.328125 0 \nL 7.328125 71.578125 \nL 16.796875 71.578125 \nL 16.796875 8.453125 \nL 52.046875 8.453125 \nL 52.046875 0 \nz\n\" id=\"ArialMT-76\"/>\n        <path d=\"M 3.328125 25.921875 \nQ 3.328125 40.328125 11.328125 47.265625 \nQ 18.015625 53.03125 27.640625 53.03125 \nQ 38.328125 53.03125 45.109375 46.015625 \nQ 51.90625 39.015625 51.90625 26.65625 \nQ 51.90625 16.65625 48.90625 10.90625 \nQ 45.90625 5.171875 40.15625 2 \nQ 34.421875 -1.171875 27.640625 -1.171875 \nQ 16.75 -1.171875 10.03125 5.8125 \nQ 3.328125 12.796875 3.328125 25.921875 \nz\nM 12.359375 25.921875 \nQ 12.359375 15.96875 16.703125 11.015625 \nQ 21.046875 6.0625 27.640625 6.0625 \nQ 34.1875 6.0625 38.53125 11.03125 \nQ 42.875 16.015625 42.875 26.21875 \nQ 42.875 35.84375 38.5 40.796875 \nQ 34.125 45.75 27.640625 45.75 \nQ 21.046875 45.75 16.703125 40.8125 \nQ 12.359375 35.890625 12.359375 25.921875 \nz\n\" id=\"ArialMT-111\"/>\n        <path d=\"M 6.59375 0 \nL 6.59375 51.859375 \nL 14.5 51.859375 \nL 14.5 44.484375 \nQ 20.21875 53.03125 31 53.03125 \nQ 35.6875 53.03125 39.625 51.34375 \nQ 43.5625 49.65625 45.515625 46.921875 \nQ 47.46875 44.1875 48.25 40.4375 \nQ 48.734375 37.984375 48.734375 31.890625 \nL 48.734375 0 \nL 39.9375 0 \nL 39.9375 31.546875 \nQ 39.9375 36.921875 38.90625 39.578125 \nQ 37.890625 42.234375 35.28125 43.8125 \nQ 32.671875 45.40625 29.15625 45.40625 \nQ 23.53125 45.40625 19.453125 41.84375 \nQ 15.375 38.28125 15.375 28.328125 \nL 15.375 0 \nz\n\" id=\"ArialMT-110\"/>\n        <path d=\"M 40.234375 0 \nL 40.234375 6.546875 \nQ 35.296875 -1.171875 25.734375 -1.171875 \nQ 19.53125 -1.171875 14.328125 2.25 \nQ 9.125 5.671875 6.265625 11.796875 \nQ 3.421875 17.921875 3.421875 25.875 \nQ 3.421875 33.640625 6 39.96875 \nQ 8.59375 46.296875 13.765625 49.65625 \nQ 18.953125 53.03125 25.34375 53.03125 \nQ 30.03125 53.03125 33.6875 51.046875 \nQ 37.359375 49.078125 39.65625 45.90625 \nL 39.65625 71.578125 \nL 48.390625 71.578125 \nL 48.390625 0 \nz\nM 12.453125 25.875 \nQ 12.453125 15.921875 16.640625 10.984375 \nQ 20.84375 6.0625 26.5625 6.0625 \nQ 32.328125 6.0625 36.34375 10.765625 \nQ 40.375 15.484375 40.375 25.140625 \nQ 40.375 35.796875 36.265625 40.765625 \nQ 32.171875 45.75 26.171875 45.75 \nQ 20.3125 45.75 16.375 40.96875 \nQ 12.453125 36.1875 12.453125 25.875 \nz\n\" id=\"ArialMT-100\"/>\n       </defs>\n       <use xlink:href=\"#ArialMT-76\"/>\n       <use x=\"55.615234\" xlink:href=\"#ArialMT-111\"/>\n       <use x=\"111.230469\" xlink:href=\"#ArialMT-110\"/>\n       <use x=\"166.845703\" xlink:href=\"#ArialMT-100\"/>\n       <use x=\"222.460938\" xlink:href=\"#ArialMT-111\"/>\n       <use x=\"278.076172\" xlink:href=\"#ArialMT-110\"/>\n      </g>\n     </g>\n    </g>\n    <g id=\"xtick_2\">\n     <g id=\"text_2\">\n      <!-- New York -->\n      <g style=\"fill:#262626;\" transform=\"translate(277.884531 531.461094)scale(0.11 -0.11)\">\n       <defs>\n        <path d=\"M 7.625 0 \nL 7.625 71.578125 \nL 17.328125 71.578125 \nL 54.9375 15.375 \nL 54.9375 71.578125 \nL 64.015625 71.578125 \nL 64.015625 0 \nL 54.296875 0 \nL 16.703125 56.25 \nL 16.703125 0 \nz\n\" id=\"ArialMT-78\"/>\n        <path d=\"M 42.09375 16.703125 \nL 51.171875 15.578125 \nQ 49.03125 7.625 43.21875 3.21875 \nQ 37.40625 -1.171875 28.375 -1.171875 \nQ 17 -1.171875 10.328125 5.828125 \nQ 3.65625 12.84375 3.65625 25.484375 \nQ 3.65625 38.578125 10.390625 45.796875 \nQ 17.140625 53.03125 27.875 53.03125 \nQ 38.28125 53.03125 44.875 45.953125 \nQ 51.46875 38.875 51.46875 26.03125 \nQ 51.46875 25.25 51.421875 23.6875 \nL 12.75 23.6875 \nQ 13.234375 15.140625 17.578125 10.59375 \nQ 21.921875 6.0625 28.421875 6.0625 \nQ 33.25 6.0625 36.671875 8.59375 \nQ 40.09375 11.140625 42.09375 16.703125 \nz\nM 13.234375 30.90625 \nL 42.1875 30.90625 \nQ 41.609375 37.453125 38.875 40.71875 \nQ 34.671875 45.796875 27.984375 45.796875 \nQ 21.921875 45.796875 17.796875 41.75 \nQ 13.671875 37.703125 13.234375 30.90625 \nz\n\" id=\"ArialMT-101\"/>\n        <path d=\"M 16.15625 0 \nL 0.296875 51.859375 \nL 9.375 51.859375 \nL 17.625 21.921875 \nL 20.703125 10.796875 \nQ 20.90625 11.625 23.390625 21.484375 \nL 31.640625 51.859375 \nL 40.671875 51.859375 \nL 48.4375 21.78125 \nL 51.03125 11.859375 \nL 54 21.875 \nL 62.890625 51.859375 \nL 71.4375 51.859375 \nL 55.21875 0 \nL 46.09375 0 \nL 37.84375 31.0625 \nL 35.84375 39.890625 \nL 25.34375 0 \nz\n\" id=\"ArialMT-119\"/>\n        <path id=\"ArialMT-32\"/>\n        <path d=\"M 27.875 0 \nL 27.875 30.328125 \nL 0.296875 71.578125 \nL 11.8125 71.578125 \nL 25.921875 50 \nQ 29.828125 43.953125 33.203125 37.890625 \nQ 36.421875 43.5 41.015625 50.53125 \nL 54.890625 71.578125 \nL 65.921875 71.578125 \nL 37.359375 30.328125 \nL 37.359375 0 \nz\n\" id=\"ArialMT-89\"/>\n        <path d=\"M 6.5 0 \nL 6.5 51.859375 \nL 14.40625 51.859375 \nL 14.40625 44 \nQ 17.4375 49.515625 20 51.265625 \nQ 22.5625 53.03125 25.640625 53.03125 \nQ 30.078125 53.03125 34.671875 50.203125 \nL 31.640625 42.046875 \nQ 28.421875 43.953125 25.203125 43.953125 \nQ 22.3125 43.953125 20.015625 42.21875 \nQ 17.71875 40.484375 16.75 37.40625 \nQ 15.28125 32.71875 15.28125 27.15625 \nL 15.28125 0 \nz\n\" id=\"ArialMT-114\"/>\n        <path d=\"M 6.640625 0 \nL 6.640625 71.578125 \nL 15.4375 71.578125 \nL 15.4375 30.765625 \nL 36.234375 51.859375 \nL 47.609375 51.859375 \nL 27.78125 32.625 \nL 49.609375 0 \nL 38.765625 0 \nL 21.625 26.515625 \nL 15.4375 20.5625 \nL 15.4375 0 \nz\n\" id=\"ArialMT-107\"/>\n       </defs>\n       <use xlink:href=\"#ArialMT-78\"/>\n       <use x=\"72.216797\" xlink:href=\"#ArialMT-101\"/>\n       <use x=\"127.832031\" xlink:href=\"#ArialMT-119\"/>\n       <use x=\"200.048828\" xlink:href=\"#ArialMT-32\"/>\n       <use x=\"226.082031\" xlink:href=\"#ArialMT-89\"/>\n       <use x=\"283.65625\" xlink:href=\"#ArialMT-111\"/>\n       <use x=\"339.271484\" xlink:href=\"#ArialMT-114\"/>\n       <use x=\"372.572266\" xlink:href=\"#ArialMT-107\"/>\n      </g>\n     </g>\n    </g>\n    <g id=\"xtick_3\">\n     <g id=\"text_3\">\n      <!-- United States -->\n      <g style=\"fill:#262626;\" transform=\"translate(435.508281 531.461094)scale(0.11 -0.11)\">\n       <defs>\n        <path d=\"M 54.6875 71.578125 \nL 64.15625 71.578125 \nL 64.15625 30.21875 \nQ 64.15625 19.4375 61.71875 13.078125 \nQ 59.28125 6.734375 52.90625 2.75 \nQ 46.53125 -1.21875 36.1875 -1.21875 \nQ 26.125 -1.21875 19.71875 2.25 \nQ 13.328125 5.71875 10.59375 12.28125 \nQ 7.859375 18.84375 7.859375 30.21875 \nL 7.859375 71.578125 \nL 17.328125 71.578125 \nL 17.328125 30.28125 \nQ 17.328125 20.953125 19.0625 16.53125 \nQ 20.796875 12.109375 25.015625 9.71875 \nQ 29.25 7.328125 35.359375 7.328125 \nQ 45.796875 7.328125 50.234375 12.0625 \nQ 54.6875 16.796875 54.6875 30.28125 \nz\n\" id=\"ArialMT-85\"/>\n        <path d=\"M 6.640625 61.46875 \nL 6.640625 71.578125 \nL 15.4375 71.578125 \nL 15.4375 61.46875 \nz\nM 6.640625 0 \nL 6.640625 51.859375 \nL 15.4375 51.859375 \nL 15.4375 0 \nz\n\" id=\"ArialMT-105\"/>\n        <path d=\"M 25.78125 7.859375 \nL 27.046875 0.09375 \nQ 23.34375 -0.6875 20.40625 -0.6875 \nQ 15.625 -0.6875 12.984375 0.828125 \nQ 10.359375 2.34375 9.28125 4.8125 \nQ 8.203125 7.28125 8.203125 15.1875 \nL 8.203125 45.015625 \nL 1.765625 45.015625 \nL 1.765625 51.859375 \nL 8.203125 51.859375 \nL 8.203125 64.703125 \nL 16.9375 69.96875 \nL 16.9375 51.859375 \nL 25.78125 51.859375 \nL 25.78125 45.015625 \nL 16.9375 45.015625 \nL 16.9375 14.703125 \nQ 16.9375 10.9375 17.40625 9.859375 \nQ 17.875 8.796875 18.921875 8.15625 \nQ 19.96875 7.515625 21.921875 7.515625 \nQ 23.390625 7.515625 25.78125 7.859375 \nz\n\" id=\"ArialMT-116\"/>\n        <path d=\"M 4.5 23 \nL 13.421875 23.78125 \nQ 14.0625 18.40625 16.375 14.96875 \nQ 18.703125 11.53125 23.578125 9.40625 \nQ 28.46875 7.28125 34.578125 7.28125 \nQ 39.984375 7.28125 44.140625 8.890625 \nQ 48.296875 10.5 50.3125 13.296875 \nQ 52.34375 16.109375 52.34375 19.4375 \nQ 52.34375 22.796875 50.390625 25.3125 \nQ 48.4375 27.828125 43.953125 29.546875 \nQ 41.0625 30.671875 31.203125 33.03125 \nQ 21.34375 35.40625 17.390625 37.5 \nQ 12.25 40.1875 9.734375 44.15625 \nQ 7.234375 48.140625 7.234375 53.078125 \nQ 7.234375 58.5 10.296875 63.203125 \nQ 13.375 67.921875 19.28125 70.359375 \nQ 25.203125 72.796875 32.421875 72.796875 \nQ 40.375 72.796875 46.453125 70.234375 \nQ 52.546875 67.671875 55.8125 62.6875 \nQ 59.078125 57.71875 59.328125 51.421875 \nL 50.25 50.734375 \nQ 49.515625 57.515625 45.28125 60.984375 \nQ 41.0625 64.453125 32.8125 64.453125 \nQ 24.21875 64.453125 20.28125 61.296875 \nQ 16.359375 58.15625 16.359375 53.71875 \nQ 16.359375 49.859375 19.140625 47.359375 \nQ 21.875 44.875 33.421875 42.265625 \nQ 44.96875 39.65625 49.265625 37.703125 \nQ 55.515625 34.8125 58.484375 30.390625 \nQ 61.46875 25.984375 61.46875 20.21875 \nQ 61.46875 14.5 58.203125 9.4375 \nQ 54.9375 4.390625 48.796875 1.578125 \nQ 42.671875 -1.21875 35.015625 -1.21875 \nQ 25.296875 -1.21875 18.71875 1.609375 \nQ 12.15625 4.4375 8.421875 10.125 \nQ 4.6875 15.828125 4.5 23 \nz\n\" id=\"ArialMT-83\"/>\n        <path d=\"M 40.4375 6.390625 \nQ 35.546875 2.25 31.03125 0.53125 \nQ 26.515625 -1.171875 21.34375 -1.171875 \nQ 12.796875 -1.171875 8.203125 3 \nQ 3.609375 7.171875 3.609375 13.671875 \nQ 3.609375 17.484375 5.34375 20.625 \nQ 7.078125 23.78125 9.890625 25.6875 \nQ 12.703125 27.59375 16.21875 28.5625 \nQ 18.796875 29.25 24.03125 29.890625 \nQ 34.671875 31.15625 39.703125 32.90625 \nQ 39.75 34.71875 39.75 35.203125 \nQ 39.75 40.578125 37.25 42.78125 \nQ 33.890625 45.75 27.25 45.75 \nQ 21.046875 45.75 18.09375 43.578125 \nQ 15.140625 41.40625 13.71875 35.890625 \nL 5.125 37.0625 \nQ 6.296875 42.578125 8.984375 45.96875 \nQ 11.671875 49.359375 16.75 51.1875 \nQ 21.828125 53.03125 28.515625 53.03125 \nQ 35.15625 53.03125 39.296875 51.46875 \nQ 43.453125 49.90625 45.40625 47.53125 \nQ 47.359375 45.171875 48.140625 41.546875 \nQ 48.578125 39.3125 48.578125 33.453125 \nL 48.578125 21.734375 \nQ 48.578125 9.46875 49.140625 6.21875 \nQ 49.703125 2.984375 51.375 0 \nL 42.1875 0 \nQ 40.828125 2.734375 40.4375 6.390625 \nz\nM 39.703125 26.03125 \nQ 34.90625 24.078125 25.34375 22.703125 \nQ 19.921875 21.921875 17.671875 20.9375 \nQ 15.4375 19.96875 14.203125 18.09375 \nQ 12.984375 16.21875 12.984375 13.921875 \nQ 12.984375 10.40625 15.640625 8.0625 \nQ 18.3125 5.71875 23.4375 5.71875 \nQ 28.515625 5.71875 32.46875 7.9375 \nQ 36.421875 10.15625 38.28125 14.015625 \nQ 39.703125 17 39.703125 22.796875 \nz\n\" id=\"ArialMT-97\"/>\n        <path d=\"M 3.078125 15.484375 \nL 11.765625 16.84375 \nQ 12.5 11.625 15.84375 8.84375 \nQ 19.1875 6.0625 25.203125 6.0625 \nQ 31.25 6.0625 34.171875 8.515625 \nQ 37.109375 10.984375 37.109375 14.3125 \nQ 37.109375 17.28125 34.515625 19 \nQ 32.71875 20.171875 25.53125 21.96875 \nQ 15.875 24.421875 12.140625 26.203125 \nQ 8.40625 27.984375 6.46875 31.125 \nQ 4.546875 34.28125 4.546875 38.09375 \nQ 4.546875 41.546875 6.125 44.5 \nQ 7.71875 47.46875 10.453125 49.421875 \nQ 12.5 50.921875 16.03125 51.96875 \nQ 19.578125 53.03125 23.640625 53.03125 \nQ 29.734375 53.03125 34.34375 51.265625 \nQ 38.96875 49.515625 41.15625 46.5 \nQ 43.359375 43.5 44.1875 38.484375 \nL 35.59375 37.3125 \nQ 35.015625 41.3125 32.203125 43.546875 \nQ 29.390625 45.796875 24.265625 45.796875 \nQ 18.21875 45.796875 15.625 43.796875 \nQ 13.03125 41.796875 13.03125 39.109375 \nQ 13.03125 37.40625 14.109375 36.03125 \nQ 15.1875 34.625 17.484375 33.6875 \nQ 18.796875 33.203125 25.25 31.453125 \nQ 34.578125 28.953125 38.25 27.359375 \nQ 41.9375 25.78125 44.03125 22.75 \nQ 46.140625 19.734375 46.140625 15.234375 \nQ 46.140625 10.84375 43.578125 6.953125 \nQ 41.015625 3.078125 36.171875 0.953125 \nQ 31.34375 -1.171875 25.25 -1.171875 \nQ 15.140625 -1.171875 9.84375 3.03125 \nQ 4.546875 7.234375 3.078125 15.484375 \nz\n\" id=\"ArialMT-115\"/>\n       </defs>\n       <use xlink:href=\"#ArialMT-85\"/>\n       <use x=\"72.216797\" xlink:href=\"#ArialMT-110\"/>\n       <use x=\"127.832031\" xlink:href=\"#ArialMT-105\"/>\n       <use x=\"150.048828\" xlink:href=\"#ArialMT-116\"/>\n       <use x=\"177.832031\" xlink:href=\"#ArialMT-101\"/>\n       <use x=\"233.447266\" xlink:href=\"#ArialMT-100\"/>\n       <use x=\"289.0625\" xlink:href=\"#ArialMT-32\"/>\n       <use x=\"316.845703\" xlink:href=\"#ArialMT-83\"/>\n       <use x=\"383.544922\" xlink:href=\"#ArialMT-116\"/>\n       <use x=\"411.328125\" xlink:href=\"#ArialMT-97\"/>\n       <use x=\"466.943359\" xlink:href=\"#ArialMT-116\"/>\n       <use x=\"494.726562\" xlink:href=\"#ArialMT-101\"/>\n       <use x=\"550.341797\" xlink:href=\"#ArialMT-115\"/>\n      </g>\n     </g>\n    </g>\n    <g id=\"xtick_4\">\n     <g id=\"text_4\">\n      <!-- Washington -->\n      <g style=\"fill:#262626;\" transform=\"translate(607.089141 531.461094)scale(0.11 -0.11)\">\n       <defs>\n        <path d=\"M 20.21875 0 \nL 1.21875 71.578125 \nL 10.9375 71.578125 \nL 21.828125 24.65625 \nQ 23.578125 17.28125 24.859375 10.015625 \nQ 27.59375 21.484375 28.078125 23.25 \nL 41.703125 71.578125 \nL 53.125 71.578125 \nL 63.375 35.359375 \nQ 67.234375 21.875 68.953125 10.015625 \nQ 70.3125 16.796875 72.515625 25.59375 \nL 83.734375 71.578125 \nL 93.265625 71.578125 \nL 73.640625 0 \nL 64.5 0 \nL 49.421875 54.546875 \nQ 47.515625 61.375 47.171875 62.9375 \nQ 46.046875 58.015625 45.0625 54.546875 \nL 29.890625 0 \nz\n\" id=\"ArialMT-87\"/>\n        <path d=\"M 6.59375 0 \nL 6.59375 71.578125 \nL 15.375 71.578125 \nL 15.375 45.90625 \nQ 21.53125 53.03125 30.90625 53.03125 \nQ 36.671875 53.03125 40.921875 50.75 \nQ 45.171875 48.484375 47 44.484375 \nQ 48.828125 40.484375 48.828125 32.859375 \nL 48.828125 0 \nL 40.046875 0 \nL 40.046875 32.859375 \nQ 40.046875 39.453125 37.1875 42.453125 \nQ 34.328125 45.453125 29.109375 45.453125 \nQ 25.203125 45.453125 21.75 43.421875 \nQ 18.3125 41.40625 16.84375 37.9375 \nQ 15.375 34.46875 15.375 28.375 \nL 15.375 0 \nz\n\" id=\"ArialMT-104\"/>\n        <path d=\"M 4.984375 -4.296875 \nL 13.53125 -5.5625 \nQ 14.0625 -9.515625 16.5 -11.328125 \nQ 19.78125 -13.765625 25.4375 -13.765625 \nQ 31.546875 -13.765625 34.859375 -11.328125 \nQ 38.1875 -8.890625 39.359375 -4.5 \nQ 40.046875 -1.8125 39.984375 6.78125 \nQ 34.234375 0 25.640625 0 \nQ 14.9375 0 9.078125 7.71875 \nQ 3.21875 15.4375 3.21875 26.21875 \nQ 3.21875 33.640625 5.90625 39.90625 \nQ 8.59375 46.1875 13.6875 49.609375 \nQ 18.796875 53.03125 25.6875 53.03125 \nQ 34.859375 53.03125 40.828125 45.609375 \nL 40.828125 51.859375 \nL 48.921875 51.859375 \nL 48.921875 7.03125 \nQ 48.921875 -5.078125 46.453125 -10.125 \nQ 44 -15.1875 38.640625 -18.109375 \nQ 33.296875 -21.046875 25.484375 -21.046875 \nQ 16.21875 -21.046875 10.5 -16.875 \nQ 4.78125 -12.703125 4.984375 -4.296875 \nz\nM 12.25 26.859375 \nQ 12.25 16.65625 16.296875 11.96875 \nQ 20.359375 7.28125 26.46875 7.28125 \nQ 32.515625 7.28125 36.609375 11.9375 \nQ 40.71875 16.609375 40.71875 26.5625 \nQ 40.71875 36.078125 36.5 40.90625 \nQ 32.28125 45.75 26.3125 45.75 \nQ 20.453125 45.75 16.34375 40.984375 \nQ 12.25 36.234375 12.25 26.859375 \nz\n\" id=\"ArialMT-103\"/>\n       </defs>\n       <use xlink:href=\"#ArialMT-87\"/>\n       <use x=\"90.634766\" xlink:href=\"#ArialMT-97\"/>\n       <use x=\"146.25\" xlink:href=\"#ArialMT-115\"/>\n       <use x=\"196.25\" xlink:href=\"#ArialMT-104\"/>\n       <use x=\"251.865234\" xlink:href=\"#ArialMT-105\"/>\n       <use x=\"274.082031\" xlink:href=\"#ArialMT-110\"/>\n       <use x=\"329.697266\" xlink:href=\"#ArialMT-103\"/>\n       <use x=\"385.3125\" xlink:href=\"#ArialMT-116\"/>\n       <use x=\"413.095703\" xlink:href=\"#ArialMT-111\"/>\n       <use x=\"468.710938\" xlink:href=\"#ArialMT-110\"/>\n      </g>\n     </g>\n    </g>\n    <g id=\"xtick_5\">\n     <g id=\"text_5\">\n      <!-- Los Angeles -->\n      <g style=\"fill:#262626;\" transform=\"translate(773.358203 531.461094)scale(0.11 -0.11)\">\n       <defs>\n        <path d=\"M -0.140625 0 \nL 27.34375 71.578125 \nL 37.546875 71.578125 \nL 66.84375 0 \nL 56.0625 0 \nL 47.703125 21.6875 \nL 17.78125 21.6875 \nL 9.90625 0 \nz\nM 20.515625 29.390625 \nL 44.78125 29.390625 \nL 37.3125 49.21875 \nQ 33.890625 58.25 32.234375 64.0625 \nQ 30.859375 57.171875 28.375 50.390625 \nz\n\" id=\"ArialMT-65\"/>\n        <path d=\"M 6.390625 0 \nL 6.390625 71.578125 \nL 15.1875 71.578125 \nL 15.1875 0 \nz\n\" id=\"ArialMT-108\"/>\n       </defs>\n       <use xlink:href=\"#ArialMT-76\"/>\n       <use x=\"55.615234\" xlink:href=\"#ArialMT-111\"/>\n       <use x=\"111.230469\" xlink:href=\"#ArialMT-115\"/>\n       <use x=\"161.230469\" xlink:href=\"#ArialMT-32\"/>\n       <use x=\"183.513672\" xlink:href=\"#ArialMT-65\"/>\n       <use x=\"250.212891\" xlink:href=\"#ArialMT-110\"/>\n       <use x=\"305.828125\" xlink:href=\"#ArialMT-103\"/>\n       <use x=\"361.443359\" xlink:href=\"#ArialMT-101\"/>\n       <use x=\"417.058594\" xlink:href=\"#ArialMT-108\"/>\n       <use x=\"439.275391\" xlink:href=\"#ArialMT-101\"/>\n       <use x=\"494.890625\" xlink:href=\"#ArialMT-115\"/>\n      </g>\n     </g>\n    </g>\n    <g id=\"text_6\">\n     <!-- Location -->\n     <g style=\"fill:#262626;\" transform=\"translate(445.842656 546.365625)scale(0.12 -0.12)\">\n      <defs>\n       <path d=\"M 40.4375 19 \nL 49.078125 17.875 \nQ 47.65625 8.9375 41.8125 3.875 \nQ 35.984375 -1.171875 27.484375 -1.171875 \nQ 16.84375 -1.171875 10.375 5.78125 \nQ 3.90625 12.75 3.90625 25.734375 \nQ 3.90625 34.125 6.6875 40.421875 \nQ 9.46875 46.734375 15.15625 49.875 \nQ 20.84375 53.03125 27.546875 53.03125 \nQ 35.984375 53.03125 41.359375 48.75 \nQ 46.734375 44.484375 48.25 36.625 \nL 39.703125 35.296875 \nQ 38.484375 40.53125 35.375 43.15625 \nQ 32.28125 45.796875 27.875 45.796875 \nQ 21.234375 45.796875 17.078125 41.03125 \nQ 12.9375 36.28125 12.9375 25.984375 \nQ 12.9375 15.53125 16.9375 10.796875 \nQ 20.953125 6.0625 27.390625 6.0625 \nQ 32.5625 6.0625 36.03125 9.234375 \nQ 39.5 12.40625 40.4375 19 \nz\n\" id=\"ArialMT-99\"/>\n      </defs>\n      <use xlink:href=\"#ArialMT-76\"/>\n      <use x=\"55.615234\" xlink:href=\"#ArialMT-111\"/>\n      <use x=\"111.230469\" xlink:href=\"#ArialMT-99\"/>\n      <use x=\"161.230469\" xlink:href=\"#ArialMT-97\"/>\n      <use x=\"216.845703\" xlink:href=\"#ArialMT-116\"/>\n      <use x=\"244.628906\" xlink:href=\"#ArialMT-105\"/>\n      <use x=\"266.845703\" xlink:href=\"#ArialMT-111\"/>\n      <use x=\"322.460938\" xlink:href=\"#ArialMT-110\"/>\n     </g>\n    </g>\n   </g>\n   <g id=\"matplotlib.axis_2\">\n    <g id=\"ytick_1\">\n     <g id=\"line2d_1\">\n      <path clip-path=\"url(#pdfb775bf22)\" d=\"M 50.025469 514.0875 \nL 887.025469 514.0875 \n\" style=\"fill:none;stroke:#ffffff;stroke-linecap:round;\"/>\n     </g>\n     <g id=\"text_7\">\n      <!-- 0 -->\n      <g style=\"fill:#262626;\" transform=\"translate(34.408438 518.024297)scale(0.11 -0.11)\">\n       <defs>\n        <path d=\"M 4.15625 35.296875 \nQ 4.15625 48 6.765625 55.734375 \nQ 9.375 63.484375 14.515625 67.671875 \nQ 19.671875 71.875 27.484375 71.875 \nQ 33.25 71.875 37.59375 69.546875 \nQ 41.9375 67.234375 44.765625 62.859375 \nQ 47.609375 58.5 49.21875 52.21875 \nQ 50.828125 45.953125 50.828125 35.296875 \nQ 50.828125 22.703125 48.234375 14.96875 \nQ 45.65625 7.234375 40.5 3 \nQ 35.359375 -1.21875 27.484375 -1.21875 \nQ 17.140625 -1.21875 11.234375 6.203125 \nQ 4.15625 15.140625 4.15625 35.296875 \nz\nM 13.1875 35.296875 \nQ 13.1875 17.671875 17.3125 11.828125 \nQ 21.4375 6 27.484375 6 \nQ 33.546875 6 37.671875 11.859375 \nQ 41.796875 17.71875 41.796875 35.296875 \nQ 41.796875 52.984375 37.671875 58.78125 \nQ 33.546875 64.59375 27.390625 64.59375 \nQ 21.34375 64.59375 17.71875 59.46875 \nQ 13.1875 52.9375 13.1875 35.296875 \nz\n\" id=\"ArialMT-48\"/>\n       </defs>\n       <use xlink:href=\"#ArialMT-48\"/>\n      </g>\n     </g>\n    </g>\n    <g id=\"ytick_2\">\n     <g id=\"line2d_2\">\n      <path clip-path=\"url(#pdfb775bf22)\" d=\"M 50.025469 447.524235 \nL 887.025469 447.524235 \n\" style=\"fill:none;stroke:#ffffff;stroke-linecap:round;\"/>\n     </g>\n     <g id=\"text_8\">\n      <!-- 50 -->\n      <g style=\"fill:#262626;\" transform=\"translate(28.291406 451.461032)scale(0.11 -0.11)\">\n       <defs>\n        <path d=\"M 4.15625 18.75 \nL 13.375 19.53125 \nQ 14.40625 12.796875 18.140625 9.390625 \nQ 21.875 6 27.15625 6 \nQ 33.5 6 37.890625 10.78125 \nQ 42.28125 15.578125 42.28125 23.484375 \nQ 42.28125 31 38.0625 35.34375 \nQ 33.84375 39.703125 27 39.703125 \nQ 22.75 39.703125 19.328125 37.765625 \nQ 15.921875 35.84375 13.96875 32.765625 \nL 5.71875 33.84375 \nL 12.640625 70.609375 \nL 48.25 70.609375 \nL 48.25 62.203125 \nL 19.671875 62.203125 \nL 15.828125 42.96875 \nQ 22.265625 47.46875 29.34375 47.46875 \nQ 38.71875 47.46875 45.15625 40.96875 \nQ 51.609375 34.46875 51.609375 24.265625 \nQ 51.609375 14.546875 45.953125 7.46875 \nQ 39.0625 -1.21875 27.15625 -1.21875 \nQ 17.390625 -1.21875 11.203125 4.25 \nQ 5.03125 9.71875 4.15625 18.75 \nz\n\" id=\"ArialMT-53\"/>\n       </defs>\n       <use xlink:href=\"#ArialMT-53\"/>\n       <use x=\"55.615234\" xlink:href=\"#ArialMT-48\"/>\n      </g>\n     </g>\n    </g>\n    <g id=\"ytick_3\">\n     <g id=\"line2d_3\">\n      <path clip-path=\"url(#pdfb775bf22)\" d=\"M 50.025469 380.960969 \nL 887.025469 380.960969 \n\" style=\"fill:none;stroke:#ffffff;stroke-linecap:round;\"/>\n     </g>\n     <g id=\"text_9\">\n      <!-- 100 -->\n      <g style=\"fill:#262626;\" transform=\"translate(22.174375 384.897766)scale(0.11 -0.11)\">\n       <defs>\n        <path d=\"M 37.25 0 \nL 28.46875 0 \nL 28.46875 56 \nQ 25.296875 52.984375 20.140625 49.953125 \nQ 14.984375 46.921875 10.890625 45.40625 \nL 10.890625 53.90625 \nQ 18.265625 57.375 23.78125 62.296875 \nQ 29.296875 67.234375 31.59375 71.875 \nL 37.25 71.875 \nz\n\" id=\"ArialMT-49\"/>\n       </defs>\n       <use xlink:href=\"#ArialMT-49\"/>\n       <use x=\"55.615234\" xlink:href=\"#ArialMT-48\"/>\n       <use x=\"111.230469\" xlink:href=\"#ArialMT-48\"/>\n      </g>\n     </g>\n    </g>\n    <g id=\"ytick_4\">\n     <g id=\"line2d_4\">\n      <path clip-path=\"url(#pdfb775bf22)\" d=\"M 50.025469 314.397704 \nL 887.025469 314.397704 \n\" style=\"fill:none;stroke:#ffffff;stroke-linecap:round;\"/>\n     </g>\n     <g id=\"text_10\">\n      <!-- 150 -->\n      <g style=\"fill:#262626;\" transform=\"translate(22.174375 318.334501)scale(0.11 -0.11)\">\n       <use xlink:href=\"#ArialMT-49\"/>\n       <use x=\"55.615234\" xlink:href=\"#ArialMT-53\"/>\n       <use x=\"111.230469\" xlink:href=\"#ArialMT-48\"/>\n      </g>\n     </g>\n    </g>\n    <g id=\"ytick_5\">\n     <g id=\"line2d_5\">\n      <path clip-path=\"url(#pdfb775bf22)\" d=\"M 50.025469 247.834439 \nL 887.025469 247.834439 \n\" style=\"fill:none;stroke:#ffffff;stroke-linecap:round;\"/>\n     </g>\n     <g id=\"text_11\">\n      <!-- 200 -->\n      <g style=\"fill:#262626;\" transform=\"translate(22.174375 251.771236)scale(0.11 -0.11)\">\n       <defs>\n        <path d=\"M 50.34375 8.453125 \nL 50.34375 0 \nL 3.03125 0 \nQ 2.9375 3.171875 4.046875 6.109375 \nQ 5.859375 10.9375 9.828125 15.625 \nQ 13.8125 20.3125 21.34375 26.46875 \nQ 33.015625 36.03125 37.109375 41.625 \nQ 41.21875 47.21875 41.21875 52.203125 \nQ 41.21875 57.421875 37.46875 61 \nQ 33.734375 64.59375 27.734375 64.59375 \nQ 21.390625 64.59375 17.578125 60.78125 \nQ 13.765625 56.984375 13.71875 50.25 \nL 4.6875 51.171875 \nQ 5.609375 61.28125 11.65625 66.578125 \nQ 17.71875 71.875 27.9375 71.875 \nQ 38.234375 71.875 44.234375 66.15625 \nQ 50.25 60.453125 50.25 52 \nQ 50.25 47.703125 48.484375 43.546875 \nQ 46.734375 39.40625 42.65625 34.8125 \nQ 38.578125 30.21875 29.109375 22.21875 \nQ 21.1875 15.578125 18.9375 13.203125 \nQ 16.703125 10.84375 15.234375 8.453125 \nz\n\" id=\"ArialMT-50\"/>\n       </defs>\n       <use xlink:href=\"#ArialMT-50\"/>\n       <use x=\"55.615234\" xlink:href=\"#ArialMT-48\"/>\n       <use x=\"111.230469\" xlink:href=\"#ArialMT-48\"/>\n      </g>\n     </g>\n    </g>\n    <g id=\"ytick_6\">\n     <g id=\"line2d_6\">\n      <path clip-path=\"url(#pdfb775bf22)\" d=\"M 50.025469 181.271173 \nL 887.025469 181.271173 \n\" style=\"fill:none;stroke:#ffffff;stroke-linecap:round;\"/>\n     </g>\n     <g id=\"text_12\">\n      <!-- 250 -->\n      <g style=\"fill:#262626;\" transform=\"translate(22.174375 185.20797)scale(0.11 -0.11)\">\n       <use xlink:href=\"#ArialMT-50\"/>\n       <use x=\"55.615234\" xlink:href=\"#ArialMT-53\"/>\n       <use x=\"111.230469\" xlink:href=\"#ArialMT-48\"/>\n      </g>\n     </g>\n    </g>\n    <g id=\"ytick_7\">\n     <g id=\"line2d_7\">\n      <path clip-path=\"url(#pdfb775bf22)\" d=\"M 50.025469 114.707908 \nL 887.025469 114.707908 \n\" style=\"fill:none;stroke:#ffffff;stroke-linecap:round;\"/>\n     </g>\n     <g id=\"text_13\">\n      <!-- 300 -->\n      <g style=\"fill:#262626;\" transform=\"translate(22.174375 118.644705)scale(0.11 -0.11)\">\n       <defs>\n        <path d=\"M 4.203125 18.890625 \nL 12.984375 20.0625 \nQ 14.5 12.59375 18.140625 9.296875 \nQ 21.78125 6 27 6 \nQ 33.203125 6 37.46875 10.296875 \nQ 41.75 14.59375 41.75 20.953125 \nQ 41.75 27 37.796875 30.921875 \nQ 33.84375 34.859375 27.734375 34.859375 \nQ 25.25 34.859375 21.53125 33.890625 \nL 22.515625 41.609375 \nQ 23.390625 41.5 23.921875 41.5 \nQ 29.546875 41.5 34.03125 44.421875 \nQ 38.53125 47.359375 38.53125 53.46875 \nQ 38.53125 58.296875 35.25 61.46875 \nQ 31.984375 64.65625 26.8125 64.65625 \nQ 21.6875 64.65625 18.265625 61.421875 \nQ 14.84375 58.203125 13.875 51.765625 \nL 5.078125 53.328125 \nQ 6.6875 62.15625 12.390625 67.015625 \nQ 18.109375 71.875 26.609375 71.875 \nQ 32.46875 71.875 37.390625 69.359375 \nQ 42.328125 66.84375 44.9375 62.5 \nQ 47.5625 58.15625 47.5625 53.265625 \nQ 47.5625 48.640625 45.0625 44.828125 \nQ 42.578125 41.015625 37.703125 38.765625 \nQ 44.046875 37.3125 47.5625 32.6875 \nQ 51.078125 28.078125 51.078125 21.140625 \nQ 51.078125 11.765625 44.234375 5.25 \nQ 37.40625 -1.265625 26.953125 -1.265625 \nQ 17.53125 -1.265625 11.296875 4.34375 \nQ 5.078125 9.96875 4.203125 18.890625 \nz\n\" id=\"ArialMT-51\"/>\n       </defs>\n       <use xlink:href=\"#ArialMT-51\"/>\n       <use x=\"55.615234\" xlink:href=\"#ArialMT-48\"/>\n       <use x=\"111.230469\" xlink:href=\"#ArialMT-48\"/>\n      </g>\n     </g>\n    </g>\n    <g id=\"ytick_8\">\n     <g id=\"line2d_8\">\n      <path clip-path=\"url(#pdfb775bf22)\" d=\"M 50.025469 48.144643 \nL 887.025469 48.144643 \n\" style=\"fill:none;stroke:#ffffff;stroke-linecap:round;\"/>\n     </g>\n     <g id=\"text_14\">\n      <!-- 350 -->\n      <g style=\"fill:#262626;\" transform=\"translate(22.174375 52.08144)scale(0.11 -0.11)\">\n       <use xlink:href=\"#ArialMT-51\"/>\n       <use x=\"55.615234\" xlink:href=\"#ArialMT-53\"/>\n       <use x=\"111.230469\" xlink:href=\"#ArialMT-48\"/>\n      </g>\n     </g>\n    </g>\n    <g id=\"text_15\">\n     <!-- count -->\n     <g style=\"fill:#262626;\" transform=\"translate(15.789375 284.144063)rotate(-90)scale(0.12 -0.12)\">\n      <defs>\n       <path d=\"M 40.578125 0 \nL 40.578125 7.625 \nQ 34.515625 -1.171875 24.125 -1.171875 \nQ 19.53125 -1.171875 15.546875 0.578125 \nQ 11.578125 2.34375 9.640625 5 \nQ 7.71875 7.671875 6.9375 11.53125 \nQ 6.390625 14.109375 6.390625 19.734375 \nL 6.390625 51.859375 \nL 15.1875 51.859375 \nL 15.1875 23.09375 \nQ 15.1875 16.21875 15.71875 13.8125 \nQ 16.546875 10.359375 19.234375 8.375 \nQ 21.921875 6.390625 25.875 6.390625 \nQ 29.828125 6.390625 33.296875 8.421875 \nQ 36.765625 10.453125 38.203125 13.9375 \nQ 39.65625 17.4375 39.65625 24.078125 \nL 39.65625 51.859375 \nL 48.4375 51.859375 \nL 48.4375 0 \nz\n\" id=\"ArialMT-117\"/>\n      </defs>\n      <use xlink:href=\"#ArialMT-99\"/>\n      <use x=\"50\" xlink:href=\"#ArialMT-111\"/>\n      <use x=\"105.615234\" xlink:href=\"#ArialMT-117\"/>\n      <use x=\"161.230469\" xlink:href=\"#ArialMT-110\"/>\n      <use x=\"216.845703\" xlink:href=\"#ArialMT-116\"/>\n     </g>\n    </g>\n   </g>\n   <g id=\"patch_3\">\n    <path clip-path=\"url(#pdfb775bf22)\" d=\"M 66.765469 514.0875 \nL 93.549469 514.0875 \nL 93.549469 183.933704 \nL 66.765469 183.933704 \nz\n\" style=\"fill:#5875a4;stroke:#ffffff;stroke-linejoin:miter;\"/>\n   </g>\n   <g id=\"patch_4\">\n    <path clip-path=\"url(#pdfb775bf22)\" d=\"M 234.165469 514.0875 \nL 260.949469 514.0875 \nL 260.949469 293.097459 \nL 234.165469 293.097459 \nz\n\" style=\"fill:#5875a4;stroke:#ffffff;stroke-linejoin:miter;\"/>\n   </g>\n   <g id=\"patch_5\">\n    <path clip-path=\"url(#pdfb775bf22)\" d=\"M 401.565469 514.0875 \nL 428.349469 514.0875 \nL 428.349469 364.985786 \nL 401.565469 364.985786 \nz\n\" style=\"fill:#5875a4;stroke:#ffffff;stroke-linejoin:miter;\"/>\n   </g>\n   <g id=\"patch_6\">\n    <path clip-path=\"url(#pdfb775bf22)\" d=\"M 568.965469 514.0875 \nL 595.749469 514.0875 \nL 595.749469 411.580071 \nL 568.965469 411.580071 \nz\n\" style=\"fill:#5875a4;stroke:#ffffff;stroke-linejoin:miter;\"/>\n   </g>\n   <g id=\"patch_7\">\n    <path clip-path=\"url(#pdfb775bf22)\" d=\"M 736.365469 514.0875 \nL 763.149469 514.0875 \nL 763.149469 384.954765 \nL 736.365469 384.954765 \nz\n\" style=\"fill:#5875a4;stroke:#ffffff;stroke-linejoin:miter;\"/>\n   </g>\n   <g id=\"patch_8\">\n    <path clip-path=\"url(#pdfb775bf22)\" d=\"M 93.549469 514.0875 \nL 120.333469 514.0875 \nL 120.333469 48.144643 \nL 93.549469 48.144643 \nz\n\" style=\"fill:#cc8963;stroke:#ffffff;stroke-linejoin:miter;\"/>\n   </g>\n   <g id=\"patch_9\">\n    <path clip-path=\"url(#pdfb775bf22)\" d=\"M 260.949469 514.0875 \nL 287.733469 514.0875 \nL 287.733469 257.153296 \nL 260.949469 257.153296 \nz\n\" style=\"fill:#cc8963;stroke:#ffffff;stroke-linejoin:miter;\"/>\n   </g>\n   <g id=\"patch_10\">\n    <path clip-path=\"url(#pdfb775bf22)\" d=\"M 428.349469 514.0875 \nL 455.133469 514.0875 \nL 455.133469 307.741378 \nL 428.349469 307.741378 \nz\n\" style=\"fill:#cc8963;stroke:#ffffff;stroke-linejoin:miter;\"/>\n   </g>\n   <g id=\"patch_11\">\n    <path clip-path=\"url(#pdfb775bf22)\" d=\"M 595.749469 514.0875 \nL 622.533469 514.0875 \nL 622.533469 323.716561 \nL 595.749469 323.716561 \nz\n\" style=\"fill:#cc8963;stroke:#ffffff;stroke-linejoin:miter;\"/>\n   </g>\n   <g id=\"patch_12\">\n    <path clip-path=\"url(#pdfb775bf22)\" d=\"M 763.149469 514.0875 \nL 789.933469 514.0875 \nL 789.933469 379.629704 \nL 763.149469 379.629704 \nz\n\" style=\"fill:#cc8963;stroke:#ffffff;stroke-linejoin:miter;\"/>\n   </g>\n   <g id=\"patch_13\">\n    <path clip-path=\"url(#pdfb775bf22)\" d=\"M 120.333469 514.0875 \nL 147.117469 514.0875 \nL 147.117469 265.140888 \nL 120.333469 265.140888 \nz\n\" style=\"fill:#5f9e6e;stroke:#ffffff;stroke-linejoin:miter;\"/>\n   </g>\n   <g id=\"patch_14\">\n    <path clip-path=\"url(#pdfb775bf22)\" d=\"M 287.733469 514.0875 \nL 314.517469 514.0875 \nL 314.517469 399.598684 \nL 287.733469 399.598684 \nz\n\" style=\"fill:#5f9e6e;stroke:#ffffff;stroke-linejoin:miter;\"/>\n   </g>\n   <g id=\"patch_15\">\n    <path clip-path=\"url(#pdfb775bf22)\" d=\"M 455.133469 514.0875 \nL 481.917469 514.0875 \nL 481.917469 428.88652 \nL 455.133469 428.88652 \nz\n\" style=\"fill:#5f9e6e;stroke:#ffffff;stroke-linejoin:miter;\"/>\n   </g>\n   <g id=\"patch_16\">\n    <path clip-path=\"url(#pdfb775bf22)\" d=\"M 622.533469 514.0875 \nL 649.317469 514.0875 \nL 649.317469 412.911337 \nL 622.533469 412.911337 \nz\n\" style=\"fill:#5f9e6e;stroke:#ffffff;stroke-linejoin:miter;\"/>\n   </g>\n   <g id=\"patch_17\">\n    <path clip-path=\"url(#pdfb775bf22)\" d=\"M 789.933469 514.0875 \nL 816.717469 514.0875 \nL 816.717469 468.82448 \nL 789.933469 468.82448 \nz\n\" style=\"fill:#5f9e6e;stroke:#ffffff;stroke-linejoin:miter;\"/>\n   </g>\n   <g id=\"patch_18\">\n    <path clip-path=\"url(#pdfb775bf22)\" d=\"M 147.117469 514.0875 \nL 173.901469 514.0875 \nL 173.901469 124.026765 \nL 147.117469 124.026765 \nz\n\" style=\"fill:#b55d60;stroke:#ffffff;stroke-linejoin:miter;\"/>\n   </g>\n   <g id=\"patch_19\">\n    <path clip-path=\"url(#pdfb775bf22)\" d=\"M 314.517469 514.0875 \nL 341.301469 514.0875 \nL 341.301469 314.397704 \nL 314.517469 314.397704 \nz\n\" style=\"fill:#b55d60;stroke:#ffffff;stroke-linejoin:miter;\"/>\n   </g>\n   <g id=\"patch_20\">\n    <path clip-path=\"url(#pdfb775bf22)\" d=\"M 481.917469 514.0875 \nL 508.701469 514.0875 \nL 508.701469 371.642112 \nL 481.917469 371.642112 \nz\n\" style=\"fill:#b55d60;stroke:#ffffff;stroke-linejoin:miter;\"/>\n   </g>\n   <g id=\"patch_21\">\n    <path clip-path=\"url(#pdfb775bf22)\" d=\"M 649.317469 514.0875 \nL 676.101469 514.0875 \nL 676.101469 353.004398 \nL 649.317469 353.004398 \nz\n\" style=\"fill:#b55d60;stroke:#ffffff;stroke-linejoin:miter;\"/>\n   </g>\n   <g id=\"patch_22\">\n    <path clip-path=\"url(#pdfb775bf22)\" d=\"M 816.717469 514.0875 \nL 843.501469 514.0875 \nL 843.501469 383.6235 \nL 816.717469 383.6235 \nz\n\" style=\"fill:#b55d60;stroke:#ffffff;stroke-linejoin:miter;\"/>\n   </g>\n   <g id=\"patch_23\">\n    <path clip-path=\"url(#pdfb775bf22)\" d=\"M 173.901469 514.0875 \nL 200.685469 514.0875 \nL 200.685469 289.103663 \nL 173.901469 289.103663 \nz\n\" style=\"fill:#857aab;stroke:#ffffff;stroke-linejoin:miter;\"/>\n   </g>\n   <g id=\"patch_24\">\n    <path clip-path=\"url(#pdfb775bf22)\" d=\"M 341.301469 514.0875 \nL 368.085469 514.0875 \nL 368.085469 362.323255 \nL 341.301469 362.323255 \nz\n\" style=\"fill:#857aab;stroke:#ffffff;stroke-linejoin:miter;\"/>\n   </g>\n   <g id=\"patch_25\">\n    <path clip-path=\"url(#pdfb775bf22)\" d=\"M 508.701469 514.0875 \nL 535.485469 514.0875 \nL 535.485469 391.611092 \nL 508.701469 391.611092 \nz\n\" style=\"fill:#857aab;stroke:#ffffff;stroke-linejoin:miter;\"/>\n   </g>\n   <g id=\"patch_26\">\n    <path clip-path=\"url(#pdfb775bf22)\" d=\"M 676.101469 514.0875 \nL 702.885469 514.0875 \nL 702.885469 398.267418 \nL 676.101469 398.267418 \nz\n\" style=\"fill:#857aab;stroke:#ffffff;stroke-linejoin:miter;\"/>\n   </g>\n   <g id=\"patch_27\">\n    <path clip-path=\"url(#pdfb775bf22)\" d=\"M 843.501469 514.0875 \nL 870.285469 514.0875 \nL 870.285469 418.236398 \nL 843.501469 418.236398 \nz\n\" style=\"fill:#857aab;stroke:#ffffff;stroke-linejoin:miter;\"/>\n   </g>\n   <g id=\"patch_28\">\n    <path d=\"M 50.025469 514.0875 \nL 50.025469 24.8475 \n\" style=\"fill:none;stroke:#ffffff;stroke-linecap:square;stroke-linejoin:miter;stroke-width:1.25;\"/>\n   </g>\n   <g id=\"patch_29\">\n    <path d=\"M 887.025469 514.0875 \nL 887.025469 24.8475 \n\" style=\"fill:none;stroke:#ffffff;stroke-linecap:square;stroke-linejoin:miter;stroke-width:1.25;\"/>\n   </g>\n   <g id=\"patch_30\">\n    <path d=\"M 50.025469 514.0875 \nL 887.025469 514.0875 \n\" style=\"fill:none;stroke:#ffffff;stroke-linecap:square;stroke-linejoin:miter;stroke-width:1.25;\"/>\n   </g>\n   <g id=\"patch_31\">\n    <path d=\"M 50.025469 24.8475 \nL 887.025469 24.8475 \n\" style=\"fill:none;stroke:#ffffff;stroke-linecap:square;stroke-linejoin:miter;stroke-width:1.25;\"/>\n   </g>\n   <g id=\"text_16\">\n    <!-- Sentiment Categories of the First 5 Top Locations -->\n    <g style=\"fill:#262626;\" transform=\"translate(279.774219 18.8475)scale(0.16 -0.16)\">\n     <defs>\n      <path d=\"M 3.609375 23.296875 \nL 17.671875 24.65625 \nQ 18.953125 17.578125 22.828125 14.25 \nQ 26.703125 10.9375 33.296875 10.9375 \nQ 40.28125 10.9375 43.8125 13.890625 \nQ 47.359375 16.84375 47.359375 20.796875 \nQ 47.359375 23.34375 45.875 25.125 \nQ 44.390625 26.90625 40.671875 28.21875 \nQ 38.140625 29.109375 29.109375 31.34375 \nQ 17.484375 34.234375 12.796875 38.421875 \nQ 6.203125 44.34375 6.203125 52.828125 \nQ 6.203125 58.296875 9.296875 63.0625 \nQ 12.40625 67.828125 18.234375 70.3125 \nQ 24.078125 72.796875 32.328125 72.796875 \nQ 45.796875 72.796875 52.609375 66.890625 \nQ 59.421875 60.984375 59.765625 51.125 \nL 45.3125 50.484375 \nQ 44.390625 56 41.328125 58.421875 \nQ 38.28125 60.84375 32.171875 60.84375 \nQ 25.875 60.84375 22.3125 58.25 \nQ 20.015625 56.59375 20.015625 53.8125 \nQ 20.015625 51.265625 22.171875 49.46875 \nQ 24.90625 47.171875 35.453125 44.671875 \nQ 46 42.1875 51.046875 39.515625 \nQ 56.109375 36.859375 58.953125 32.25 \nQ 61.8125 27.640625 61.8125 20.84375 \nQ 61.8125 14.703125 58.390625 9.328125 \nQ 54.984375 3.953125 48.734375 1.34375 \nQ 42.484375 -1.265625 33.15625 -1.265625 \nQ 19.578125 -1.265625 12.296875 5 \nQ 5.03125 11.28125 3.609375 23.296875 \nz\n\" id=\"Arial-BoldMT-83\"/>\n      <path d=\"M 37.203125 16.5 \nL 50.875 14.203125 \nQ 48.25 6.6875 42.546875 2.75 \nQ 36.859375 -1.171875 28.328125 -1.171875 \nQ 14.796875 -1.171875 8.296875 7.671875 \nQ 3.171875 14.75 3.171875 25.53125 \nQ 3.171875 38.421875 9.90625 45.71875 \nQ 16.65625 53.03125 26.953125 53.03125 \nQ 38.53125 53.03125 45.21875 45.390625 \nQ 51.90625 37.75 51.609375 21.96875 \nL 17.234375 21.96875 \nQ 17.390625 15.875 20.5625 12.46875 \nQ 23.734375 9.078125 28.46875 9.078125 \nQ 31.6875 9.078125 33.875 10.828125 \nQ 36.078125 12.59375 37.203125 16.5 \nz\nM 37.984375 30.375 \nQ 37.84375 36.328125 34.90625 39.421875 \nQ 31.984375 42.53125 27.78125 42.53125 \nQ 23.296875 42.53125 20.359375 39.265625 \nQ 17.4375 35.984375 17.484375 30.375 \nz\n\" id=\"Arial-BoldMT-101\"/>\n      <path d=\"M 54.34375 0 \nL 40.625 0 \nL 40.625 26.46875 \nQ 40.625 34.859375 39.75 37.328125 \nQ 38.875 39.796875 36.890625 41.15625 \nQ 34.90625 42.53125 32.125 42.53125 \nQ 28.5625 42.53125 25.734375 40.578125 \nQ 22.90625 38.625 21.84375 35.390625 \nQ 20.796875 32.171875 20.796875 23.484375 \nL 20.796875 0 \nL 7.078125 0 \nL 7.078125 51.859375 \nL 19.828125 51.859375 \nL 19.828125 44.234375 \nQ 26.609375 53.03125 36.921875 53.03125 \nQ 41.453125 53.03125 45.203125 51.390625 \nQ 48.96875 49.75 50.890625 47.203125 \nQ 52.828125 44.671875 53.578125 41.453125 \nQ 54.34375 38.234375 54.34375 32.234375 \nz\n\" id=\"Arial-BoldMT-110\"/>\n      <path d=\"M 30.953125 51.859375 \nL 30.953125 40.921875 \nL 21.578125 40.921875 \nL 21.578125 20.015625 \nQ 21.578125 13.671875 21.84375 12.625 \nQ 22.125 11.578125 23.078125 10.890625 \nQ 24.03125 10.203125 25.390625 10.203125 \nQ 27.296875 10.203125 30.90625 11.53125 \nL 32.078125 0.875 \nQ 27.296875 -1.171875 21.234375 -1.171875 \nQ 17.53125 -1.171875 14.546875 0.0625 \nQ 11.578125 1.3125 10.1875 3.296875 \nQ 8.796875 5.28125 8.25 8.640625 \nQ 7.8125 11.03125 7.8125 18.3125 \nL 7.8125 40.921875 \nL 1.515625 40.921875 \nL 1.515625 51.859375 \nL 7.8125 51.859375 \nL 7.8125 62.15625 \nL 21.578125 70.171875 \nL 21.578125 51.859375 \nz\n\" id=\"Arial-BoldMT-116\"/>\n      <path d=\"M 7.171875 58.890625 \nL 7.171875 71.578125 \nL 20.90625 71.578125 \nL 20.90625 58.890625 \nz\nM 7.171875 0 \nL 7.171875 51.859375 \nL 20.90625 51.859375 \nL 20.90625 0 \nz\n\" id=\"Arial-BoldMT-105\"/>\n      <path d=\"M 6.15625 51.859375 \nL 18.796875 51.859375 \nL 18.796875 44.78125 \nQ 25.59375 53.03125 34.96875 53.03125 \nQ 39.9375 53.03125 43.59375 50.96875 \nQ 47.265625 48.921875 49.609375 44.78125 \nQ 53.03125 48.921875 56.984375 50.96875 \nQ 60.9375 53.03125 65.4375 53.03125 \nQ 71.140625 53.03125 75.09375 50.703125 \nQ 79.046875 48.390625 81 43.890625 \nQ 82.421875 40.578125 82.421875 33.15625 \nL 82.421875 0 \nL 68.703125 0 \nL 68.703125 29.640625 \nQ 68.703125 37.359375 67.28125 39.59375 \nQ 65.375 42.53125 61.421875 42.53125 \nQ 58.546875 42.53125 56 40.765625 \nQ 53.46875 39.015625 52.34375 35.625 \nQ 51.21875 32.234375 51.21875 24.90625 \nL 51.21875 0 \nL 37.5 0 \nL 37.5 28.421875 \nQ 37.5 35.984375 36.765625 38.171875 \nQ 36.03125 40.375 34.484375 41.453125 \nQ 32.953125 42.53125 30.328125 42.53125 \nQ 27.15625 42.53125 24.609375 40.8125 \nQ 22.078125 39.109375 20.96875 35.890625 \nQ 19.875 32.671875 19.875 25.203125 \nL 19.875 0 \nL 6.15625 0 \nz\n\" id=\"Arial-BoldMT-109\"/>\n      <path id=\"Arial-BoldMT-32\"/>\n      <path d=\"M 53.078125 26.3125 \nL 67.09375 21.875 \nQ 63.875 10.15625 56.375 4.46875 \nQ 48.875 -1.21875 37.359375 -1.21875 \nQ 23.09375 -1.21875 13.90625 8.515625 \nQ 4.734375 18.265625 4.734375 35.15625 \nQ 4.734375 53.03125 13.953125 62.90625 \nQ 23.1875 72.796875 38.234375 72.796875 \nQ 51.375 72.796875 59.578125 65.046875 \nQ 64.453125 60.453125 66.890625 51.859375 \nL 52.59375 48.4375 \nQ 51.3125 54 47.28125 57.21875 \nQ 43.265625 60.453125 37.5 60.453125 \nQ 29.546875 60.453125 24.578125 54.734375 \nQ 19.625 49.03125 19.625 36.234375 \nQ 19.625 22.65625 24.5 16.890625 \nQ 29.390625 11.140625 37.203125 11.140625 \nQ 42.96875 11.140625 47.109375 14.796875 \nQ 51.265625 18.453125 53.078125 26.3125 \nz\n\" id=\"Arial-BoldMT-67\"/>\n      <path d=\"M 17.4375 36.03125 \nL 4.984375 38.28125 \nQ 7.078125 45.796875 12.203125 49.40625 \nQ 17.328125 53.03125 27.4375 53.03125 \nQ 36.625 53.03125 41.109375 50.859375 \nQ 45.609375 48.6875 47.4375 45.34375 \nQ 49.265625 42 49.265625 33.0625 \nL 49.125 17.046875 \nQ 49.125 10.203125 49.78125 6.953125 \nQ 50.4375 3.71875 52.25 0 \nL 38.671875 0 \nQ 38.140625 1.375 37.359375 4.046875 \nQ 37.015625 5.28125 36.859375 5.671875 \nQ 33.34375 2.25 29.34375 0.53125 \nQ 25.34375 -1.171875 20.796875 -1.171875 \nQ 12.796875 -1.171875 8.171875 3.171875 \nQ 3.5625 7.515625 3.5625 14.15625 \nQ 3.5625 18.5625 5.65625 22 \nQ 7.765625 25.4375 11.546875 27.265625 \nQ 15.328125 29.109375 22.46875 30.46875 \nQ 32.078125 32.28125 35.796875 33.84375 \nL 35.796875 35.203125 \nQ 35.796875 39.15625 33.84375 40.84375 \nQ 31.890625 42.53125 26.46875 42.53125 \nQ 22.796875 42.53125 20.75 41.09375 \nQ 18.703125 39.65625 17.4375 36.03125 \nz\nM 35.796875 24.90625 \nQ 33.15625 24.03125 27.4375 22.796875 \nQ 21.734375 21.578125 19.96875 20.40625 \nQ 17.28125 18.5 17.28125 15.578125 \nQ 17.28125 12.703125 19.421875 10.59375 \nQ 21.578125 8.5 24.90625 8.5 \nQ 28.609375 8.5 31.984375 10.9375 \nQ 34.46875 12.796875 35.25 15.484375 \nQ 35.796875 17.234375 35.796875 22.171875 \nz\n\" id=\"Arial-BoldMT-97\"/>\n      <path d=\"M 5.90625 -3.421875 \nL 21.578125 -5.328125 \nQ 21.96875 -8.0625 23.390625 -9.078125 \nQ 25.34375 -10.546875 29.546875 -10.546875 \nQ 34.90625 -10.546875 37.59375 -8.9375 \nQ 39.40625 -7.859375 40.328125 -5.46875 \nQ 40.96875 -3.765625 40.96875 0.828125 \nL 40.96875 8.40625 \nQ 34.8125 0 25.4375 0 \nQ 14.984375 0 8.890625 8.84375 \nQ 4.109375 15.828125 4.109375 26.21875 \nQ 4.109375 39.265625 10.375 46.140625 \nQ 16.65625 53.03125 25.984375 53.03125 \nQ 35.59375 53.03125 41.84375 44.578125 \nL 41.84375 51.859375 \nL 54.6875 51.859375 \nL 54.6875 5.328125 \nQ 54.6875 -3.859375 53.171875 -8.390625 \nQ 51.65625 -12.9375 48.921875 -15.515625 \nQ 46.1875 -18.109375 41.625 -19.578125 \nQ 37.0625 -21.046875 30.078125 -21.046875 \nQ 16.890625 -21.046875 11.375 -16.53125 \nQ 5.859375 -12.015625 5.859375 -5.078125 \nQ 5.859375 -4.390625 5.90625 -3.421875 \nz\nM 18.171875 27 \nQ 18.171875 18.75 21.359375 14.90625 \nQ 24.5625 11.078125 29.25 11.078125 \nQ 34.28125 11.078125 37.75 15.015625 \nQ 41.21875 18.953125 41.21875 26.65625 \nQ 41.21875 34.71875 37.890625 38.625 \nQ 34.578125 42.53125 29.5 42.53125 \nQ 24.5625 42.53125 21.359375 38.6875 \nQ 18.171875 34.859375 18.171875 27 \nz\n\" id=\"Arial-BoldMT-103\"/>\n      <path d=\"M 4 26.65625 \nQ 4 33.5 7.375 39.890625 \nQ 10.75 46.296875 16.921875 49.65625 \nQ 23.09375 53.03125 30.71875 53.03125 \nQ 42.484375 53.03125 50 45.390625 \nQ 57.515625 37.75 57.515625 26.078125 \nQ 57.515625 14.3125 49.921875 6.5625 \nQ 42.328125 -1.171875 30.8125 -1.171875 \nQ 23.6875 -1.171875 17.21875 2.046875 \nQ 10.75 5.28125 7.375 11.5 \nQ 4 17.71875 4 26.65625 \nz\nM 18.0625 25.921875 \nQ 18.0625 18.21875 21.71875 14.109375 \nQ 25.390625 10.015625 30.765625 10.015625 \nQ 36.140625 10.015625 39.765625 14.109375 \nQ 43.40625 18.21875 43.40625 26.03125 \nQ 43.40625 33.640625 39.765625 37.734375 \nQ 36.140625 41.84375 30.765625 41.84375 \nQ 25.390625 41.84375 21.71875 37.734375 \nQ 18.0625 33.640625 18.0625 25.921875 \nz\n\" id=\"Arial-BoldMT-111\"/>\n      <path d=\"M 20.3125 0 \nL 6.59375 0 \nL 6.59375 51.859375 \nL 19.34375 51.859375 \nL 19.34375 44.484375 \nQ 22.609375 49.703125 25.21875 51.359375 \nQ 27.828125 53.03125 31.15625 53.03125 \nQ 35.84375 53.03125 40.1875 50.4375 \nL 35.9375 38.484375 \nQ 32.46875 40.71875 29.5 40.71875 \nQ 26.609375 40.71875 24.609375 39.125 \nQ 22.609375 37.546875 21.453125 33.390625 \nQ 20.3125 29.25 20.3125 16.015625 \nz\n\" id=\"Arial-BoldMT-114\"/>\n      <path d=\"M 2.34375 14.796875 \nL 16.109375 16.890625 \nQ 17 12.890625 19.671875 10.8125 \nQ 22.359375 8.734375 27.203125 8.734375 \nQ 32.515625 8.734375 35.203125 10.6875 \nQ 37.015625 12.0625 37.015625 14.359375 \nQ 37.015625 15.921875 36.03125 16.9375 \nQ 35.015625 17.921875 31.453125 18.75 \nQ 14.84375 22.40625 10.40625 25.4375 \nQ 4.25 29.640625 4.25 37.109375 \nQ 4.25 43.84375 9.5625 48.4375 \nQ 14.890625 53.03125 26.078125 53.03125 \nQ 36.71875 53.03125 41.890625 49.5625 \nQ 47.078125 46.09375 49.03125 39.3125 \nL 36.078125 36.921875 \nQ 35.25 39.9375 32.921875 41.546875 \nQ 30.609375 43.171875 26.3125 43.171875 \nQ 20.90625 43.171875 18.5625 41.65625 \nQ 17 40.578125 17 38.875 \nQ 17 37.40625 18.359375 36.375 \nQ 20.21875 35.015625 31.171875 32.515625 \nQ 42.140625 30.03125 46.484375 26.421875 \nQ 50.78125 22.75 50.78125 16.21875 \nQ 50.78125 9.078125 44.828125 3.953125 \nQ 38.875 -1.171875 27.203125 -1.171875 \nQ 16.609375 -1.171875 10.421875 3.125 \nQ 4.25 7.421875 2.34375 14.796875 \nz\n\" id=\"Arial-BoldMT-115\"/>\n      <path d=\"M 1.171875 51.859375 \nL 8.796875 51.859375 \nL 8.796875 55.765625 \nQ 8.796875 62.3125 10.1875 65.53125 \nQ 11.578125 68.75 15.3125 70.765625 \nQ 19.046875 72.796875 24.75 72.796875 \nQ 30.609375 72.796875 36.234375 71.046875 \nL 34.375 61.46875 \nQ 31.109375 62.25 28.078125 62.25 \nQ 25.09375 62.25 23.796875 60.859375 \nQ 22.515625 59.46875 22.515625 55.515625 \nL 22.515625 51.859375 \nL 32.765625 51.859375 \nL 32.765625 41.0625 \nL 22.515625 41.0625 \nL 22.515625 0 \nL 8.796875 0 \nL 8.796875 41.0625 \nL 1.171875 41.0625 \nz\n\" id=\"Arial-BoldMT-102\"/>\n      <path d=\"M 20.84375 71.578125 \nL 20.84375 45.265625 \nQ 27.484375 53.03125 36.71875 53.03125 \nQ 41.453125 53.03125 45.265625 51.265625 \nQ 49.078125 49.515625 51 46.78125 \nQ 52.9375 44.046875 53.640625 40.71875 \nQ 54.34375 37.40625 54.34375 30.421875 \nL 54.34375 0 \nL 40.625 0 \nL 40.625 27.390625 \nQ 40.625 35.546875 39.84375 37.734375 \nQ 39.0625 39.9375 37.078125 41.234375 \nQ 35.109375 42.53125 32.125 42.53125 \nQ 28.71875 42.53125 26.03125 40.859375 \nQ 23.34375 39.203125 22.09375 35.859375 \nQ 20.84375 32.515625 20.84375 25.984375 \nL 20.84375 0 \nL 7.125 0 \nL 7.125 71.578125 \nz\n\" id=\"Arial-BoldMT-104\"/>\n      <path d=\"M 7.375 0 \nL 7.375 71.578125 \nL 56.453125 71.578125 \nL 56.453125 59.46875 \nL 21.828125 59.46875 \nL 21.828125 42.53125 \nL 51.703125 42.53125 \nL 51.703125 30.421875 \nL 21.828125 30.421875 \nL 21.828125 0 \nz\n\" id=\"Arial-BoldMT-70\"/>\n      <path d=\"M 4.4375 18.40625 \nL 18.109375 19.828125 \nQ 18.703125 15.1875 21.578125 12.46875 \nQ 24.46875 9.765625 28.21875 9.765625 \nQ 32.515625 9.765625 35.5 13.25 \nQ 38.484375 16.75 38.484375 23.78125 \nQ 38.484375 30.375 35.515625 33.671875 \nQ 32.5625 36.96875 27.828125 36.96875 \nQ 21.921875 36.96875 17.234375 31.734375 \nL 6.109375 33.34375 \nL 13.140625 70.609375 \nL 49.421875 70.609375 \nL 49.421875 57.765625 \nL 23.53125 57.765625 \nL 21.390625 45.609375 \nQ 25.984375 47.90625 30.765625 47.90625 \nQ 39.890625 47.90625 46.234375 41.265625 \nQ 52.59375 34.625 52.59375 24.03125 \nQ 52.59375 15.1875 47.46875 8.25 \nQ 40.484375 -1.21875 28.078125 -1.21875 \nQ 18.171875 -1.21875 11.921875 4.09375 \nQ 5.671875 9.421875 4.4375 18.40625 \nz\n\" id=\"Arial-BoldMT-53\"/>\n      <path d=\"M 23.390625 0 \nL 23.390625 59.46875 \nL 2.15625 59.46875 \nL 2.15625 71.578125 \nL 59.03125 71.578125 \nL 59.03125 59.46875 \nL 37.84375 59.46875 \nL 37.84375 0 \nz\n\" id=\"Arial-BoldMT-84\"/>\n      <path d=\"M 6.78125 51.859375 \nL 19.578125 51.859375 \nL 19.578125 44.234375 \nQ 22.078125 48.140625 26.3125 50.578125 \nQ 30.5625 53.03125 35.75 53.03125 \nQ 44.78125 53.03125 51.078125 45.953125 \nQ 57.375 38.875 57.375 26.21875 \nQ 57.375 13.234375 51.015625 6.03125 \nQ 44.671875 -1.171875 35.640625 -1.171875 \nQ 31.34375 -1.171875 27.84375 0.53125 \nQ 24.359375 2.25 20.515625 6.390625 \nL 20.515625 -19.734375 \nL 6.78125 -19.734375 \nz\nM 20.359375 26.8125 \nQ 20.359375 18.0625 23.828125 13.890625 \nQ 27.296875 9.71875 32.28125 9.71875 \nQ 37.0625 9.71875 40.234375 13.546875 \nQ 43.40625 17.390625 43.40625 26.125 \nQ 43.40625 34.28125 40.125 38.234375 \nQ 36.859375 42.1875 32.03125 42.1875 \nQ 27 42.1875 23.671875 38.296875 \nQ 20.359375 34.421875 20.359375 26.8125 \nz\n\" id=\"Arial-BoldMT-112\"/>\n      <path d=\"M 7.671875 0 \nL 7.671875 71 \nL 22.125 71 \nL 22.125 12.0625 \nL 58.0625 12.0625 \nL 58.0625 0 \nz\n\" id=\"Arial-BoldMT-76\"/>\n      <path d=\"M 52.390625 36.53125 \nL 38.875 34.078125 \nQ 38.1875 38.140625 35.765625 40.1875 \nQ 33.34375 42.234375 29.5 42.234375 \nQ 24.359375 42.234375 21.3125 38.6875 \nQ 18.265625 35.15625 18.265625 26.859375 \nQ 18.265625 17.625 21.359375 13.8125 \nQ 24.46875 10.015625 29.6875 10.015625 \nQ 33.59375 10.015625 36.078125 12.234375 \nQ 38.578125 14.453125 39.59375 19.875 \nL 53.078125 17.578125 \nQ 50.984375 8.296875 45.015625 3.5625 \nQ 39.0625 -1.171875 29.046875 -1.171875 \nQ 17.671875 -1.171875 10.90625 6 \nQ 4.15625 13.1875 4.15625 25.875 \nQ 4.15625 38.71875 10.9375 45.875 \nQ 17.71875 53.03125 29.296875 53.03125 \nQ 38.765625 53.03125 44.359375 48.953125 \nQ 49.953125 44.875 52.390625 36.53125 \nz\n\" id=\"Arial-BoldMT-99\"/>\n     </defs>\n     <use xlink:href=\"#Arial-BoldMT-83\"/>\n     <use x=\"66.699219\" xlink:href=\"#Arial-BoldMT-101\"/>\n     <use x=\"122.314453\" xlink:href=\"#Arial-BoldMT-110\"/>\n     <use x=\"183.398438\" xlink:href=\"#Arial-BoldMT-116\"/>\n     <use x=\"216.699219\" xlink:href=\"#Arial-BoldMT-105\"/>\n     <use x=\"244.482422\" xlink:href=\"#Arial-BoldMT-109\"/>\n     <use x=\"333.398438\" xlink:href=\"#Arial-BoldMT-101\"/>\n     <use x=\"389.013672\" xlink:href=\"#Arial-BoldMT-110\"/>\n     <use x=\"450.097656\" xlink:href=\"#Arial-BoldMT-116\"/>\n     <use x=\"483.398438\" xlink:href=\"#Arial-BoldMT-32\"/>\n     <use x=\"511.181641\" xlink:href=\"#Arial-BoldMT-67\"/>\n     <use x=\"583.398438\" xlink:href=\"#Arial-BoldMT-97\"/>\n     <use x=\"639.013672\" xlink:href=\"#Arial-BoldMT-116\"/>\n     <use x=\"672.314453\" xlink:href=\"#Arial-BoldMT-101\"/>\n     <use x=\"727.929688\" xlink:href=\"#Arial-BoldMT-103\"/>\n     <use x=\"789.013672\" xlink:href=\"#Arial-BoldMT-111\"/>\n     <use x=\"850.097656\" xlink:href=\"#Arial-BoldMT-114\"/>\n     <use x=\"889.013672\" xlink:href=\"#Arial-BoldMT-105\"/>\n     <use x=\"916.796875\" xlink:href=\"#Arial-BoldMT-101\"/>\n     <use x=\"972.412109\" xlink:href=\"#Arial-BoldMT-115\"/>\n     <use x=\"1028.027344\" xlink:href=\"#Arial-BoldMT-32\"/>\n     <use x=\"1055.810547\" xlink:href=\"#Arial-BoldMT-111\"/>\n     <use x=\"1116.894531\" xlink:href=\"#Arial-BoldMT-102\"/>\n     <use x=\"1150.195312\" xlink:href=\"#Arial-BoldMT-32\"/>\n     <use x=\"1177.978516\" xlink:href=\"#Arial-BoldMT-116\"/>\n     <use x=\"1211.279297\" xlink:href=\"#Arial-BoldMT-104\"/>\n     <use x=\"1272.363281\" xlink:href=\"#Arial-BoldMT-101\"/>\n     <use x=\"1327.978516\" xlink:href=\"#Arial-BoldMT-32\"/>\n     <use x=\"1355.761719\" xlink:href=\"#Arial-BoldMT-70\"/>\n     <use x=\"1416.845703\" xlink:href=\"#Arial-BoldMT-105\"/>\n     <use x=\"1444.628906\" xlink:href=\"#Arial-BoldMT-114\"/>\n     <use x=\"1483.544922\" xlink:href=\"#Arial-BoldMT-115\"/>\n     <use x=\"1539.160156\" xlink:href=\"#Arial-BoldMT-116\"/>\n     <use x=\"1572.460938\" xlink:href=\"#Arial-BoldMT-32\"/>\n     <use x=\"1600.244141\" xlink:href=\"#Arial-BoldMT-53\"/>\n     <use x=\"1655.859375\" xlink:href=\"#Arial-BoldMT-32\"/>\n     <use x=\"1683.642578\" xlink:href=\"#Arial-BoldMT-84\"/>\n     <use x=\"1737.351562\" xlink:href=\"#Arial-BoldMT-111\"/>\n     <use x=\"1798.435547\" xlink:href=\"#Arial-BoldMT-112\"/>\n     <use x=\"1859.519531\" xlink:href=\"#Arial-BoldMT-32\"/>\n     <use x=\"1887.302734\" xlink:href=\"#Arial-BoldMT-76\"/>\n     <use x=\"1948.386719\" xlink:href=\"#Arial-BoldMT-111\"/>\n     <use x=\"2009.470703\" xlink:href=\"#Arial-BoldMT-99\"/>\n     <use x=\"2065.085938\" xlink:href=\"#Arial-BoldMT-97\"/>\n     <use x=\"2120.701172\" xlink:href=\"#Arial-BoldMT-116\"/>\n     <use x=\"2154.001953\" xlink:href=\"#Arial-BoldMT-105\"/>\n     <use x=\"2181.785156\" xlink:href=\"#Arial-BoldMT-111\"/>\n     <use x=\"2242.869141\" xlink:href=\"#Arial-BoldMT-110\"/>\n     <use x=\"2303.953125\" xlink:href=\"#Arial-BoldMT-115\"/>\n    </g>\n   </g>\n   <g id=\"legend_1\">\n    <g id=\"patch_32\">\n     <path d=\"M 748.760625 128.307813 \nL 879.325469 128.307813 \nQ 881.525469 128.307813 881.525469 126.107813 \nL 881.525469 32.5475 \nQ 881.525469 30.3475 879.325469 30.3475 \nL 748.760625 30.3475 \nQ 746.560625 30.3475 746.560625 32.5475 \nL 746.560625 126.107813 \nQ 746.560625 128.307813 748.760625 128.307813 \nz\n\" style=\"fill:#eaeaf2;opacity:0.8;stroke:#cccccc;stroke-linejoin:miter;\"/>\n    </g>\n    <g id=\"text_17\">\n     <!-- Sentiment -->\n     <g style=\"fill:#262626;\" transform=\"translate(787.029922 43.336875)scale(0.12 -0.12)\">\n      <defs>\n       <path d=\"M 6.59375 0 \nL 6.59375 51.859375 \nL 14.453125 51.859375 \nL 14.453125 44.578125 \nQ 16.890625 48.390625 20.9375 50.703125 \nQ 25 53.03125 30.171875 53.03125 \nQ 35.9375 53.03125 39.625 50.640625 \nQ 43.3125 48.25 44.828125 43.953125 \nQ 50.984375 53.03125 60.84375 53.03125 \nQ 68.5625 53.03125 72.703125 48.75 \nQ 76.859375 44.484375 76.859375 35.59375 \nL 76.859375 0 \nL 68.109375 0 \nL 68.109375 32.671875 \nQ 68.109375 37.9375 67.25 40.25 \nQ 66.40625 42.578125 64.15625 43.984375 \nQ 61.921875 45.40625 58.890625 45.40625 \nQ 53.421875 45.40625 49.796875 41.765625 \nQ 46.1875 38.140625 46.1875 30.125 \nL 46.1875 0 \nL 37.40625 0 \nL 37.40625 33.6875 \nQ 37.40625 39.546875 35.25 42.46875 \nQ 33.109375 45.40625 28.21875 45.40625 \nQ 24.515625 45.40625 21.359375 43.453125 \nQ 18.21875 41.5 16.796875 37.734375 \nQ 15.375 33.984375 15.375 26.90625 \nL 15.375 0 \nz\n\" id=\"ArialMT-109\"/>\n      </defs>\n      <use xlink:href=\"#ArialMT-83\"/>\n      <use x=\"66.699219\" xlink:href=\"#ArialMT-101\"/>\n      <use x=\"122.314453\" xlink:href=\"#ArialMT-110\"/>\n      <use x=\"177.929688\" xlink:href=\"#ArialMT-116\"/>\n      <use x=\"205.712891\" xlink:href=\"#ArialMT-105\"/>\n      <use x=\"227.929688\" xlink:href=\"#ArialMT-109\"/>\n      <use x=\"311.230469\" xlink:href=\"#ArialMT-101\"/>\n      <use x=\"366.845703\" xlink:href=\"#ArialMT-110\"/>\n      <use x=\"422.460938\" xlink:href=\"#ArialMT-116\"/>\n     </g>\n    </g>\n    <g id=\"patch_33\">\n     <path d=\"M 750.960625 59.095469 \nL 772.960625 59.095469 \nL 772.960625 51.395469 \nL 750.960625 51.395469 \nz\n\" style=\"fill:#5875a4;stroke:#ffffff;stroke-linejoin:miter;\"/>\n    </g>\n    <g id=\"text_18\">\n     <!-- Neutral -->\n     <g style=\"fill:#262626;\" transform=\"translate(781.760625 59.095469)scale(0.11 -0.11)\">\n      <use xlink:href=\"#ArialMT-78\"/>\n      <use x=\"72.216797\" xlink:href=\"#ArialMT-101\"/>\n      <use x=\"127.832031\" xlink:href=\"#ArialMT-117\"/>\n      <use x=\"183.447266\" xlink:href=\"#ArialMT-116\"/>\n      <use x=\"211.230469\" xlink:href=\"#ArialMT-114\"/>\n      <use x=\"244.53125\" xlink:href=\"#ArialMT-97\"/>\n      <use x=\"300.146484\" xlink:href=\"#ArialMT-108\"/>\n     </g>\n    </g>\n    <g id=\"patch_34\">\n     <path d=\"M 750.960625 74.655313 \nL 772.960625 74.655313 \nL 772.960625 66.955313 \nL 750.960625 66.955313 \nz\n\" style=\"fill:#cc8963;stroke:#ffffff;stroke-linejoin:miter;\"/>\n    </g>\n    <g id=\"text_19\">\n     <!-- Positive -->\n     <g style=\"fill:#262626;\" transform=\"translate(781.760625 74.655313)scale(0.11 -0.11)\">\n      <defs>\n       <path d=\"M 7.71875 0 \nL 7.71875 71.578125 \nL 34.71875 71.578125 \nQ 41.84375 71.578125 45.609375 70.90625 \nQ 50.875 70.015625 54.4375 67.546875 \nQ 58.015625 65.09375 60.1875 60.640625 \nQ 62.359375 56.203125 62.359375 50.875 \nQ 62.359375 41.75 56.546875 35.421875 \nQ 50.734375 29.109375 35.546875 29.109375 \nL 17.1875 29.109375 \nL 17.1875 0 \nz\nM 17.1875 37.546875 \nL 35.6875 37.546875 \nQ 44.875 37.546875 48.734375 40.96875 \nQ 52.59375 44.390625 52.59375 50.59375 \nQ 52.59375 55.078125 50.3125 58.265625 \nQ 48.046875 61.46875 44.34375 62.5 \nQ 41.9375 63.140625 35.5 63.140625 \nL 17.1875 63.140625 \nz\n\" id=\"ArialMT-80\"/>\n       <path d=\"M 21 0 \nL 1.265625 51.859375 \nL 10.546875 51.859375 \nL 21.6875 20.796875 \nQ 23.484375 15.765625 25 10.359375 \nQ 26.171875 14.453125 28.265625 20.21875 \nL 39.796875 51.859375 \nL 48.828125 51.859375 \nL 29.203125 0 \nz\n\" id=\"ArialMT-118\"/>\n      </defs>\n      <use xlink:href=\"#ArialMT-80\"/>\n      <use x=\"66.699219\" xlink:href=\"#ArialMT-111\"/>\n      <use x=\"122.314453\" xlink:href=\"#ArialMT-115\"/>\n      <use x=\"172.314453\" xlink:href=\"#ArialMT-105\"/>\n      <use x=\"194.53125\" xlink:href=\"#ArialMT-116\"/>\n      <use x=\"222.314453\" xlink:href=\"#ArialMT-105\"/>\n      <use x=\"244.53125\" xlink:href=\"#ArialMT-118\"/>\n      <use x=\"294.53125\" xlink:href=\"#ArialMT-101\"/>\n     </g>\n    </g>\n    <g id=\"patch_35\">\n     <path d=\"M 750.960625 90.215156 \nL 772.960625 90.215156 \nL 772.960625 82.515156 \nL 750.960625 82.515156 \nz\n\" style=\"fill:#5f9e6e;stroke:#ffffff;stroke-linejoin:miter;\"/>\n    </g>\n    <g id=\"text_20\">\n     <!-- Extremely Negative -->\n     <g style=\"fill:#262626;\" transform=\"translate(781.760625 90.215156)scale(0.11 -0.11)\">\n      <defs>\n       <path d=\"M 7.90625 0 \nL 7.90625 71.578125 \nL 59.671875 71.578125 \nL 59.671875 63.140625 \nL 17.390625 63.140625 \nL 17.390625 41.21875 \nL 56.984375 41.21875 \nL 56.984375 32.8125 \nL 17.390625 32.8125 \nL 17.390625 8.453125 \nL 61.328125 8.453125 \nL 61.328125 0 \nz\n\" id=\"ArialMT-69\"/>\n       <path d=\"M 0.734375 0 \nL 19.671875 26.953125 \nL 2.15625 51.859375 \nL 13.140625 51.859375 \nL 21.09375 39.703125 \nQ 23.34375 36.234375 24.703125 33.890625 \nQ 26.859375 37.109375 28.65625 39.59375 \nL 37.40625 51.859375 \nL 47.90625 51.859375 \nL 29.984375 27.4375 \nL 49.265625 0 \nL 38.484375 0 \nL 27.828125 16.109375 \nL 25 20.453125 \nL 11.375 0 \nz\n\" id=\"ArialMT-120\"/>\n       <path d=\"M 6.203125 -19.96875 \nL 5.21875 -11.71875 \nQ 8.109375 -12.5 10.25 -12.5 \nQ 13.1875 -12.5 14.9375 -11.515625 \nQ 16.703125 -10.546875 17.828125 -8.796875 \nQ 18.65625 -7.46875 20.515625 -2.25 \nQ 20.75 -1.515625 21.296875 -0.09375 \nL 1.609375 51.859375 \nL 11.078125 51.859375 \nL 21.875 21.828125 \nQ 23.96875 16.109375 25.640625 9.8125 \nQ 27.15625 15.875 29.25 21.625 \nL 40.328125 51.859375 \nL 49.125 51.859375 \nL 29.390625 -0.875 \nQ 26.21875 -9.421875 24.46875 -12.640625 \nQ 22.125 -17 19.09375 -19.015625 \nQ 16.0625 -21.046875 11.859375 -21.046875 \nQ 9.328125 -21.046875 6.203125 -19.96875 \nz\n\" id=\"ArialMT-121\"/>\n      </defs>\n      <use xlink:href=\"#ArialMT-69\"/>\n      <use x=\"66.699219\" xlink:href=\"#ArialMT-120\"/>\n      <use x=\"116.699219\" xlink:href=\"#ArialMT-116\"/>\n      <use x=\"144.482422\" xlink:href=\"#ArialMT-114\"/>\n      <use x=\"177.783203\" xlink:href=\"#ArialMT-101\"/>\n      <use x=\"233.398438\" xlink:href=\"#ArialMT-109\"/>\n      <use x=\"316.699219\" xlink:href=\"#ArialMT-101\"/>\n      <use x=\"372.314453\" xlink:href=\"#ArialMT-108\"/>\n      <use x=\"394.53125\" xlink:href=\"#ArialMT-121\"/>\n      <use x=\"444.53125\" xlink:href=\"#ArialMT-32\"/>\n      <use x=\"472.314453\" xlink:href=\"#ArialMT-78\"/>\n      <use x=\"544.53125\" xlink:href=\"#ArialMT-101\"/>\n      <use x=\"600.146484\" xlink:href=\"#ArialMT-103\"/>\n      <use x=\"655.761719\" xlink:href=\"#ArialMT-97\"/>\n      <use x=\"711.376953\" xlink:href=\"#ArialMT-116\"/>\n      <use x=\"739.160156\" xlink:href=\"#ArialMT-105\"/>\n      <use x=\"761.376953\" xlink:href=\"#ArialMT-118\"/>\n      <use x=\"811.376953\" xlink:href=\"#ArialMT-101\"/>\n     </g>\n    </g>\n    <g id=\"patch_36\">\n     <path d=\"M 750.960625 105.903906 \nL 772.960625 105.903906 \nL 772.960625 98.203906 \nL 750.960625 98.203906 \nz\n\" style=\"fill:#b55d60;stroke:#ffffff;stroke-linejoin:miter;\"/>\n    </g>\n    <g id=\"text_21\">\n     <!-- Negative -->\n     <g style=\"fill:#262626;\" transform=\"translate(781.760625 105.903906)scale(0.11 -0.11)\">\n      <use xlink:href=\"#ArialMT-78\"/>\n      <use x=\"72.216797\" xlink:href=\"#ArialMT-101\"/>\n      <use x=\"127.832031\" xlink:href=\"#ArialMT-103\"/>\n      <use x=\"183.447266\" xlink:href=\"#ArialMT-97\"/>\n      <use x=\"239.0625\" xlink:href=\"#ArialMT-116\"/>\n      <use x=\"266.845703\" xlink:href=\"#ArialMT-105\"/>\n      <use x=\"289.0625\" xlink:href=\"#ArialMT-118\"/>\n      <use x=\"339.0625\" xlink:href=\"#ArialMT-101\"/>\n     </g>\n    </g>\n    <g id=\"patch_37\">\n     <path d=\"M 750.960625 121.592656 \nL 772.960625 121.592656 \nL 772.960625 113.892656 \nL 750.960625 113.892656 \nz\n\" style=\"fill:#857aab;stroke:#ffffff;stroke-linejoin:miter;\"/>\n    </g>\n    <g id=\"text_22\">\n     <!-- Extremely Positive -->\n     <g style=\"fill:#262626;\" transform=\"translate(781.760625 121.592656)scale(0.11 -0.11)\">\n      <use xlink:href=\"#ArialMT-69\"/>\n      <use x=\"66.699219\" xlink:href=\"#ArialMT-120\"/>\n      <use x=\"116.699219\" xlink:href=\"#ArialMT-116\"/>\n      <use x=\"144.482422\" xlink:href=\"#ArialMT-114\"/>\n      <use x=\"177.783203\" xlink:href=\"#ArialMT-101\"/>\n      <use x=\"233.398438\" xlink:href=\"#ArialMT-109\"/>\n      <use x=\"316.699219\" xlink:href=\"#ArialMT-101\"/>\n      <use x=\"372.314453\" xlink:href=\"#ArialMT-108\"/>\n      <use x=\"394.53125\" xlink:href=\"#ArialMT-121\"/>\n      <use x=\"444.53125\" xlink:href=\"#ArialMT-32\"/>\n      <use x=\"472.314453\" xlink:href=\"#ArialMT-80\"/>\n      <use x=\"539.013672\" xlink:href=\"#ArialMT-111\"/>\n      <use x=\"594.628906\" xlink:href=\"#ArialMT-115\"/>\n      <use x=\"644.628906\" xlink:href=\"#ArialMT-105\"/>\n      <use x=\"666.845703\" xlink:href=\"#ArialMT-116\"/>\n      <use x=\"694.628906\" xlink:href=\"#ArialMT-105\"/>\n      <use x=\"716.845703\" xlink:href=\"#ArialMT-118\"/>\n      <use x=\"766.845703\" xlink:href=\"#ArialMT-101\"/>\n     </g>\n    </g>\n   </g>\n  </g>\n </g>\n <defs>\n  <clipPath id=\"pdfb775bf22\">\n   <rect height=\"489.24\" width=\"837\" x=\"50.025469\" y=\"24.8475\"/>\n  </clipPath>\n </defs>\n</svg>\n",
      "image/png": "[encoded data removed]"
     },
     "metadata": {}
    }
   ],
   "source": [
    "sns.set(rc={'figure.figsize':(15,9)})\n",
    "gg = train.Location.value_counts()[:5].index\n",
    "plt.title('Sentiment Categories of the First 5 Top Locations', fontsize=16, fontweight='bold')\n",
    "sns.countplot(x = 'Location', hue = 'Sentiment', data = plotDf, order = gg)"
   ]
  },
  {
   "cell_type": "code",
   "execution_count": 30,
   "metadata": {},
   "outputs": [
    {
     "output_type": "execute_result",
     "data": {
      "text/plain": [
       "                                       OriginalTweet  Sentiment  id\n",
       "0                                                             0   0\n",
       "1  advice Talk neighbours family exchange phone n...          1   0\n",
       "2  Coronavirus Australia: Woolworths give elderly...          1   0\n",
       "3  My food stock one empty... PLEASE, panic, THER...          1   0\n",
       "4  Me, ready go supermarket outbreak. Not I'm par...          2   0"
      ],
      "text/html": "<div>\n<style scoped>\n    .dataframe tbody tr th:only-of-type {\n        vertical-align: middle;\n    }\n\n    .dataframe tbody tr th {\n        vertical-align: top;\n    }\n\n    .dataframe thead th {\n        text-align: right;\n    }\n</style>\n<table border=\"1\" class=\"dataframe\">\n  <thead>\n    <tr style=\"text-align: right;\">\n      <th></th>\n      <th>OriginalTweet</th>\n      <th>Sentiment</th>\n      <th>id</th>\n    </tr>\n  </thead>\n  <tbody>\n    <tr>\n      <th>0</th>\n      <td></td>\n      <td>0</td>\n      <td>0</td>\n    </tr>\n    <tr>\n      <th>1</th>\n      <td>advice Talk neighbours family exchange phone n...</td>\n      <td>1</td>\n      <td>0</td>\n    </tr>\n    <tr>\n      <th>2</th>\n      <td>Coronavirus Australia: Woolworths give elderly...</td>\n      <td>1</td>\n      <td>0</td>\n    </tr>\n    <tr>\n      <th>3</th>\n      <td>My food stock one empty... PLEASE, panic, THER...</td>\n      <td>1</td>\n      <td>0</td>\n    </tr>\n    <tr>\n      <th>4</th>\n      <td>Me, ready go supermarket outbreak. Not I'm par...</td>\n      <td>2</td>\n      <td>0</td>\n    </tr>\n  </tbody>\n</table>\n</div>"
     },
     "metadata": {},
     "execution_count": 30
    }
   ],
   "source": [
    "covid.head()"
   ]
  },
  {
   "cell_type": "code",
   "execution_count": 31,
   "metadata": {},
   "outputs": [
    {
     "output_type": "execute_result",
     "data": {
      "text/plain": [
       "<AxesSubplot:xlabel='Sentiment', ylabel='count'>"
      ]
     },
     "metadata": {},
     "execution_count": 31
    },
    {
     "output_type": "display_data",
     "data": {
      "text/plain": "<Figure size 792x576 with 1 Axes>",
      "image/svg+xml": "<?xml version=\"1.0\" encoding=\"utf-8\" standalone=\"no\"?>\n<!DOCTYPE svg PUBLIC \"-//W3C//DTD SVG 1.1//EN\"\n  \"http://www.w3.org/Graphics/SVG/1.1/DTD/svg11.dtd\">\n<!-- Created with matplotlib (https://matplotlib.org/) -->\n<svg height=\"483.814219pt\" version=\"1.1\" viewBox=\"0 0 683.259531 483.814219\" width=\"683.259531pt\" xmlns=\"http://www.w3.org/2000/svg\" xmlns:xlink=\"http://www.w3.org/1999/xlink\">\n <metadata>\n  <rdf:RDF xmlns:cc=\"http://creativecommons.org/ns#\" xmlns:dc=\"http://purl.org/dc/elements/1.1/\" xmlns:rdf=\"http://www.w3.org/1999/02/22-rdf-syntax-ns#\">\n   <cc:Work>\n    <dc:type rdf:resource=\"http://purl.org/dc/dcmitype/StillImage\"/>\n    <dc:date>2021-04-21T16:02:58.125138</dc:date>\n    <dc:format>image/svg+xml</dc:format>\n    <dc:creator>\n     <cc:Agent>\n      <dc:title>Matplotlib v3.3.4, https://matplotlib.org/</dc:title>\n     </cc:Agent>\n    </dc:creator>\n   </cc:Work>\n  </rdf:RDF>\n </metadata>\n <defs>\n  <style type=\"text/css\">*{stroke-linecap:butt;stroke-linejoin:round;}</style>\n </defs>\n <g id=\"figure_1\">\n  <g id=\"patch_1\">\n   <path d=\"M 0 483.814219 \nL 683.259531 483.814219 \nL 683.259531 0 \nL 0 0 \nz\n\" style=\"fill:#ffffff;\"/>\n  </g>\n  <g id=\"axes_1\">\n   <g id=\"patch_2\">\n    <path d=\"M 62.259531 442.08 \nL 676.059531 442.08 \nL 676.059531 7.2 \nL 62.259531 7.2 \nz\n\" style=\"fill:#eaeaf2;\"/>\n   </g>\n   <g id=\"matplotlib.axis_1\">\n    <g id=\"xtick_1\">\n     <g id=\"text_1\">\n      <!-- 0 -->\n      <g style=\"fill:#262626;\" transform=\"translate(161.501016 459.453594)scale(0.11 -0.11)\">\n       <defs>\n        <path d=\"M 4.15625 35.296875 \nQ 4.15625 48 6.765625 55.734375 \nQ 9.375 63.484375 14.515625 67.671875 \nQ 19.671875 71.875 27.484375 71.875 \nQ 33.25 71.875 37.59375 69.546875 \nQ 41.9375 67.234375 44.765625 62.859375 \nQ 47.609375 58.5 49.21875 52.21875 \nQ 50.828125 45.953125 50.828125 35.296875 \nQ 50.828125 22.703125 48.234375 14.96875 \nQ 45.65625 7.234375 40.5 3 \nQ 35.359375 -1.21875 27.484375 -1.21875 \nQ 17.140625 -1.21875 11.234375 6.203125 \nQ 4.15625 15.140625 4.15625 35.296875 \nz\nM 13.1875 35.296875 \nQ 13.1875 17.671875 17.3125 11.828125 \nQ 21.4375 6 27.484375 6 \nQ 33.546875 6 37.671875 11.859375 \nQ 41.796875 17.71875 41.796875 35.296875 \nQ 41.796875 52.984375 37.671875 58.78125 \nQ 33.546875 64.59375 27.390625 64.59375 \nQ 21.34375 64.59375 17.71875 59.46875 \nQ 13.1875 52.9375 13.1875 35.296875 \nz\n\" id=\"ArialMT-48\"/>\n       </defs>\n       <use xlink:href=\"#ArialMT-48\"/>\n      </g>\n     </g>\n    </g>\n    <g id=\"xtick_2\">\n     <g id=\"text_2\">\n      <!-- 1 -->\n      <g style=\"fill:#262626;\" transform=\"translate(366.101016 459.453594)scale(0.11 -0.11)\">\n       <defs>\n        <path d=\"M 37.25 0 \nL 28.46875 0 \nL 28.46875 56 \nQ 25.296875 52.984375 20.140625 49.953125 \nQ 14.984375 46.921875 10.890625 45.40625 \nL 10.890625 53.90625 \nQ 18.265625 57.375 23.78125 62.296875 \nQ 29.296875 67.234375 31.59375 71.875 \nL 37.25 71.875 \nz\n\" id=\"ArialMT-49\"/>\n       </defs>\n       <use xlink:href=\"#ArialMT-49\"/>\n      </g>\n     </g>\n    </g>\n    <g id=\"xtick_3\">\n     <g id=\"text_3\">\n      <!-- 2 -->\n      <g style=\"fill:#262626;\" transform=\"translate(570.701016 459.453594)scale(0.11 -0.11)\">\n       <defs>\n        <path d=\"M 50.34375 8.453125 \nL 50.34375 0 \nL 3.03125 0 \nQ 2.9375 3.171875 4.046875 6.109375 \nQ 5.859375 10.9375 9.828125 15.625 \nQ 13.8125 20.3125 21.34375 26.46875 \nQ 33.015625 36.03125 37.109375 41.625 \nQ 41.21875 47.21875 41.21875 52.203125 \nQ 41.21875 57.421875 37.46875 61 \nQ 33.734375 64.59375 27.734375 64.59375 \nQ 21.390625 64.59375 17.578125 60.78125 \nQ 13.765625 56.984375 13.71875 50.25 \nL 4.6875 51.171875 \nQ 5.609375 61.28125 11.65625 66.578125 \nQ 17.71875 71.875 27.9375 71.875 \nQ 38.234375 71.875 44.234375 66.15625 \nQ 50.25 60.453125 50.25 52 \nQ 50.25 47.703125 48.484375 43.546875 \nQ 46.734375 39.40625 42.65625 34.8125 \nQ 38.578125 30.21875 29.109375 22.21875 \nQ 21.1875 15.578125 18.9375 13.203125 \nQ 16.703125 10.84375 15.234375 8.453125 \nz\n\" id=\"ArialMT-50\"/>\n       </defs>\n       <use xlink:href=\"#ArialMT-50\"/>\n      </g>\n     </g>\n    </g>\n    <g id=\"text_4\">\n     <!-- Sentiment -->\n     <g style=\"fill:#262626;\" transform=\"translate(342.146406 474.229219)scale(0.12 -0.12)\">\n      <defs>\n       <path d=\"M 4.5 23 \nL 13.421875 23.78125 \nQ 14.0625 18.40625 16.375 14.96875 \nQ 18.703125 11.53125 23.578125 9.40625 \nQ 28.46875 7.28125 34.578125 7.28125 \nQ 39.984375 7.28125 44.140625 8.890625 \nQ 48.296875 10.5 50.3125 13.296875 \nQ 52.34375 16.109375 52.34375 19.4375 \nQ 52.34375 22.796875 50.390625 25.3125 \nQ 48.4375 27.828125 43.953125 29.546875 \nQ 41.0625 30.671875 31.203125 33.03125 \nQ 21.34375 35.40625 17.390625 37.5 \nQ 12.25 40.1875 9.734375 44.15625 \nQ 7.234375 48.140625 7.234375 53.078125 \nQ 7.234375 58.5 10.296875 63.203125 \nQ 13.375 67.921875 19.28125 70.359375 \nQ 25.203125 72.796875 32.421875 72.796875 \nQ 40.375 72.796875 46.453125 70.234375 \nQ 52.546875 67.671875 55.8125 62.6875 \nQ 59.078125 57.71875 59.328125 51.421875 \nL 50.25 50.734375 \nQ 49.515625 57.515625 45.28125 60.984375 \nQ 41.0625 64.453125 32.8125 64.453125 \nQ 24.21875 64.453125 20.28125 61.296875 \nQ 16.359375 58.15625 16.359375 53.71875 \nQ 16.359375 49.859375 19.140625 47.359375 \nQ 21.875 44.875 33.421875 42.265625 \nQ 44.96875 39.65625 49.265625 37.703125 \nQ 55.515625 34.8125 58.484375 30.390625 \nQ 61.46875 25.984375 61.46875 20.21875 \nQ 61.46875 14.5 58.203125 9.4375 \nQ 54.9375 4.390625 48.796875 1.578125 \nQ 42.671875 -1.21875 35.015625 -1.21875 \nQ 25.296875 -1.21875 18.71875 1.609375 \nQ 12.15625 4.4375 8.421875 10.125 \nQ 4.6875 15.828125 4.5 23 \nz\n\" id=\"ArialMT-83\"/>\n       <path d=\"M 42.09375 16.703125 \nL 51.171875 15.578125 \nQ 49.03125 7.625 43.21875 3.21875 \nQ 37.40625 -1.171875 28.375 -1.171875 \nQ 17 -1.171875 10.328125 5.828125 \nQ 3.65625 12.84375 3.65625 25.484375 \nQ 3.65625 38.578125 10.390625 45.796875 \nQ 17.140625 53.03125 27.875 53.03125 \nQ 38.28125 53.03125 44.875 45.953125 \nQ 51.46875 38.875 51.46875 26.03125 \nQ 51.46875 25.25 51.421875 23.6875 \nL 12.75 23.6875 \nQ 13.234375 15.140625 17.578125 10.59375 \nQ 21.921875 6.0625 28.421875 6.0625 \nQ 33.25 6.0625 36.671875 8.59375 \nQ 40.09375 11.140625 42.09375 16.703125 \nz\nM 13.234375 30.90625 \nL 42.1875 30.90625 \nQ 41.609375 37.453125 38.875 40.71875 \nQ 34.671875 45.796875 27.984375 45.796875 \nQ 21.921875 45.796875 17.796875 41.75 \nQ 13.671875 37.703125 13.234375 30.90625 \nz\n\" id=\"ArialMT-101\"/>\n       <path d=\"M 6.59375 0 \nL 6.59375 51.859375 \nL 14.5 51.859375 \nL 14.5 44.484375 \nQ 20.21875 53.03125 31 53.03125 \nQ 35.6875 53.03125 39.625 51.34375 \nQ 43.5625 49.65625 45.515625 46.921875 \nQ 47.46875 44.1875 48.25 40.4375 \nQ 48.734375 37.984375 48.734375 31.890625 \nL 48.734375 0 \nL 39.9375 0 \nL 39.9375 31.546875 \nQ 39.9375 36.921875 38.90625 39.578125 \nQ 37.890625 42.234375 35.28125 43.8125 \nQ 32.671875 45.40625 29.15625 45.40625 \nQ 23.53125 45.40625 19.453125 41.84375 \nQ 15.375 38.28125 15.375 28.328125 \nL 15.375 0 \nz\n\" id=\"ArialMT-110\"/>\n       <path d=\"M 25.78125 7.859375 \nL 27.046875 0.09375 \nQ 23.34375 -0.6875 20.40625 -0.6875 \nQ 15.625 -0.6875 12.984375 0.828125 \nQ 10.359375 2.34375 9.28125 4.8125 \nQ 8.203125 7.28125 8.203125 15.1875 \nL 8.203125 45.015625 \nL 1.765625 45.015625 \nL 1.765625 51.859375 \nL 8.203125 51.859375 \nL 8.203125 64.703125 \nL 16.9375 69.96875 \nL 16.9375 51.859375 \nL 25.78125 51.859375 \nL 25.78125 45.015625 \nL 16.9375 45.015625 \nL 16.9375 14.703125 \nQ 16.9375 10.9375 17.40625 9.859375 \nQ 17.875 8.796875 18.921875 8.15625 \nQ 19.96875 7.515625 21.921875 7.515625 \nQ 23.390625 7.515625 25.78125 7.859375 \nz\n\" id=\"ArialMT-116\"/>\n       <path d=\"M 6.640625 61.46875 \nL 6.640625 71.578125 \nL 15.4375 71.578125 \nL 15.4375 61.46875 \nz\nM 6.640625 0 \nL 6.640625 51.859375 \nL 15.4375 51.859375 \nL 15.4375 0 \nz\n\" id=\"ArialMT-105\"/>\n       <path d=\"M 6.59375 0 \nL 6.59375 51.859375 \nL 14.453125 51.859375 \nL 14.453125 44.578125 \nQ 16.890625 48.390625 20.9375 50.703125 \nQ 25 53.03125 30.171875 53.03125 \nQ 35.9375 53.03125 39.625 50.640625 \nQ 43.3125 48.25 44.828125 43.953125 \nQ 50.984375 53.03125 60.84375 53.03125 \nQ 68.5625 53.03125 72.703125 48.75 \nQ 76.859375 44.484375 76.859375 35.59375 \nL 76.859375 0 \nL 68.109375 0 \nL 68.109375 32.671875 \nQ 68.109375 37.9375 67.25 40.25 \nQ 66.40625 42.578125 64.15625 43.984375 \nQ 61.921875 45.40625 58.890625 45.40625 \nQ 53.421875 45.40625 49.796875 41.765625 \nQ 46.1875 38.140625 46.1875 30.125 \nL 46.1875 0 \nL 37.40625 0 \nL 37.40625 33.6875 \nQ 37.40625 39.546875 35.25 42.46875 \nQ 33.109375 45.40625 28.21875 45.40625 \nQ 24.515625 45.40625 21.359375 43.453125 \nQ 18.21875 41.5 16.796875 37.734375 \nQ 15.375 33.984375 15.375 26.90625 \nL 15.375 0 \nz\n\" id=\"ArialMT-109\"/>\n      </defs>\n      <use xlink:href=\"#ArialMT-83\"/>\n      <use x=\"66.699219\" xlink:href=\"#ArialMT-101\"/>\n      <use x=\"122.314453\" xlink:href=\"#ArialMT-110\"/>\n      <use x=\"177.929688\" xlink:href=\"#ArialMT-116\"/>\n      <use x=\"205.712891\" xlink:href=\"#ArialMT-105\"/>\n      <use x=\"227.929688\" xlink:href=\"#ArialMT-109\"/>\n      <use x=\"311.230469\" xlink:href=\"#ArialMT-101\"/>\n      <use x=\"366.845703\" xlink:href=\"#ArialMT-110\"/>\n      <use x=\"422.460938\" xlink:href=\"#ArialMT-116\"/>\n     </g>\n    </g>\n   </g>\n   <g id=\"matplotlib.axis_2\">\n    <g id=\"ytick_1\">\n     <g id=\"line2d_1\">\n      <path clip-path=\"url(#pd4b75cb422)\" d=\"M 62.259531 442.08 \nL 676.059531 442.08 \n\" style=\"fill:none;stroke:#ffffff;stroke-linecap:round;\"/>\n     </g>\n     <g id=\"text_5\">\n      <!-- 0 -->\n      <g style=\"fill:#262626;\" transform=\"translate(46.6425 446.016797)scale(0.11 -0.11)\">\n       <use xlink:href=\"#ArialMT-48\"/>\n      </g>\n     </g>\n    </g>\n    <g id=\"ytick_2\">\n     <g id=\"line2d_2\">\n      <path clip-path=\"url(#pd4b75cb422)\" d=\"M 62.259531 389.23044 \nL 676.059531 389.23044 \n\" style=\"fill:none;stroke:#ffffff;stroke-linecap:round;\"/>\n     </g>\n     <g id=\"text_6\">\n      <!-- 2500 -->\n      <g style=\"fill:#262626;\" transform=\"translate(28.291406 393.167237)scale(0.11 -0.11)\">\n       <defs>\n        <path d=\"M 4.15625 18.75 \nL 13.375 19.53125 \nQ 14.40625 12.796875 18.140625 9.390625 \nQ 21.875 6 27.15625 6 \nQ 33.5 6 37.890625 10.78125 \nQ 42.28125 15.578125 42.28125 23.484375 \nQ 42.28125 31 38.0625 35.34375 \nQ 33.84375 39.703125 27 39.703125 \nQ 22.75 39.703125 19.328125 37.765625 \nQ 15.921875 35.84375 13.96875 32.765625 \nL 5.71875 33.84375 \nL 12.640625 70.609375 \nL 48.25 70.609375 \nL 48.25 62.203125 \nL 19.671875 62.203125 \nL 15.828125 42.96875 \nQ 22.265625 47.46875 29.34375 47.46875 \nQ 38.71875 47.46875 45.15625 40.96875 \nQ 51.609375 34.46875 51.609375 24.265625 \nQ 51.609375 14.546875 45.953125 7.46875 \nQ 39.0625 -1.21875 27.15625 -1.21875 \nQ 17.390625 -1.21875 11.203125 4.25 \nQ 5.03125 9.71875 4.15625 18.75 \nz\n\" id=\"ArialMT-53\"/>\n       </defs>\n       <use xlink:href=\"#ArialMT-50\"/>\n       <use x=\"55.615234\" xlink:href=\"#ArialMT-53\"/>\n       <use x=\"111.230469\" xlink:href=\"#ArialMT-48\"/>\n       <use x=\"166.845703\" xlink:href=\"#ArialMT-48\"/>\n      </g>\n     </g>\n    </g>\n    <g id=\"ytick_3\">\n     <g id=\"line2d_3\">\n      <path clip-path=\"url(#pd4b75cb422)\" d=\"M 62.259531 336.380881 \nL 676.059531 336.380881 \n\" style=\"fill:none;stroke:#ffffff;stroke-linecap:round;\"/>\n     </g>\n     <g id=\"text_7\">\n      <!-- 5000 -->\n      <g style=\"fill:#262626;\" transform=\"translate(28.291406 340.317678)scale(0.11 -0.11)\">\n       <use xlink:href=\"#ArialMT-53\"/>\n       <use x=\"55.615234\" xlink:href=\"#ArialMT-48\"/>\n       <use x=\"111.230469\" xlink:href=\"#ArialMT-48\"/>\n       <use x=\"166.845703\" xlink:href=\"#ArialMT-48\"/>\n      </g>\n     </g>\n    </g>\n    <g id=\"ytick_4\">\n     <g id=\"line2d_4\">\n      <path clip-path=\"url(#pd4b75cb422)\" d=\"M 62.259531 283.531321 \nL 676.059531 283.531321 \n\" style=\"fill:none;stroke:#ffffff;stroke-linecap:round;\"/>\n     </g>\n     <g id=\"text_8\">\n      <!-- 7500 -->\n      <g style=\"fill:#262626;\" transform=\"translate(28.291406 287.468118)scale(0.11 -0.11)\">\n       <defs>\n        <path d=\"M 4.734375 62.203125 \nL 4.734375 70.65625 \nL 51.078125 70.65625 \nL 51.078125 63.8125 \nQ 44.234375 56.546875 37.515625 44.484375 \nQ 30.8125 32.421875 27.15625 19.671875 \nQ 24.515625 10.6875 23.78125 0 \nL 14.75 0 \nQ 14.890625 8.453125 18.0625 20.40625 \nQ 21.234375 32.375 27.171875 43.484375 \nQ 33.109375 54.59375 39.796875 62.203125 \nz\n\" id=\"ArialMT-55\"/>\n       </defs>\n       <use xlink:href=\"#ArialMT-55\"/>\n       <use x=\"55.615234\" xlink:href=\"#ArialMT-53\"/>\n       <use x=\"111.230469\" xlink:href=\"#ArialMT-48\"/>\n       <use x=\"166.845703\" xlink:href=\"#ArialMT-48\"/>\n      </g>\n     </g>\n    </g>\n    <g id=\"ytick_5\">\n     <g id=\"line2d_5\">\n      <path clip-path=\"url(#pd4b75cb422)\" d=\"M 62.259531 230.681762 \nL 676.059531 230.681762 \n\" style=\"fill:none;stroke:#ffffff;stroke-linecap:round;\"/>\n     </g>\n     <g id=\"text_9\">\n      <!-- 10000 -->\n      <g style=\"fill:#262626;\" transform=\"translate(22.174375 234.618559)scale(0.11 -0.11)\">\n       <use xlink:href=\"#ArialMT-49\"/>\n       <use x=\"55.615234\" xlink:href=\"#ArialMT-48\"/>\n       <use x=\"111.230469\" xlink:href=\"#ArialMT-48\"/>\n       <use x=\"166.845703\" xlink:href=\"#ArialMT-48\"/>\n       <use x=\"222.460938\" xlink:href=\"#ArialMT-48\"/>\n      </g>\n     </g>\n    </g>\n    <g id=\"ytick_6\">\n     <g id=\"line2d_6\">\n      <path clip-path=\"url(#pd4b75cb422)\" d=\"M 62.259531 177.832202 \nL 676.059531 177.832202 \n\" style=\"fill:none;stroke:#ffffff;stroke-linecap:round;\"/>\n     </g>\n     <g id=\"text_10\">\n      <!-- 12500 -->\n      <g style=\"fill:#262626;\" transform=\"translate(22.174375 181.768999)scale(0.11 -0.11)\">\n       <use xlink:href=\"#ArialMT-49\"/>\n       <use x=\"55.615234\" xlink:href=\"#ArialMT-50\"/>\n       <use x=\"111.230469\" xlink:href=\"#ArialMT-53\"/>\n       <use x=\"166.845703\" xlink:href=\"#ArialMT-48\"/>\n       <use x=\"222.460938\" xlink:href=\"#ArialMT-48\"/>\n      </g>\n     </g>\n    </g>\n    <g id=\"ytick_7\">\n     <g id=\"line2d_7\">\n      <path clip-path=\"url(#pd4b75cb422)\" d=\"M 62.259531 124.982642 \nL 676.059531 124.982642 \n\" style=\"fill:none;stroke:#ffffff;stroke-linecap:round;\"/>\n     </g>\n     <g id=\"text_11\">\n      <!-- 15000 -->\n      <g style=\"fill:#262626;\" transform=\"translate(22.174375 128.919439)scale(0.11 -0.11)\">\n       <use xlink:href=\"#ArialMT-49\"/>\n       <use x=\"55.615234\" xlink:href=\"#ArialMT-53\"/>\n       <use x=\"111.230469\" xlink:href=\"#ArialMT-48\"/>\n       <use x=\"166.845703\" xlink:href=\"#ArialMT-48\"/>\n       <use x=\"222.460938\" xlink:href=\"#ArialMT-48\"/>\n      </g>\n     </g>\n    </g>\n    <g id=\"ytick_8\">\n     <g id=\"line2d_8\">\n      <path clip-path=\"url(#pd4b75cb422)\" d=\"M 62.259531 72.133083 \nL 676.059531 72.133083 \n\" style=\"fill:none;stroke:#ffffff;stroke-linecap:round;\"/>\n     </g>\n     <g id=\"text_12\">\n      <!-- 17500 -->\n      <g style=\"fill:#262626;\" transform=\"translate(22.174375 76.06988)scale(0.11 -0.11)\">\n       <use xlink:href=\"#ArialMT-49\"/>\n       <use x=\"55.615234\" xlink:href=\"#ArialMT-55\"/>\n       <use x=\"111.230469\" xlink:href=\"#ArialMT-53\"/>\n       <use x=\"166.845703\" xlink:href=\"#ArialMT-48\"/>\n       <use x=\"222.460938\" xlink:href=\"#ArialMT-48\"/>\n      </g>\n     </g>\n    </g>\n    <g id=\"ytick_9\">\n     <g id=\"line2d_9\">\n      <path clip-path=\"url(#pd4b75cb422)\" d=\"M 62.259531 19.283523 \nL 676.059531 19.283523 \n\" style=\"fill:none;stroke:#ffffff;stroke-linecap:round;\"/>\n     </g>\n     <g id=\"text_13\">\n      <!-- 20000 -->\n      <g style=\"fill:#262626;\" transform=\"translate(22.174375 23.22032)scale(0.11 -0.11)\">\n       <use xlink:href=\"#ArialMT-50\"/>\n       <use x=\"55.615234\" xlink:href=\"#ArialMT-48\"/>\n       <use x=\"111.230469\" xlink:href=\"#ArialMT-48\"/>\n       <use x=\"166.845703\" xlink:href=\"#ArialMT-48\"/>\n       <use x=\"222.460938\" xlink:href=\"#ArialMT-48\"/>\n      </g>\n     </g>\n    </g>\n    <g id=\"text_14\">\n     <!-- count -->\n     <g style=\"fill:#262626;\" transform=\"translate(15.789375 239.316562)rotate(-90)scale(0.12 -0.12)\">\n      <defs>\n       <path d=\"M 40.4375 19 \nL 49.078125 17.875 \nQ 47.65625 8.9375 41.8125 3.875 \nQ 35.984375 -1.171875 27.484375 -1.171875 \nQ 16.84375 -1.171875 10.375 5.78125 \nQ 3.90625 12.75 3.90625 25.734375 \nQ 3.90625 34.125 6.6875 40.421875 \nQ 9.46875 46.734375 15.15625 49.875 \nQ 20.84375 53.03125 27.546875 53.03125 \nQ 35.984375 53.03125 41.359375 48.75 \nQ 46.734375 44.484375 48.25 36.625 \nL 39.703125 35.296875 \nQ 38.484375 40.53125 35.375 43.15625 \nQ 32.28125 45.796875 27.875 45.796875 \nQ 21.234375 45.796875 17.078125 41.03125 \nQ 12.9375 36.28125 12.9375 25.984375 \nQ 12.9375 15.53125 16.9375 10.796875 \nQ 20.953125 6.0625 27.390625 6.0625 \nQ 32.5625 6.0625 36.03125 9.234375 \nQ 39.5 12.40625 40.4375 19 \nz\n\" id=\"ArialMT-99\"/>\n       <path d=\"M 3.328125 25.921875 \nQ 3.328125 40.328125 11.328125 47.265625 \nQ 18.015625 53.03125 27.640625 53.03125 \nQ 38.328125 53.03125 45.109375 46.015625 \nQ 51.90625 39.015625 51.90625 26.65625 \nQ 51.90625 16.65625 48.90625 10.90625 \nQ 45.90625 5.171875 40.15625 2 \nQ 34.421875 -1.171875 27.640625 -1.171875 \nQ 16.75 -1.171875 10.03125 5.8125 \nQ 3.328125 12.796875 3.328125 25.921875 \nz\nM 12.359375 25.921875 \nQ 12.359375 15.96875 16.703125 11.015625 \nQ 21.046875 6.0625 27.640625 6.0625 \nQ 34.1875 6.0625 38.53125 11.03125 \nQ 42.875 16.015625 42.875 26.21875 \nQ 42.875 35.84375 38.5 40.796875 \nQ 34.125 45.75 27.640625 45.75 \nQ 21.046875 45.75 16.703125 40.8125 \nQ 12.359375 35.890625 12.359375 25.921875 \nz\n\" id=\"ArialMT-111\"/>\n       <path d=\"M 40.578125 0 \nL 40.578125 7.625 \nQ 34.515625 -1.171875 24.125 -1.171875 \nQ 19.53125 -1.171875 15.546875 0.578125 \nQ 11.578125 2.34375 9.640625 5 \nQ 7.71875 7.671875 6.9375 11.53125 \nQ 6.390625 14.109375 6.390625 19.734375 \nL 6.390625 51.859375 \nL 15.1875 51.859375 \nL 15.1875 23.09375 \nQ 15.1875 16.21875 15.71875 13.8125 \nQ 16.546875 10.359375 19.234375 8.375 \nQ 21.921875 6.390625 25.875 6.390625 \nQ 29.828125 6.390625 33.296875 8.421875 \nQ 36.765625 10.453125 38.203125 13.9375 \nQ 39.65625 17.4375 39.65625 24.078125 \nL 39.65625 51.859375 \nL 48.4375 51.859375 \nL 48.4375 0 \nz\n\" id=\"ArialMT-117\"/>\n      </defs>\n      <use xlink:href=\"#ArialMT-99\"/>\n      <use x=\"50\" xlink:href=\"#ArialMT-111\"/>\n      <use x=\"105.615234\" xlink:href=\"#ArialMT-117\"/>\n      <use x=\"161.230469\" xlink:href=\"#ArialMT-110\"/>\n      <use x=\"216.845703\" xlink:href=\"#ArialMT-116\"/>\n     </g>\n    </g>\n   </g>\n   <g id=\"patch_3\">\n    <path clip-path=\"url(#pd4b75cb422)\" d=\"M 82.719531 442.08 \nL 246.399531 442.08 \nL 246.399531 265.942988 \nL 82.719531 265.942988 \nz\n\" style=\"fill:#5875a4;stroke:#ffffff;stroke-linejoin:miter;\"/>\n   </g>\n   <g id=\"patch_4\">\n    <path clip-path=\"url(#pd4b75cb422)\" d=\"M 287.319531 442.08 \nL 450.999531 442.08 \nL 450.999531 27.908571 \nL 287.319531 27.908571 \nz\n\" style=\"fill:#cc8963;stroke:#ffffff;stroke-linejoin:miter;\"/>\n   </g>\n   <g id=\"patch_5\">\n    <path clip-path=\"url(#pd4b75cb422)\" d=\"M 491.919531 442.08 \nL 655.599531 442.08 \nL 655.599531 82.04766 \nL 491.919531 82.04766 \nz\n\" style=\"fill:#5f9e6e;stroke:#ffffff;stroke-linejoin:miter;\"/>\n   </g>\n   <g id=\"patch_6\">\n    <path d=\"M 62.259531 442.08 \nL 62.259531 7.2 \n\" style=\"fill:none;stroke:#ffffff;stroke-linecap:square;stroke-linejoin:miter;stroke-width:1.25;\"/>\n   </g>\n   <g id=\"patch_7\">\n    <path d=\"M 676.059531 442.08 \nL 676.059531 7.2 \n\" style=\"fill:none;stroke:#ffffff;stroke-linecap:square;stroke-linejoin:miter;stroke-width:1.25;\"/>\n   </g>\n   <g id=\"patch_8\">\n    <path d=\"M 62.259531 442.08 \nL 676.059531 442.08 \n\" style=\"fill:none;stroke:#ffffff;stroke-linecap:square;stroke-linejoin:miter;stroke-width:1.25;\"/>\n   </g>\n   <g id=\"patch_9\">\n    <path d=\"M 62.259531 7.2 \nL 676.059531 7.2 \n\" style=\"fill:none;stroke:#ffffff;stroke-linecap:square;stroke-linejoin:miter;stroke-width:1.25;\"/>\n   </g>\n  </g>\n </g>\n <defs>\n  <clipPath id=\"pd4b75cb422\">\n   <rect height=\"434.88\" width=\"613.8\" x=\"62.259531\" y=\"7.2\"/>\n  </clipPath>\n </defs>\n</svg>\n",
      "image/png": "[encoded data removed]"
     },
     "metadata": {}
    }
   ],
   "source": [
    "sns.set_style(\"whitegrid\")\n",
    "sns.set(rc={'figure.figsize':(11,8)})\n",
    "sns.countplot(covid['Sentiment'])"
   ]
  },
  {
   "cell_type": "code",
   "execution_count": null,
   "metadata": {},
   "outputs": [],
   "source": []
  },
  {
   "cell_type": "code",
   "execution_count": 32,
   "metadata": {},
   "outputs": [
    {
     "output_type": "execute_result",
     "data": {
      "text/plain": [
       "                                           OriginalTweet  Sentiment  id\n",
       "44950  Meanwhile In A Supermarket Israel -- People da...          1   1\n",
       "44951  Did panic buy lot non-perishable items? ECHO n...          2   1\n",
       "44952  Asst Prof Economics talking recent research co...          0   1\n",
       "44953  Gov need somethings instead biar je rakyat ass...          2   1\n",
       "44954  I members committed safety employees end-users...          1   1"
      ],
      "text/html": "<div>\n<style scoped>\n    .dataframe tbody tr th:only-of-type {\n        vertical-align: middle;\n    }\n\n    .dataframe tbody tr th {\n        vertical-align: top;\n    }\n\n    .dataframe thead th {\n        text-align: right;\n    }\n</style>\n<table border=\"1\" class=\"dataframe\">\n  <thead>\n    <tr style=\"text-align: right;\">\n      <th></th>\n      <th>OriginalTweet</th>\n      <th>Sentiment</th>\n      <th>id</th>\n    </tr>\n  </thead>\n  <tbody>\n    <tr>\n      <th>44950</th>\n      <td>Meanwhile In A Supermarket Israel -- People da...</td>\n      <td>1</td>\n      <td>1</td>\n    </tr>\n    <tr>\n      <th>44951</th>\n      <td>Did panic buy lot non-perishable items? ECHO n...</td>\n      <td>2</td>\n      <td>1</td>\n    </tr>\n    <tr>\n      <th>44952</th>\n      <td>Asst Prof Economics talking recent research co...</td>\n      <td>0</td>\n      <td>1</td>\n    </tr>\n    <tr>\n      <th>44953</th>\n      <td>Gov need somethings instead biar je rakyat ass...</td>\n      <td>2</td>\n      <td>1</td>\n    </tr>\n    <tr>\n      <th>44954</th>\n      <td>I members committed safety employees end-users...</td>\n      <td>1</td>\n      <td>1</td>\n    </tr>\n  </tbody>\n</table>\n</div>"
     },
     "metadata": {},
     "execution_count": 32
    }
   ],
   "source": [
    "covid.tail()"
   ]
  },
  {
   "cell_type": "markdown",
   "metadata": {},
   "source": [
    "## Data Modelling"
   ]
  },
  {
   "cell_type": "code",
   "execution_count": 33,
   "metadata": {},
   "outputs": [],
   "source": [
    "from nltk.stem.porter import PorterStemmer\n",
    "from nltk.stem import WordNetLemmatizer\n",
    "from nltk.tokenize import word_tokenize,sent_tokenize\n",
    "from sklearn.feature_extraction.text import CountVectorizer\n",
    "from sklearn.model_selection import train_test_split, cross_val_score\n",
    "from sklearn.linear_model import LogisticRegression\n",
    "from sklearn.metrics import classification_report"
   ]
  },
  {
   "cell_type": "code",
   "execution_count": 82,
   "metadata": {},
   "outputs": [
    {
     "output_type": "stream",
     "name": "stdout",
     "text": [
      "0                                                         \n1        advice Talk neighbour family exchange phone nu...\n2        Coronavirus Australia : Woolworths give elderl...\n3        My food stock one empty ... PLEASE , panic , T...\n4        Me , ready go supermarket outbreak . Not I 'm ...\n                               ...                        \n44950    Meanwhile In A Supermarket Israel -- People da...\n44951    Did panic buy lot non-perishable item ? ECHO n...\n44952    Asst Prof Economics talking recent research co...\n44953    Gov need somethings instead biar je rakyat ass...\n44954    I member committed safety employee end-users ....\nName: Corpus, Length: 44955, dtype: object\n"
     ]
    }
   ],
   "source": [
    "covid['Corpus'] = [nltk.word_tokenize(text) for text in covid.OriginalTweet]\n",
    "lemma = nltk.WordNetLemmatizer()\n",
    "covid.Corpus = covid.apply(lambda x: [lemma.lemmatize(word) for word in x.Corpus], axis=1)\n",
    "covid.Corpus = covid.apply(lambda x: \" \".join(x.Corpus),axis=1)\n",
    "print(covid.Corpus)"
   ]
  },
  {
   "cell_type": "code",
   "execution_count": 35,
   "metadata": {},
   "outputs": [
    {
     "output_type": "execute_result",
     "data": {
      "text/plain": [
       "                                           OriginalTweet  Sentiment  id  \\\n",
       "44950  Meanwhile In A Supermarket Israel -- People da...          1   1   \n",
       "44951  Did panic buy lot non-perishable items? ECHO n...          2   1   \n",
       "44952  Asst Prof Economics talking recent research co...          0   1   \n",
       "44953  Gov need somethings instead biar je rakyat ass...          2   1   \n",
       "44954  I members committed safety employees end-users...          1   1   \n",
       "\n",
       "                                                  Corpus  \n",
       "44950  Meanwhile In A Supermarket Israel -- People da...  \n",
       "44951  Did panic buy lot non-perishable item ? ECHO n...  \n",
       "44952  Asst Prof Economics talking recent research co...  \n",
       "44953  Gov need somethings instead biar je rakyat ass...  \n",
       "44954  I member committed safety employee end-users ....  "
      ],
      "text/html": "<div>\n<style scoped>\n    .dataframe tbody tr th:only-of-type {\n        vertical-align: middle;\n    }\n\n    .dataframe tbody tr th {\n        vertical-align: top;\n    }\n\n    .dataframe thead th {\n        text-align: right;\n    }\n</style>\n<table border=\"1\" class=\"dataframe\">\n  <thead>\n    <tr style=\"text-align: right;\">\n      <th></th>\n      <th>OriginalTweet</th>\n      <th>Sentiment</th>\n      <th>id</th>\n      <th>Corpus</th>\n    </tr>\n  </thead>\n  <tbody>\n    <tr>\n      <th>44950</th>\n      <td>Meanwhile In A Supermarket Israel -- People da...</td>\n      <td>1</td>\n      <td>1</td>\n      <td>Meanwhile In A Supermarket Israel -- People da...</td>\n    </tr>\n    <tr>\n      <th>44951</th>\n      <td>Did panic buy lot non-perishable items? ECHO n...</td>\n      <td>2</td>\n      <td>1</td>\n      <td>Did panic buy lot non-perishable item ? ECHO n...</td>\n    </tr>\n    <tr>\n      <th>44952</th>\n      <td>Asst Prof Economics talking recent research co...</td>\n      <td>0</td>\n      <td>1</td>\n      <td>Asst Prof Economics talking recent research co...</td>\n    </tr>\n    <tr>\n      <th>44953</th>\n      <td>Gov need somethings instead biar je rakyat ass...</td>\n      <td>2</td>\n      <td>1</td>\n      <td>Gov need somethings instead biar je rakyat ass...</td>\n    </tr>\n    <tr>\n      <th>44954</th>\n      <td>I members committed safety employees end-users...</td>\n      <td>1</td>\n      <td>1</td>\n      <td>I member committed safety employee end-users ....</td>\n    </tr>\n  </tbody>\n</table>\n</div>"
     },
     "metadata": {},
     "execution_count": 35
    }
   ],
   "source": [
    "covid.tail()"
   ]
  },
  {
   "cell_type": "code",
   "execution_count": 36,
   "metadata": {},
   "outputs": [
    {
     "output_type": "stream",
     "name": "stderr",
     "text": [
      "/home/arun/.local/lib/python3.8/site-packages/pandas/core/frame.py:4305: SettingWithCopyWarning: \nA value is trying to be set on a copy of a slice from a DataFrame\n\nSee the caveats in the documentation: https://pandas.pydata.org/pandas-docs/stable/user_guide/indexing.html#returning-a-view-versus-a-copy\n  return super().drop(\n"
     ]
    }
   ],
   "source": [
    "train = covid[covid.id==0]\n",
    "test = covid[covid.id==1]\n",
    "train.drop('id',axis=1, inplace=True)\n",
    "test.drop('id',axis=1, inplace=True)\n",
    "test.reset_index(drop=True,inplace=True)"
   ]
  },
  {
   "cell_type": "code",
   "execution_count": 37,
   "metadata": {},
   "outputs": [
    {
     "output_type": "execute_result",
     "data": {
      "text/plain": [
       "                                       OriginalTweet  Sentiment  \\\n",
       "0                                                             0   \n",
       "1  advice Talk neighbours family exchange phone n...          1   \n",
       "2  Coronavirus Australia: Woolworths give elderly...          1   \n",
       "3  My food stock one empty... PLEASE, panic, THER...          1   \n",
       "4  Me, ready go supermarket outbreak. Not I'm par...          2   \n",
       "\n",
       "                                              Corpus  \n",
       "0                                                     \n",
       "1  advice Talk neighbour family exchange phone nu...  \n",
       "2  Coronavirus Australia : Woolworths give elderl...  \n",
       "3  My food stock one empty ... PLEASE , panic , T...  \n",
       "4  Me , ready go supermarket outbreak . Not I 'm ...  "
      ],
      "text/html": "<div>\n<style scoped>\n    .dataframe tbody tr th:only-of-type {\n        vertical-align: middle;\n    }\n\n    .dataframe tbody tr th {\n        vertical-align: top;\n    }\n\n    .dataframe thead th {\n        text-align: right;\n    }\n</style>\n<table border=\"1\" class=\"dataframe\">\n  <thead>\n    <tr style=\"text-align: right;\">\n      <th></th>\n      <th>OriginalTweet</th>\n      <th>Sentiment</th>\n      <th>Corpus</th>\n    </tr>\n  </thead>\n  <tbody>\n    <tr>\n      <th>0</th>\n      <td></td>\n      <td>0</td>\n      <td></td>\n    </tr>\n    <tr>\n      <th>1</th>\n      <td>advice Talk neighbours family exchange phone n...</td>\n      <td>1</td>\n      <td>advice Talk neighbour family exchange phone nu...</td>\n    </tr>\n    <tr>\n      <th>2</th>\n      <td>Coronavirus Australia: Woolworths give elderly...</td>\n      <td>1</td>\n      <td>Coronavirus Australia : Woolworths give elderl...</td>\n    </tr>\n    <tr>\n      <th>3</th>\n      <td>My food stock one empty... PLEASE, panic, THER...</td>\n      <td>1</td>\n      <td>My food stock one empty ... PLEASE , panic , T...</td>\n    </tr>\n    <tr>\n      <th>4</th>\n      <td>Me, ready go supermarket outbreak. Not I'm par...</td>\n      <td>2</td>\n      <td>Me , ready go supermarket outbreak . Not I 'm ...</td>\n    </tr>\n  </tbody>\n</table>\n</div>"
     },
     "metadata": {},
     "execution_count": 37
    }
   ],
   "source": [
    "train.head()"
   ]
  },
  {
   "cell_type": "code",
   "execution_count": 38,
   "metadata": {},
   "outputs": [
    {
     "output_type": "execute_result",
     "data": {
      "text/plain": [
       "                                       OriginalTweet  Sentiment  \\\n",
       "0  TRENDING: New Yorkers encounter empty supermar...          2   \n",
       "1  When I find hand sanitizer Fred Meyer, I turne...          1   \n",
       "2                        Find protect loved ones . ?          1   \n",
       "3  buying hits City anxious shoppers stock food&a...          2   \n",
       "4  One week everyone buying baby milk powder next...          0   \n",
       "\n",
       "                                              Corpus  \n",
       "0  TRENDING : New Yorkers encounter empty superma...  \n",
       "1  When I find hand sanitizer Fred Meyer , I turn...  \n",
       "2                         Find protect loved one . ?  \n",
       "3  buying hit City anxious shopper stock food & a...  \n",
       "4  One week everyone buying baby milk powder next...  "
      ],
      "text/html": "<div>\n<style scoped>\n    .dataframe tbody tr th:only-of-type {\n        vertical-align: middle;\n    }\n\n    .dataframe tbody tr th {\n        vertical-align: top;\n    }\n\n    .dataframe thead th {\n        text-align: right;\n    }\n</style>\n<table border=\"1\" class=\"dataframe\">\n  <thead>\n    <tr style=\"text-align: right;\">\n      <th></th>\n      <th>OriginalTweet</th>\n      <th>Sentiment</th>\n      <th>Corpus</th>\n    </tr>\n  </thead>\n  <tbody>\n    <tr>\n      <th>0</th>\n      <td>TRENDING: New Yorkers encounter empty supermar...</td>\n      <td>2</td>\n      <td>TRENDING : New Yorkers encounter empty superma...</td>\n    </tr>\n    <tr>\n      <th>1</th>\n      <td>When I find hand sanitizer Fred Meyer, I turne...</td>\n      <td>1</td>\n      <td>When I find hand sanitizer Fred Meyer , I turn...</td>\n    </tr>\n    <tr>\n      <th>2</th>\n      <td>Find protect loved ones . ?</td>\n      <td>1</td>\n      <td>Find protect loved one . ?</td>\n    </tr>\n    <tr>\n      <th>3</th>\n      <td>buying hits City anxious shoppers stock food&amp;a...</td>\n      <td>2</td>\n      <td>buying hit City anxious shopper stock food &amp; a...</td>\n    </tr>\n    <tr>\n      <th>4</th>\n      <td>One week everyone buying baby milk powder next...</td>\n      <td>0</td>\n      <td>One week everyone buying baby milk powder next...</td>\n    </tr>\n  </tbody>\n</table>\n</div>"
     },
     "metadata": {},
     "execution_count": 38
    }
   ],
   "source": [
    "test.head()"
   ]
  },
  {
   "cell_type": "code",
   "execution_count": 64,
   "metadata": {
    "collapsed": true
   },
   "outputs": [
    {
     "output_type": "stream",
     "name": "stdout",
     "text": [
      "advice Talk neighbour family exchange phone number create contact list phone number neighbour school employer chemist GP set online shopping account po adequate supply regular med order\n"
     ]
    }
   ],
   "source": [
    "XTrain = train.Corpus\n",
    "yTrain = train.Sentiment\n",
    "\n",
    "print(XTrain[1])\n",
    "\n",
    "XTest = test.Corpus\n",
    "yTest = test.Sentiment\n",
    "\n",
    "XTrain, XVal, yTrain, yVal = train_test_split(XTrain, yTrain, test_size=0.2,random_state=42)\n"
   ]
  },
  {
   "cell_type": "code",
   "execution_count": 61,
   "metadata": {},
   "outputs": [
    {
     "output_type": "stream",
     "name": "stdout",
     "text": [
      "[   0    0    0    0  452  583 1624  128 2319  690  320 1022  359  309\n  690  320 1624  447 1850 2188 4180  400   13   12  900 2830   37  961\n 2354  119]\n"
     ]
    }
   ],
   "source": [
    "print(XTrain[1])"
   ]
  },
  {
   "cell_type": "code",
   "execution_count": 69,
   "metadata": {
    "collapsed": true
   },
   "outputs": [],
   "source": [
    "vectorizer = CountVectorizer(stop_words='english',ngram_range=(1,2),min_df=5).fit(covid.Corpus)\n",
    "\n",
    "XTrainVec = vectorizer.transform(XTrain)\n",
    "XValVec = vectorizer.transform(XVal)\n",
    "XTestVec = vectorizer.transform(XTest)"
   ]
  },
  {
   "cell_type": "markdown",
   "metadata": {},
   "source": [
    "## Logistic Regression"
   ]
  },
  {
   "cell_type": "code",
   "execution_count": 41,
   "metadata": {
    "collapsed": true
   },
   "outputs": [],
   "source": [
    "log_reg=LogisticRegression(random_state=42)"
   ]
  },
  {
   "cell_type": "code",
   "execution_count": 42,
   "metadata": {},
   "outputs": [
    {
     "output_type": "stream",
     "name": "stderr",
     "text": [
      "[Parallel(n_jobs=-1)]: Using backend LokyBackend with 4 concurrent workers.\n",
      "[Parallel(n_jobs=-1)]: Done  10 out of  10 | elapsed:   20.2s finished\n"
     ]
    },
    {
     "output_type": "execute_result",
     "data": {
      "text/plain": [
       "0.7986638600455549"
      ]
     },
     "metadata": {},
     "execution_count": 42
    }
   ],
   "source": [
    "cross_val_score(LogisticRegression(random_state=42),\n",
    "                XTrainVec, yTrain, cv=10, verbose=1, n_jobs=-1).mean()"
   ]
  },
  {
   "cell_type": "code",
   "execution_count": 43,
   "metadata": {},
   "outputs": [
    {
     "output_type": "stream",
     "name": "stderr",
     "text": [
      "/home/arun/.local/lib/python3.8/site-packages/sklearn/linear_model/_logistic.py:763: ConvergenceWarning: lbfgs failed to converge (status=1):\nSTOP: TOTAL NO. of ITERATIONS REACHED LIMIT.\n\nIncrease the number of iterations (max_iter) or scale the data as shown in:\n    https://scikit-learn.org/stable/modules/preprocessing.html\nPlease also refer to the documentation for alternative solver options:\n    https://scikit-learn.org/stable/modules/linear_model.html#logistic-regression\n  n_iter_i = _check_optimize_result(\n"
     ]
    }
   ],
   "source": [
    "model = log_reg.fit(XTrainVec, yTrain)"
   ]
  },
  {
   "cell_type": "code",
   "execution_count": 44,
   "metadata": {},
   "outputs": [
    {
     "output_type": "stream",
     "name": "stdout",
     "text": [
      "              precision    recall  f1-score   support\n\n           0       0.70      0.73      0.71      1553\n           1       0.83      0.84      0.83      3617\n           2       0.82      0.79      0.80      3062\n\n    accuracy                           0.80      8232\n   macro avg       0.78      0.79      0.78      8232\nweighted avg       0.80      0.80      0.80      8232\n\n"
     ]
    }
   ],
   "source": [
    "print(classification_report(yVal, model.predict(XValVec)))"
   ]
  },
  {
   "cell_type": "markdown",
   "metadata": {},
   "source": [
    "## Long Short Term Memory(LSTM) Model"
   ]
  },
  {
   "cell_type": "code",
   "execution_count": 45,
   "metadata": {
    "collapsed": true
   },
   "outputs": [],
   "source": [
    "from tensorflow import keras\n",
    "from tensorflow.keras.preprocessing.text import Tokenizer\n",
    "from tensorflow.keras.preprocessing.sequence import pad_sequences\n",
    "from tensorflow.keras.layers import Embedding, Dropout\n",
    "from tensorflow.keras import models, layers\n",
    "from tensorflow.keras.callbacks import EarlyStopping\n",
    "from tensorflow.keras.utils import to_categorical"
   ]
  },
  {
   "cell_type": "code",
   "execution_count": 81,
   "metadata": {},
   "outputs": [
    {
     "output_type": "stream",
     "name": "stdout",
     "text": [
      "advice Talk neighbour family exchange phone number create contact list phone number neighbour school employer chemist GP set online shopping account po adequate supply regular med order\n"
     ]
    }
   ],
   "source": [
    "lines = []\n",
    "for line in train['Corpus']:\n",
    "    lines.append(line)\n",
    "    \n",
    "len(lines)\n",
    "print(lines[1])"
   ]
  },
  {
   "cell_type": "code",
   "execution_count": 47,
   "metadata": {},
   "outputs": [
    {
     "output_type": "stream",
     "name": "stdout",
     "text": [
      "Found 33379 unique tokens.\n"
     ]
    }
   ],
   "source": [
    "tokenizer = Tokenizer(num_words=5000, lower=True) # Number of words to consider as features\n",
    "tokenizer.fit_on_texts(train['Corpus'].values)\n",
    "wordIndex = len(tokenizer.word_index) + 1\n",
    "print('Found %s unique tokens.' % (wordIndex))"
   ]
  },
  {
   "cell_type": "code",
   "execution_count": 80,
   "metadata": {
    "collapsed": true,
    "tags": []
   },
   "outputs": [
    {
     "output_type": "stream",
     "name": "stdout",
     "text": [
      "[211, 2, 138, 21, 30, 2, 1617, 146, 593, 3499, 182, 498, 832, 3]\n[   0    0    0    0    0    0    0    0    0    0    0    0    0    0\n    0    0  211    2  138   21   30    2 1617  146  593 3499  182  498\n  832    3]\n"
     ]
    }
   ],
   "source": [
    "XTrain = tokenizer.texts_to_sequences(train['Corpus'].values)\n",
    "XTrain = pad_sequences(XTrain, maxlen=30) # Cuts off the texts after this number of words\n",
    "\n",
    "XTest = tokenizer.texts_to_sequences(test['Corpus'].values)\n",
    "print(XTest[1])\n",
    "XTest = pad_sequences(XTest, maxlen=30)\n",
    "print(XTest[1])"
   ]
  },
  {
   "cell_type": "code",
   "execution_count": 49,
   "metadata": {},
   "outputs": [
    {
     "output_type": "execute_result",
     "data": {
      "text/plain": [
       "((41157, 30), (3798, 30))"
      ]
     },
     "metadata": {},
     "execution_count": 49
    }
   ],
   "source": [
    "XTrain.shape, XTest.shape"
   ]
  },
  {
   "cell_type": "code",
   "execution_count": 50,
   "metadata": {
    "collapsed": true
   },
   "outputs": [],
   "source": [
    "yTrain = to_categorical(train['Sentiment'], 3)\n",
    "yTest = to_categorical(test['Sentiment'], 3)\n"
   ]
  },
  {
   "cell_type": "code",
   "execution_count": 51,
   "metadata": {
    "collapsed": true
   },
   "outputs": [],
   "source": [
    "model= models.Sequential()\n",
    "model.add(layers.Embedding(wordIndex, 128, input_length=1000))\n",
    "model.add(layers.LSTM(200))\n",
    "model.add(Dropout(0.2))\n",
    "model.add(layers.Dense(3, activation='softmax'))"
   ]
  },
  {
   "cell_type": "code",
   "execution_count": 52,
   "metadata": {},
   "outputs": [
    {
     "output_type": "stream",
     "name": "stdout",
     "text": [
      "Model: \"sequential\"\n_________________________________________________________________\nLayer (type)                 Output Shape              Param #   \n=================================================================\nembedding (Embedding)        (None, 1000, 128)         4272512   \n_________________________________________________________________\nlstm (LSTM)                  (None, 200)               263200    \n_________________________________________________________________\ndropout (Dropout)            (None, 200)               0         \n_________________________________________________________________\ndense (Dense)                (None, 3)                 603       \n=================================================================\nTotal params: 4,536,315\nTrainable params: 4,536,315\nNon-trainable params: 0\n_________________________________________________________________\n"
     ]
    }
   ],
   "source": [
    "model.summary()"
   ]
  },
  {
   "cell_type": "code",
   "execution_count": 53,
   "metadata": {
    "collapsed": true
   },
   "outputs": [],
   "source": [
    "model.compile(loss='categorical_crossentropy', optimizer=keras.optimizers.RMSprop(lr=0.01),\n",
    "              metrics=['accuracy'])"
   ]
  },
  {
   "cell_type": "code",
   "execution_count": 83,
   "metadata": {},
   "outputs": [
    {
     "output_type": "stream",
     "name": "stdout",
     "text": [
      "Epoch 1/100\n",
      "WARNING:tensorflow:Model was constructed with shape (None, 1000) for input KerasTensor(type_spec=TensorSpec(shape=(None, 1000), dtype=tf.float32, name='embedding_input'), name='embedding_input', description=\"created by layer 'embedding_input'\"), but it was called on an input with incompatible shape (None, 30).\n"
     ]
    },
    {
     "output_type": "error",
     "ename": "ValueError",
     "evalue": "in user code:\n\n    /home/arun/.local/lib/python3.8/site-packages/tensorflow/python/keras/engine/training.py:805 train_function  *\n        return step_function(self, iterator)\n    /home/arun/.local/lib/python3.8/site-packages/tensorflow/python/keras/engine/training.py:795 step_function  **\n        outputs = model.distribute_strategy.run(run_step, args=(data,))\n    /home/arun/.local/lib/python3.8/site-packages/tensorflow/python/distribute/distribute_lib.py:1259 run\n        return self._extended.call_for_each_replica(fn, args=args, kwargs=kwargs)\n    /home/arun/.local/lib/python3.8/site-packages/tensorflow/python/distribute/distribute_lib.py:2730 call_for_each_replica\n        return self._call_for_each_replica(fn, args, kwargs)\n    /home/arun/.local/lib/python3.8/site-packages/tensorflow/python/distribute/distribute_lib.py:3417 _call_for_each_replica\n        return fn(*args, **kwargs)\n    /home/arun/.local/lib/python3.8/site-packages/tensorflow/python/keras/engine/training.py:788 run_step  **\n        outputs = model.train_step(data)\n    /home/arun/.local/lib/python3.8/site-packages/tensorflow/python/keras/engine/training.py:755 train_step\n        loss = self.compiled_loss(\n    /home/arun/.local/lib/python3.8/site-packages/tensorflow/python/keras/engine/compile_utils.py:203 __call__\n        loss_value = loss_obj(y_t, y_p, sample_weight=sw)\n    /home/arun/.local/lib/python3.8/site-packages/tensorflow/python/keras/losses.py:152 __call__\n        losses = call_fn(y_true, y_pred)\n    /home/arun/.local/lib/python3.8/site-packages/tensorflow/python/keras/losses.py:256 call  **\n        return ag_fn(y_true, y_pred, **self._fn_kwargs)\n    /home/arun/.local/lib/python3.8/site-packages/tensorflow/python/util/dispatch.py:201 wrapper\n        return target(*args, **kwargs)\n    /home/arun/.local/lib/python3.8/site-packages/tensorflow/python/keras/losses.py:1537 categorical_crossentropy\n        return K.categorical_crossentropy(y_true, y_pred, from_logits=from_logits)\n    /home/arun/.local/lib/python3.8/site-packages/tensorflow/python/util/dispatch.py:201 wrapper\n        return target(*args, **kwargs)\n    /home/arun/.local/lib/python3.8/site-packages/tensorflow/python/keras/backend.py:4833 categorical_crossentropy\n        target.shape.assert_is_compatible_with(output.shape)\n    /home/arun/.local/lib/python3.8/site-packages/tensorflow/python/framework/tensor_shape.py:1134 assert_is_compatible_with\n        raise ValueError(\"Shapes %s and %s are incompatible\" % (self, other))\n\n    ValueError: Shapes (None, 1) and (None, 3) are incompatible\n",
     "traceback": [
      "\u001b[0;31m---------------------------------------------------------------------------\u001b[0m",
      "\u001b[0;31mValueError\u001b[0m                                Traceback (most recent call last)",
      "\u001b[0;32m<ipython-input-83-ebad9b5441a6>\u001b[0m in \u001b[0;36m<module>\u001b[0;34m\u001b[0m\n\u001b[0;32m----> 1\u001b[0;31m history = model.fit(XTrain ,yTrain, batch_size=250, epochs=100, validation_split=0.2,\n\u001b[0m\u001b[1;32m      2\u001b[0m          callbacks=[EarlyStopping(monitor='val_loss', patience=10, restore_best_weights=True)])\n",
      "\u001b[0;32m~/.local/lib/python3.8/site-packages/tensorflow/python/keras/engine/training.py\u001b[0m in \u001b[0;36mfit\u001b[0;34m(self, x, y, batch_size, epochs, verbose, callbacks, validation_split, validation_data, shuffle, class_weight, sample_weight, initial_epoch, steps_per_epoch, validation_steps, validation_batch_size, validation_freq, max_queue_size, workers, use_multiprocessing)\u001b[0m\n\u001b[1;32m   1098\u001b[0m                 _r=1):\n\u001b[1;32m   1099\u001b[0m               \u001b[0mcallbacks\u001b[0m\u001b[0;34m.\u001b[0m\u001b[0mon_train_batch_begin\u001b[0m\u001b[0;34m(\u001b[0m\u001b[0mstep\u001b[0m\u001b[0;34m)\u001b[0m\u001b[0;34m\u001b[0m\u001b[0;34m\u001b[0m\u001b[0m\n\u001b[0;32m-> 1100\u001b[0;31m               \u001b[0mtmp_logs\u001b[0m \u001b[0;34m=\u001b[0m \u001b[0mself\u001b[0m\u001b[0;34m.\u001b[0m\u001b[0mtrain_function\u001b[0m\u001b[0;34m(\u001b[0m\u001b[0miterator\u001b[0m\u001b[0;34m)\u001b[0m\u001b[0;34m\u001b[0m\u001b[0;34m\u001b[0m\u001b[0m\n\u001b[0m\u001b[1;32m   1101\u001b[0m               \u001b[0;32mif\u001b[0m \u001b[0mdata_handler\u001b[0m\u001b[0;34m.\u001b[0m\u001b[0mshould_sync\u001b[0m\u001b[0;34m:\u001b[0m\u001b[0;34m\u001b[0m\u001b[0;34m\u001b[0m\u001b[0m\n\u001b[1;32m   1102\u001b[0m                 \u001b[0mcontext\u001b[0m\u001b[0;34m.\u001b[0m\u001b[0masync_wait\u001b[0m\u001b[0;34m(\u001b[0m\u001b[0;34m)\u001b[0m\u001b[0;34m\u001b[0m\u001b[0;34m\u001b[0m\u001b[0m\n",
      "\u001b[0;32m~/.local/lib/python3.8/site-packages/tensorflow/python/eager/def_function.py\u001b[0m in \u001b[0;36m__call__\u001b[0;34m(self, *args, **kwds)\u001b[0m\n\u001b[1;32m    826\u001b[0m     \u001b[0mtracing_count\u001b[0m \u001b[0;34m=\u001b[0m \u001b[0mself\u001b[0m\u001b[0;34m.\u001b[0m\u001b[0mexperimental_get_tracing_count\u001b[0m\u001b[0;34m(\u001b[0m\u001b[0;34m)\u001b[0m\u001b[0;34m\u001b[0m\u001b[0;34m\u001b[0m\u001b[0m\n\u001b[1;32m    827\u001b[0m     \u001b[0;32mwith\u001b[0m \u001b[0mtrace\u001b[0m\u001b[0;34m.\u001b[0m\u001b[0mTrace\u001b[0m\u001b[0;34m(\u001b[0m\u001b[0mself\u001b[0m\u001b[0;34m.\u001b[0m\u001b[0m_name\u001b[0m\u001b[0;34m)\u001b[0m \u001b[0;32mas\u001b[0m \u001b[0mtm\u001b[0m\u001b[0;34m:\u001b[0m\u001b[0;34m\u001b[0m\u001b[0;34m\u001b[0m\u001b[0m\n\u001b[0;32m--> 828\u001b[0;31m       \u001b[0mresult\u001b[0m \u001b[0;34m=\u001b[0m \u001b[0mself\u001b[0m\u001b[0;34m.\u001b[0m\u001b[0m_call\u001b[0m\u001b[0;34m(\u001b[0m\u001b[0;34m*\u001b[0m\u001b[0margs\u001b[0m\u001b[0;34m,\u001b[0m \u001b[0;34m**\u001b[0m\u001b[0mkwds\u001b[0m\u001b[0;34m)\u001b[0m\u001b[0;34m\u001b[0m\u001b[0;34m\u001b[0m\u001b[0m\n\u001b[0m\u001b[1;32m    829\u001b[0m       \u001b[0mcompiler\u001b[0m \u001b[0;34m=\u001b[0m \u001b[0;34m\"xla\"\u001b[0m \u001b[0;32mif\u001b[0m \u001b[0mself\u001b[0m\u001b[0;34m.\u001b[0m\u001b[0m_experimental_compile\u001b[0m \u001b[0;32melse\u001b[0m \u001b[0;34m\"nonXla\"\u001b[0m\u001b[0;34m\u001b[0m\u001b[0;34m\u001b[0m\u001b[0m\n\u001b[1;32m    830\u001b[0m       \u001b[0mnew_tracing_count\u001b[0m \u001b[0;34m=\u001b[0m \u001b[0mself\u001b[0m\u001b[0;34m.\u001b[0m\u001b[0mexperimental_get_tracing_count\u001b[0m\u001b[0;34m(\u001b[0m\u001b[0;34m)\u001b[0m\u001b[0;34m\u001b[0m\u001b[0;34m\u001b[0m\u001b[0m\n",
      "\u001b[0;32m~/.local/lib/python3.8/site-packages/tensorflow/python/eager/def_function.py\u001b[0m in \u001b[0;36m_call\u001b[0;34m(self, *args, **kwds)\u001b[0m\n\u001b[1;32m    869\u001b[0m       \u001b[0;31m# This is the first call of __call__, so we have to initialize.\u001b[0m\u001b[0;34m\u001b[0m\u001b[0;34m\u001b[0m\u001b[0;34m\u001b[0m\u001b[0m\n\u001b[1;32m    870\u001b[0m       \u001b[0minitializers\u001b[0m \u001b[0;34m=\u001b[0m \u001b[0;34m[\u001b[0m\u001b[0;34m]\u001b[0m\u001b[0;34m\u001b[0m\u001b[0;34m\u001b[0m\u001b[0m\n\u001b[0;32m--> 871\u001b[0;31m       \u001b[0mself\u001b[0m\u001b[0;34m.\u001b[0m\u001b[0m_initialize\u001b[0m\u001b[0;34m(\u001b[0m\u001b[0margs\u001b[0m\u001b[0;34m,\u001b[0m \u001b[0mkwds\u001b[0m\u001b[0;34m,\u001b[0m \u001b[0madd_initializers_to\u001b[0m\u001b[0;34m=\u001b[0m\u001b[0minitializers\u001b[0m\u001b[0;34m)\u001b[0m\u001b[0;34m\u001b[0m\u001b[0;34m\u001b[0m\u001b[0m\n\u001b[0m\u001b[1;32m    872\u001b[0m     \u001b[0;32mfinally\u001b[0m\u001b[0;34m:\u001b[0m\u001b[0;34m\u001b[0m\u001b[0;34m\u001b[0m\u001b[0m\n\u001b[1;32m    873\u001b[0m       \u001b[0;31m# At this point we know that the initialization is complete (or less\u001b[0m\u001b[0;34m\u001b[0m\u001b[0;34m\u001b[0m\u001b[0;34m\u001b[0m\u001b[0m\n",
      "\u001b[0;32m~/.local/lib/python3.8/site-packages/tensorflow/python/eager/def_function.py\u001b[0m in \u001b[0;36m_initialize\u001b[0;34m(self, args, kwds, add_initializers_to)\u001b[0m\n\u001b[1;32m    723\u001b[0m     \u001b[0mself\u001b[0m\u001b[0;34m.\u001b[0m\u001b[0m_graph_deleter\u001b[0m \u001b[0;34m=\u001b[0m \u001b[0mFunctionDeleter\u001b[0m\u001b[0;34m(\u001b[0m\u001b[0mself\u001b[0m\u001b[0;34m.\u001b[0m\u001b[0m_lifted_initializer_graph\u001b[0m\u001b[0;34m)\u001b[0m\u001b[0;34m\u001b[0m\u001b[0;34m\u001b[0m\u001b[0m\n\u001b[1;32m    724\u001b[0m     self._concrete_stateful_fn = (\n\u001b[0;32m--> 725\u001b[0;31m         self._stateful_fn._get_concrete_function_internal_garbage_collected(  # pylint: disable=protected-access\n\u001b[0m\u001b[1;32m    726\u001b[0m             *args, **kwds))\n\u001b[1;32m    727\u001b[0m \u001b[0;34m\u001b[0m\u001b[0m\n",
      "\u001b[0;32m~/.local/lib/python3.8/site-packages/tensorflow/python/eager/function.py\u001b[0m in \u001b[0;36m_get_concrete_function_internal_garbage_collected\u001b[0;34m(self, *args, **kwargs)\u001b[0m\n\u001b[1;32m   2967\u001b[0m       \u001b[0margs\u001b[0m\u001b[0;34m,\u001b[0m \u001b[0mkwargs\u001b[0m \u001b[0;34m=\u001b[0m \u001b[0;32mNone\u001b[0m\u001b[0;34m,\u001b[0m \u001b[0;32mNone\u001b[0m\u001b[0;34m\u001b[0m\u001b[0;34m\u001b[0m\u001b[0m\n\u001b[1;32m   2968\u001b[0m     \u001b[0;32mwith\u001b[0m \u001b[0mself\u001b[0m\u001b[0;34m.\u001b[0m\u001b[0m_lock\u001b[0m\u001b[0;34m:\u001b[0m\u001b[0;34m\u001b[0m\u001b[0;34m\u001b[0m\u001b[0m\n\u001b[0;32m-> 2969\u001b[0;31m       \u001b[0mgraph_function\u001b[0m\u001b[0;34m,\u001b[0m \u001b[0m_\u001b[0m \u001b[0;34m=\u001b[0m \u001b[0mself\u001b[0m\u001b[0;34m.\u001b[0m\u001b[0m_maybe_define_function\u001b[0m\u001b[0;34m(\u001b[0m\u001b[0margs\u001b[0m\u001b[0;34m,\u001b[0m \u001b[0mkwargs\u001b[0m\u001b[0;34m)\u001b[0m\u001b[0;34m\u001b[0m\u001b[0;34m\u001b[0m\u001b[0m\n\u001b[0m\u001b[1;32m   2970\u001b[0m     \u001b[0;32mreturn\u001b[0m \u001b[0mgraph_function\u001b[0m\u001b[0;34m\u001b[0m\u001b[0;34m\u001b[0m\u001b[0m\n\u001b[1;32m   2971\u001b[0m \u001b[0;34m\u001b[0m\u001b[0m\n",
      "\u001b[0;32m~/.local/lib/python3.8/site-packages/tensorflow/python/eager/function.py\u001b[0m in \u001b[0;36m_maybe_define_function\u001b[0;34m(self, args, kwargs)\u001b[0m\n\u001b[1;32m   3359\u001b[0m \u001b[0;34m\u001b[0m\u001b[0m\n\u001b[1;32m   3360\u001b[0m           \u001b[0mself\u001b[0m\u001b[0;34m.\u001b[0m\u001b[0m_function_cache\u001b[0m\u001b[0;34m.\u001b[0m\u001b[0mmissed\u001b[0m\u001b[0;34m.\u001b[0m\u001b[0madd\u001b[0m\u001b[0;34m(\u001b[0m\u001b[0mcall_context_key\u001b[0m\u001b[0;34m)\u001b[0m\u001b[0;34m\u001b[0m\u001b[0;34m\u001b[0m\u001b[0m\n\u001b[0;32m-> 3361\u001b[0;31m           \u001b[0mgraph_function\u001b[0m \u001b[0;34m=\u001b[0m \u001b[0mself\u001b[0m\u001b[0;34m.\u001b[0m\u001b[0m_create_graph_function\u001b[0m\u001b[0;34m(\u001b[0m\u001b[0margs\u001b[0m\u001b[0;34m,\u001b[0m \u001b[0mkwargs\u001b[0m\u001b[0;34m)\u001b[0m\u001b[0;34m\u001b[0m\u001b[0;34m\u001b[0m\u001b[0m\n\u001b[0m\u001b[1;32m   3362\u001b[0m           \u001b[0mself\u001b[0m\u001b[0;34m.\u001b[0m\u001b[0m_function_cache\u001b[0m\u001b[0;34m.\u001b[0m\u001b[0mprimary\u001b[0m\u001b[0;34m[\u001b[0m\u001b[0mcache_key\u001b[0m\u001b[0;34m]\u001b[0m \u001b[0;34m=\u001b[0m \u001b[0mgraph_function\u001b[0m\u001b[0;34m\u001b[0m\u001b[0;34m\u001b[0m\u001b[0m\n\u001b[1;32m   3363\u001b[0m \u001b[0;34m\u001b[0m\u001b[0m\n",
      "\u001b[0;32m~/.local/lib/python3.8/site-packages/tensorflow/python/eager/function.py\u001b[0m in \u001b[0;36m_create_graph_function\u001b[0;34m(self, args, kwargs, override_flat_arg_shapes)\u001b[0m\n\u001b[1;32m   3194\u001b[0m     \u001b[0marg_names\u001b[0m \u001b[0;34m=\u001b[0m \u001b[0mbase_arg_names\u001b[0m \u001b[0;34m+\u001b[0m \u001b[0mmissing_arg_names\u001b[0m\u001b[0;34m\u001b[0m\u001b[0;34m\u001b[0m\u001b[0m\n\u001b[1;32m   3195\u001b[0m     graph_function = ConcreteFunction(\n\u001b[0;32m-> 3196\u001b[0;31m         func_graph_module.func_graph_from_py_func(\n\u001b[0m\u001b[1;32m   3197\u001b[0m             \u001b[0mself\u001b[0m\u001b[0;34m.\u001b[0m\u001b[0m_name\u001b[0m\u001b[0;34m,\u001b[0m\u001b[0;34m\u001b[0m\u001b[0;34m\u001b[0m\u001b[0m\n\u001b[1;32m   3198\u001b[0m             \u001b[0mself\u001b[0m\u001b[0;34m.\u001b[0m\u001b[0m_python_function\u001b[0m\u001b[0;34m,\u001b[0m\u001b[0;34m\u001b[0m\u001b[0;34m\u001b[0m\u001b[0m\n",
      "\u001b[0;32m~/.local/lib/python3.8/site-packages/tensorflow/python/framework/func_graph.py\u001b[0m in \u001b[0;36mfunc_graph_from_py_func\u001b[0;34m(name, python_func, args, kwargs, signature, func_graph, autograph, autograph_options, add_control_dependencies, arg_names, op_return_value, collections, capture_by_value, override_flat_arg_shapes)\u001b[0m\n\u001b[1;32m    988\u001b[0m         \u001b[0m_\u001b[0m\u001b[0;34m,\u001b[0m \u001b[0moriginal_func\u001b[0m \u001b[0;34m=\u001b[0m \u001b[0mtf_decorator\u001b[0m\u001b[0;34m.\u001b[0m\u001b[0munwrap\u001b[0m\u001b[0;34m(\u001b[0m\u001b[0mpython_func\u001b[0m\u001b[0;34m)\u001b[0m\u001b[0;34m\u001b[0m\u001b[0;34m\u001b[0m\u001b[0m\n\u001b[1;32m    989\u001b[0m \u001b[0;34m\u001b[0m\u001b[0m\n\u001b[0;32m--> 990\u001b[0;31m       \u001b[0mfunc_outputs\u001b[0m \u001b[0;34m=\u001b[0m \u001b[0mpython_func\u001b[0m\u001b[0;34m(\u001b[0m\u001b[0;34m*\u001b[0m\u001b[0mfunc_args\u001b[0m\u001b[0;34m,\u001b[0m \u001b[0;34m**\u001b[0m\u001b[0mfunc_kwargs\u001b[0m\u001b[0;34m)\u001b[0m\u001b[0;34m\u001b[0m\u001b[0;34m\u001b[0m\u001b[0m\n\u001b[0m\u001b[1;32m    991\u001b[0m \u001b[0;34m\u001b[0m\u001b[0m\n\u001b[1;32m    992\u001b[0m       \u001b[0;31m# invariant: `func_outputs` contains only Tensors, CompositeTensors,\u001b[0m\u001b[0;34m\u001b[0m\u001b[0;34m\u001b[0m\u001b[0;34m\u001b[0m\u001b[0m\n",
      "\u001b[0;32m~/.local/lib/python3.8/site-packages/tensorflow/python/eager/def_function.py\u001b[0m in \u001b[0;36mwrapped_fn\u001b[0;34m(*args, **kwds)\u001b[0m\n\u001b[1;32m    632\u001b[0m             \u001b[0mxla_context\u001b[0m\u001b[0;34m.\u001b[0m\u001b[0mExit\u001b[0m\u001b[0;34m(\u001b[0m\u001b[0;34m)\u001b[0m\u001b[0;34m\u001b[0m\u001b[0;34m\u001b[0m\u001b[0m\n\u001b[1;32m    633\u001b[0m         \u001b[0;32melse\u001b[0m\u001b[0;34m:\u001b[0m\u001b[0;34m\u001b[0m\u001b[0;34m\u001b[0m\u001b[0m\n\u001b[0;32m--> 634\u001b[0;31m           \u001b[0mout\u001b[0m \u001b[0;34m=\u001b[0m \u001b[0mweak_wrapped_fn\u001b[0m\u001b[0;34m(\u001b[0m\u001b[0;34m)\u001b[0m\u001b[0;34m.\u001b[0m\u001b[0m__wrapped__\u001b[0m\u001b[0;34m(\u001b[0m\u001b[0;34m*\u001b[0m\u001b[0margs\u001b[0m\u001b[0;34m,\u001b[0m \u001b[0;34m**\u001b[0m\u001b[0mkwds\u001b[0m\u001b[0;34m)\u001b[0m\u001b[0;34m\u001b[0m\u001b[0;34m\u001b[0m\u001b[0m\n\u001b[0m\u001b[1;32m    635\u001b[0m         \u001b[0;32mreturn\u001b[0m \u001b[0mout\u001b[0m\u001b[0;34m\u001b[0m\u001b[0;34m\u001b[0m\u001b[0m\n\u001b[1;32m    636\u001b[0m \u001b[0;34m\u001b[0m\u001b[0m\n",
      "\u001b[0;32m~/.local/lib/python3.8/site-packages/tensorflow/python/framework/func_graph.py\u001b[0m in \u001b[0;36mwrapper\u001b[0;34m(*args, **kwargs)\u001b[0m\n\u001b[1;32m    975\u001b[0m           \u001b[0;32mexcept\u001b[0m \u001b[0mException\u001b[0m \u001b[0;32mas\u001b[0m \u001b[0me\u001b[0m\u001b[0;34m:\u001b[0m  \u001b[0;31m# pylint:disable=broad-except\u001b[0m\u001b[0;34m\u001b[0m\u001b[0;34m\u001b[0m\u001b[0m\n\u001b[1;32m    976\u001b[0m             \u001b[0;32mif\u001b[0m \u001b[0mhasattr\u001b[0m\u001b[0;34m(\u001b[0m\u001b[0me\u001b[0m\u001b[0;34m,\u001b[0m \u001b[0;34m\"ag_error_metadata\"\u001b[0m\u001b[0;34m)\u001b[0m\u001b[0;34m:\u001b[0m\u001b[0;34m\u001b[0m\u001b[0;34m\u001b[0m\u001b[0m\n\u001b[0;32m--> 977\u001b[0;31m               \u001b[0;32mraise\u001b[0m \u001b[0me\u001b[0m\u001b[0;34m.\u001b[0m\u001b[0mag_error_metadata\u001b[0m\u001b[0;34m.\u001b[0m\u001b[0mto_exception\u001b[0m\u001b[0;34m(\u001b[0m\u001b[0me\u001b[0m\u001b[0;34m)\u001b[0m\u001b[0;34m\u001b[0m\u001b[0;34m\u001b[0m\u001b[0m\n\u001b[0m\u001b[1;32m    978\u001b[0m             \u001b[0;32melse\u001b[0m\u001b[0;34m:\u001b[0m\u001b[0;34m\u001b[0m\u001b[0;34m\u001b[0m\u001b[0m\n\u001b[1;32m    979\u001b[0m               \u001b[0;32mraise\u001b[0m\u001b[0;34m\u001b[0m\u001b[0;34m\u001b[0m\u001b[0m\n",
      "\u001b[0;31mValueError\u001b[0m: in user code:\n\n    /home/arun/.local/lib/python3.8/site-packages/tensorflow/python/keras/engine/training.py:805 train_function  *\n        return step_function(self, iterator)\n    /home/arun/.local/lib/python3.8/site-packages/tensorflow/python/keras/engine/training.py:795 step_function  **\n        outputs = model.distribute_strategy.run(run_step, args=(data,))\n    /home/arun/.local/lib/python3.8/site-packages/tensorflow/python/distribute/distribute_lib.py:1259 run\n        return self._extended.call_for_each_replica(fn, args=args, kwargs=kwargs)\n    /home/arun/.local/lib/python3.8/site-packages/tensorflow/python/distribute/distribute_lib.py:2730 call_for_each_replica\n        return self._call_for_each_replica(fn, args, kwargs)\n    /home/arun/.local/lib/python3.8/site-packages/tensorflow/python/distribute/distribute_lib.py:3417 _call_for_each_replica\n        return fn(*args, **kwargs)\n    /home/arun/.local/lib/python3.8/site-packages/tensorflow/python/keras/engine/training.py:788 run_step  **\n        outputs = model.train_step(data)\n    /home/arun/.local/lib/python3.8/site-packages/tensorflow/python/keras/engine/training.py:755 train_step\n        loss = self.compiled_loss(\n    /home/arun/.local/lib/python3.8/site-packages/tensorflow/python/keras/engine/compile_utils.py:203 __call__\n        loss_value = loss_obj(y_t, y_p, sample_weight=sw)\n    /home/arun/.local/lib/python3.8/site-packages/tensorflow/python/keras/losses.py:152 __call__\n        losses = call_fn(y_true, y_pred)\n    /home/arun/.local/lib/python3.8/site-packages/tensorflow/python/keras/losses.py:256 call  **\n        return ag_fn(y_true, y_pred, **self._fn_kwargs)\n    /home/arun/.local/lib/python3.8/site-packages/tensorflow/python/util/dispatch.py:201 wrapper\n        return target(*args, **kwargs)\n    /home/arun/.local/lib/python3.8/site-packages/tensorflow/python/keras/losses.py:1537 categorical_crossentropy\n        return K.categorical_crossentropy(y_true, y_pred, from_logits=from_logits)\n    /home/arun/.local/lib/python3.8/site-packages/tensorflow/python/util/dispatch.py:201 wrapper\n        return target(*args, **kwargs)\n    /home/arun/.local/lib/python3.8/site-packages/tensorflow/python/keras/backend.py:4833 categorical_crossentropy\n        target.shape.assert_is_compatible_with(output.shape)\n    /home/arun/.local/lib/python3.8/site-packages/tensorflow/python/framework/tensor_shape.py:1134 assert_is_compatible_with\n        raise ValueError(\"Shapes %s and %s are incompatible\" % (self, other))\n\n    ValueError: Shapes (None, 1) and (None, 3) are incompatible\n"
     ]
    }
   ],
   "source": [
    "history = model.fit(XTrain ,yTrain, batch_size=250, epochs=100, validation_split=0.2,\n",
    "         callbacks=[EarlyStopping(monitor='val_loss', patience=10, restore_best_weights=True)])"
   ]
  },
  {
   "cell_type": "code",
   "execution_count": 55,
   "metadata": {},
   "outputs": [],
   "source": [
    "# accuracy = history.history['accuracy']\n",
    "# valAccuracy = history.history['val_accuracy']\n",
    "# loss = history.history['loss']\n",
    "# valLoss = history.history['val_loss']\n",
    "# epochs = range(1, len(accuracy) + 1)\n",
    "\n",
    "# plt.style.use('ggplot')\n",
    "# fig, (ax1, ax2) = plt.subplots(nrows=2, ncols=1, figsize=(10,10))\n",
    "# plot = ax1.plot(epochs, accuracy, 'bo', label='Training Accuracy')\n",
    "# ax1.plot(epochs, valAccuracy, 'b', label='Validation Accuracy')\n",
    "# ax1.set(title='Training/Validation Accuracy', ylabel='Accuracy')\n",
    "# ax1.legend()\n",
    "\n",
    "# plot = ax2.plot(epochs, loss, 'bo', label='Training Loss')\n",
    "# ax2.plot(epochs, valLoss, 'b', label='Validation Loss')\n",
    "# ax2.set(title='Training/Validation Loss', ylabel='Loss', xlabel='Epochs')\n",
    "# ax2.legend()\n",
    "\n",
    "# fig.suptitle('Loss/Accuracy of the LSTM Sentiment Classifier', fontsize=16, fontweight = 'bold')"
   ]
  },
  {
   "cell_type": "code",
   "execution_count": 56,
   "metadata": {},
   "outputs": [],
   "source": [
    "# results = model.evaluate(XTest, yTest)"
   ]
  },
  {
   "cell_type": "code",
   "execution_count": 57,
   "metadata": {},
   "outputs": [],
   "source": [
    "# print(classification_report(np.argmax(yTest, 1), model.predict_classes(XTest)))"
   ]
  },
  {
   "cell_type": "code",
   "execution_count": 58,
   "metadata": {},
   "outputs": [],
   "source": [
    "# model.save('model.h5')"
   ]
  }
 ],
 "metadata": {
  "kernelspec": {
   "name": "python385jvsc74a57bd0916dbcbb3f70747c44a77c7bcd40155683ae19c65e1c03b4aa3499c5328201f1",
   "display_name": "Python 3.8.5 64-bit"
  },
  "language_info": {
   "codemirror_mode": {
    "name": "ipython",
    "version": 3
   },
   "file_extension": ".py",
   "mimetype": "text/x-python",
   "name": "python",
   "nbconvert_exporter": "python",
   "pygments_lexer": "ipython3",
   "version": "3.8.5"
  },
  "metadata": {
   "interpreter": {
    "hash": "916dbcbb3f70747c44a77c7bcd40155683ae19c65e1c03b4aa3499c5328201f1"
   }
  }
 },
 "nbformat": 4,
 "nbformat_minor": 4
}